{
 "cells": [
  {
   "cell_type": "markdown",
   "metadata": {
    "colab_type": "text",
    "id": "OrS978l68te1"
   },
   "source": [
    "**Задание 1**\n",
    "\n",
    "Проанализировать набор данных и ответить на следующие вопросы:\n",
    "\n",
    "1) Какой % наблюдений выходит за 5 и 95 перцентиль?\n",
    "\n",
    "2) Какому закону распределения отвечают данные? На основе чего вы так решили?\n",
    "\n",
    "[Ссылка на данные](https://drive.google.com/file/d/1fc8BGSjDiwbZW6rcr3mMSwAjU2T_BpGW/view?usp=sharing)\n",
    "\n",
    "Описание данных:\n",
    "\n",
    "* metrics -- значение определенной метрики в сервисе для пользователя (например, количество кликов). \n",
    "\n",
    "\n",
    "*Вместе с ответом на задание приложить код*"
   ]
  },
  {
   "cell_type": "code",
   "execution_count": 1,
   "metadata": {
    "colab": {
     "base_uri": "https://localhost:8080/",
     "height": 51
    },
    "colab_type": "code",
    "id": "KIstBIBQsYY7",
    "outputId": "44038aa4-dd8a-4813-fd53-0afc3c3d2ad0"
   },
   "outputs": [
    {
     "name": "stderr",
     "output_type": "stream",
     "text": [
      "/usr/local/lib/python3.6/dist-packages/statsmodels/tools/_testing.py:19: FutureWarning: pandas.util.testing is deprecated. Use the functions in the public API at pandas.testing instead.\n",
      "  import pandas.util.testing as tm\n"
     ]
    }
   ],
   "source": [
    "import pandas as pd\n",
    "import numpy as np\n",
    "import matplotlib.pyplot as plt\n",
    "from scipy.stats import gamma, norm\n",
    "from statsmodels.api import qqplot\n",
    "from scipy.stats import mannwhitneyu\n",
    "from scipy.stats import scoreatpercentile\n",
    "from scipy.stats import shapiro\n",
    "from scipy.stats import levene\n",
    "from scipy.stats import ttest_ind\n",
    "from scipy.stats import chisquare\n",
    "from scipy.stats import boxcox\n",
    "from scipy.stats import ks_2samp\n",
    "from scipy.stats import epps_singleton_2samp"
   ]
  },
  {
   "cell_type": "code",
   "execution_count": 0,
   "metadata": {
    "colab": {},
    "colab_type": "code",
    "id": "pQH8LKra8te2"
   },
   "outputs": [],
   "source": [
    "data = pd.read_csv('test_1_1.csv')"
   ]
  },
  {
   "cell_type": "code",
   "execution_count": 3,
   "metadata": {
    "colab": {
     "base_uri": "https://localhost:8080/",
     "height": 34
    },
    "colab_type": "code",
    "id": "kiIEJtld_XvN",
    "outputId": "74fa3017-e243-466c-d2bd-d993e744344e"
   },
   "outputs": [
    {
     "data": {
      "text/plain": [
       "Index([';\"metrics\"'], dtype='object')"
      ]
     },
     "execution_count": 3,
     "metadata": {
      "tags": []
     },
     "output_type": "execute_result"
    }
   ],
   "source": [
    "data.columns"
   ]
  },
  {
   "cell_type": "code",
   "execution_count": 0,
   "metadata": {
    "colab": {},
    "colab_type": "code",
    "id": "3k9DBCvR_oVE"
   },
   "outputs": [],
   "source": [
    "data = data.rename(columns={';\"metrics\"': \"metrics\"})"
   ]
  },
  {
   "cell_type": "code",
   "execution_count": 0,
   "metadata": {
    "colab": {},
    "colab_type": "code",
    "id": "tToEFiWZ-E9s"
   },
   "outputs": [],
   "source": [
    "data['metrics'] = data['metrics'].apply(lambda x: x.split(';')[1])"
   ]
  },
  {
   "cell_type": "code",
   "execution_count": 6,
   "metadata": {
    "colab": {
     "base_uri": "https://localhost:8080/",
     "height": 204
    },
    "colab_type": "code",
    "id": "TbVspvY0_dt-",
    "outputId": "8b20a00b-ae03-40e2-d6d7-3e2b6f52c005"
   },
   "outputs": [
    {
     "data": {
      "text/html": [
       "<div>\n",
       "<style scoped>\n",
       "    .dataframe tbody tr th:only-of-type {\n",
       "        vertical-align: middle;\n",
       "    }\n",
       "\n",
       "    .dataframe tbody tr th {\n",
       "        vertical-align: top;\n",
       "    }\n",
       "\n",
       "    .dataframe thead th {\n",
       "        text-align: right;\n",
       "    }\n",
       "</style>\n",
       "<table border=\"1\" class=\"dataframe\">\n",
       "  <thead>\n",
       "    <tr style=\"text-align: right;\">\n",
       "      <th></th>\n",
       "      <th>metrics</th>\n",
       "    </tr>\n",
       "  </thead>\n",
       "  <tbody>\n",
       "    <tr>\n",
       "      <th>0</th>\n",
       "      <td>1</td>\n",
       "    </tr>\n",
       "    <tr>\n",
       "      <th>1</th>\n",
       "      <td>1</td>\n",
       "    </tr>\n",
       "    <tr>\n",
       "      <th>2</th>\n",
       "      <td>4</td>\n",
       "    </tr>\n",
       "    <tr>\n",
       "      <th>3</th>\n",
       "      <td>1</td>\n",
       "    </tr>\n",
       "    <tr>\n",
       "      <th>4</th>\n",
       "      <td>1</td>\n",
       "    </tr>\n",
       "  </tbody>\n",
       "</table>\n",
       "</div>"
      ],
      "text/plain": [
       "  metrics\n",
       "0       1\n",
       "1       1\n",
       "2       4\n",
       "3       1\n",
       "4       1"
      ]
     },
     "execution_count": 6,
     "metadata": {
      "tags": []
     },
     "output_type": "execute_result"
    }
   ],
   "source": [
    "data.head()"
   ]
  },
  {
   "cell_type": "code",
   "execution_count": 0,
   "metadata": {
    "colab": {},
    "colab_type": "code",
    "id": "CRzz1QTaAjk0"
   },
   "outputs": [],
   "source": [
    "mass = data.metrics.to_numpy(dtype=np.int32)"
   ]
  },
  {
   "cell_type": "code",
   "execution_count": 0,
   "metadata": {
    "colab": {},
    "colab_type": "code",
    "id": "vcIVwJtOAWb-"
   },
   "outputs": [],
   "source": [
    "q5, q95 = np.percentile(mass, [5, 95])"
   ]
  },
  {
   "cell_type": "code",
   "execution_count": 86,
   "metadata": {
    "colab": {
     "base_uri": "https://localhost:8080/",
     "height": 736
    },
    "colab_type": "code",
    "id": "7Z5-WPjOA7AM",
    "outputId": "0eedfaea-5006-471c-ad7c-bc44f97e7a1a"
   },
   "outputs": [
    {
     "data": {
      "image/png": "[encoded data removed]",
      "text/plain": [
       "<Figure size 1440x864 with 1 Axes>"
      ]
     },
     "metadata": {
      "tags": []
     },
     "output_type": "display_data"
    }
   ],
   "source": [
    "plt.figure(figsize=(20,12))\n",
    "n1=plt.hist(mass, bins=100);\n",
    "line1 = plt.axvline(x=q5, linewidth=3, color='g',linestyle='--');\n",
    "plt.axvline(x=q95, linewidth=3, color='g',linestyle='--');\n",
    "plt.plot(n[1][:100], n1[0], linewidth=4, color='r', linestyle='-.');\n",
    "plt.title(\"Гистограмма на основе выборки, перцентили\", fontsize = 16)\n",
    "plt.xlabel(\"Значения метрики\", fontsize = 12)\n",
    "plt.ylabel(\"Частота\", fontsize = 12)\n",
    "plt.legend([line1], [\"5-ый, 95-ый перцентиль\"], fontsize = 12);"
   ]
  },
  {
   "cell_type": "markdown",
   "metadata": {
    "colab_type": "text",
    "id": "COJ6ku9_PuHm"
   },
   "source": [
    "5-ый перцентиль равен 1 и большое количество значений(>>5%) выборки равно 1, поэтому мы не получим заветных 95% после него. "
   ]
  },
  {
   "cell_type": "code",
   "execution_count": 87,
   "metadata": {
    "colab": {
     "base_uri": "https://localhost:8080/",
     "height": 34
    },
    "colab_type": "code",
    "id": "uBqk5OlnQHRk",
    "outputId": "5e6dfce2-e6b1-4b5c-ef5c-bb0e31c6ece0"
   },
   "outputs": [
    {
     "name": "stdout",
     "output_type": "stream",
     "text": [
      "Выходит за 5-ый перцентиль:  0.569673346608482\n"
     ]
    }
   ],
   "source": [
    "print(\"Выходит за 5-ый перцентиль: \", len(mass[mass > q5])/len(mass))"
   ]
  },
  {
   "cell_type": "code",
   "execution_count": 88,
   "metadata": {
    "colab": {
     "base_uri": "https://localhost:8080/",
     "height": 34
    },
    "colab_type": "code",
    "id": "4IjOdMwHETd4",
    "outputId": "34120523-0c27-4cb7-868f-9b38da5ac1eb"
   },
   "outputs": [
    {
     "name": "stdout",
     "output_type": "stream",
     "text": [
      "Выходит за 95-ый перцентиль:  0.04987306046493438\n"
     ]
    }
   ],
   "source": [
    "print(\"Выходит за 95-ый перцентиль: \", len(mass[mass > q95])/len(mass))"
   ]
  },
  {
   "cell_type": "code",
   "execution_count": 10,
   "metadata": {
    "colab": {
     "base_uri": "https://localhost:8080/",
     "height": 34
    },
    "colab_type": "code",
    "id": "msEtp6OcFoj5",
    "outputId": "61fff8c3-66f3-4f10-87b5-ec537a95f3dd"
   },
   "outputs": [
    {
     "name": "stdout",
     "output_type": "stream",
     "text": [
      "Первый момент :  10.146275408276\n"
     ]
    }
   ],
   "source": [
    "m1 = mass.mean()\n",
    "print('Первый момент : ', m1)"
   ]
  },
  {
   "cell_type": "code",
   "execution_count": 11,
   "metadata": {
    "colab": {
     "base_uri": "https://localhost:8080/",
     "height": 34
    },
    "colab_type": "code",
    "id": "WfukqhhWFsIu",
    "outputId": "891ebc5a-5d43-4b27-aa7f-e242e1ecdcb9"
   },
   "outputs": [
    {
     "name": "stdout",
     "output_type": "stream",
     "text": [
      "Второй момент:  614.9434687246406\n"
     ]
    }
   ],
   "source": [
    "m2 = np.square(mass).mean()\n",
    "print('Второй момент: ', m2)"
   ]
  },
  {
   "cell_type": "markdown",
   "metadata": {
    "colab_type": "text",
    "id": "hNZujGmJJ6CB"
   },
   "source": [
    "Распределено не нормально"
   ]
  },
  {
   "cell_type": "code",
   "execution_count": 12,
   "metadata": {
    "colab": {
     "base_uri": "https://localhost:8080/",
     "height": 279
    },
    "colab_type": "code",
    "id": "uC1tDh40J25o",
    "outputId": "e5a2b350-c637-4052-8cd7-2a7e2a651d14"
   },
   "outputs": [
    {
     "data": {
      "image/png": "[encoded data removed]",
      "text/plain": [
       "<Figure size 432x288 with 1 Axes>"
      ]
     },
     "metadata": {
      "tags": []
     },
     "output_type": "display_data"
    }
   ],
   "source": [
    "fig = qqplot(mass, norm, line='45', fit=True)"
   ]
  },
  {
   "cell_type": "markdown",
   "metadata": {
    "colab_type": "text",
    "id": "ZDGbh1l7LVdx"
   },
   "source": [
    "По методу моментов определим альфу и бета гамма-распределения"
   ]
  },
  {
   "cell_type": "code",
   "execution_count": 0,
   "metadata": {
    "colab": {},
    "colab_type": "code",
    "id": "EHe0VWsFdQmE"
   },
   "outputs": [],
   "source": [
    "np.random.seed(13)\n",
    "alpha = m1**2/(m2-m1**2)\n",
    "beta = m1/(m2-m1**2)\n",
    "X = gamma.rvs(scale=1/beta, a=alpha, size=len(mass))"
   ]
  },
  {
   "cell_type": "code",
   "execution_count": 14,
   "metadata": {
    "colab": {
     "base_uri": "https://localhost:8080/",
     "height": 279
    },
    "colab_type": "code",
    "id": "gAx4X0Kc64j2",
    "outputId": "166a3bc5-85b8-4fd8-a8c8-719514e5ea97"
   },
   "outputs": [
    {
     "data": {
      "image/png": "[encoded data removed]",
      "text/plain": [
       "<Figure size 432x288 with 1 Axes>"
      ]
     },
     "metadata": {
      "tags": []
     },
     "output_type": "display_data"
    }
   ],
   "source": [
    "fig = qqplot(X, norm, line='45', fit=True)"
   ]
  },
  {
   "cell_type": "code",
   "execution_count": 15,
   "metadata": {
    "colab": {
     "base_uri": "https://localhost:8080/",
     "height": 34
    },
    "colab_type": "code",
    "id": "m-y3t2O0H1_L",
    "outputId": "d98752de-5701-43c5-f360-7875637c66cd"
   },
   "outputs": [
    {
     "data": {
      "text/plain": [
       "0.20106952250505133"
      ]
     },
     "execution_count": 15,
     "metadata": {
      "tags": []
     },
     "output_type": "execute_result"
    }
   ],
   "source": [
    "alpha"
   ]
  },
  {
   "cell_type": "code",
   "execution_count": 16,
   "metadata": {
    "colab": {
     "base_uri": "https://localhost:8080/",
     "height": 34
    },
    "colab_type": "code",
    "id": "CTPACYlpIFk0",
    "outputId": "2c5cd739-1540-4680-f175-01ec3eed71f8"
   },
   "outputs": [
    {
     "data": {
      "text/plain": [
       "0.01981707714547598"
      ]
     },
     "execution_count": 16,
     "metadata": {
      "tags": []
     },
     "output_type": "execute_result"
    }
   ],
   "source": [
    "beta"
   ]
  },
  {
   "cell_type": "code",
   "execution_count": 17,
   "metadata": {
    "colab": {
     "base_uri": "https://localhost:8080/",
     "height": 735
    },
    "colab_type": "code",
    "id": "sZXMM3ycdSkk",
    "outputId": "fd57471a-9932-45c8-b119-a8801a4b2cfe"
   },
   "outputs": [
    {
     "data": {
      "image/png": "[encoded data removed]",
      "text/plain": [
       "<Figure size 1440x864 with 1 Axes>"
      ]
     },
     "metadata": {
      "tags": []
     },
     "output_type": "display_data"
    }
   ],
   "source": [
    "plt.figure(figsize=(20,12))\n",
    "n=plt.hist(X, bins=100);\n",
    "plt.plot(n[1][:100], n[0], linewidth=4, color='r', linestyle='-.');\n",
    "plt.title(\"Гистограмма полученного гамма-распределения\", fontsize = 16);\n",
    "plt.xlabel(\"Значения метрики\", fontsize = 12);\n",
    "plt.ylabel(\"Частота\", fontsize = 12);"
   ]
  },
  {
   "cell_type": "markdown",
   "metadata": {
    "colab_type": "text",
    "id": "441F8JF5J_hp"
   },
   "source": [
    "Применим критерий Хи-квадрат к исходным данным и полученному с помощью метода моментов гамма-распределению (известные альфа и бета)"
   ]
  },
  {
   "cell_type": "code",
   "execution_count": 18,
   "metadata": {
    "colab": {
     "base_uri": "https://localhost:8080/",
     "height": 34
    },
    "colab_type": "code",
    "id": "UIctRnDlD0Se",
    "outputId": "dab8eaf7-b1c7-470a-ab82-74f04bae8f5e"
   },
   "outputs": [
    {
     "data": {
      "text/plain": [
       "Power_divergenceResult(statistic=11.600994652997633, pvalue=1.0)"
      ]
     },
     "execution_count": 18,
     "metadata": {
      "tags": []
     },
     "output_type": "execute_result"
    }
   ],
   "source": [
    "chisquare(np.bincount(mass)[np.array(data.metrics.unique(), dtype=np.int16)]/np.sum(np.bincount(mass)), gamma.pdf(np.array(data.metrics.unique(), dtype=np.int16), scale=1/beta, a=alpha))"
   ]
  },
  {
   "cell_type": "markdown",
   "metadata": {
    "colab_type": "text",
    "id": "9kuyiyNaUUkF"
   },
   "source": [
    "1) 56.9 и 5\n",
    "\n",
    "2) Данные отвечают гамма-распределению. Вывод сделан на основе метода моментов и критерия Хи-квадрат."
   ]
  },
  {
   "cell_type": "markdown",
   "metadata": {
    "colab_type": "text",
    "id": "LrbrBGj08te8"
   },
   "source": [
    "**Задание 2**\n",
    "\n",
    "Определить, можно сравнить две представленные выборки t критерием Стьюдента? \n",
    "\n",
    "Если нельзя сравнивать t-критерием, то что будем использовать и почему?\n",
    "\n",
    "Ответ аргументировать и описать \n",
    "\n",
    "[Ссылка на данные](https://drive.google.com/file/d/1blvC6TEBWghhVMexjOdoGEjzhZZh3wSy/view?usp=sharing)\n",
    "\n",
    "Описание данных: \n",
    "\n",
    "* variant -- вариация в А/Б тесте (либо группа А -- например, сайт без изменений. Либо группа Б -- сайт с изменениями)\n",
    "* metrics -- значение определенной метрики в сервисе для пользователя (например, количество кликов). \n",
    "\n",
    "*Вместе с ответом на задание приложить код*"
   ]
  },
  {
   "cell_type": "code",
   "execution_count": 0,
   "metadata": {
    "colab": {},
    "colab_type": "code",
    "id": "JjcTYbbS8te9"
   },
   "outputs": [],
   "source": [
    "ab = pd.read_csv('test_1_2.csv')"
   ]
  },
  {
   "cell_type": "code",
   "execution_count": 20,
   "metadata": {
    "colab": {
     "base_uri": "https://localhost:8080/",
     "height": 34
    },
    "colab_type": "code",
    "id": "d4SfR7UMUyB3",
    "outputId": "e07b41a2-8845-412d-b1b8-f508a1b7cede"
   },
   "outputs": [
    {
     "data": {
      "text/plain": [
       "Index([';\"variant\";\"metrics\"'], dtype='object')"
      ]
     },
     "execution_count": 20,
     "metadata": {
      "tags": []
     },
     "output_type": "execute_result"
    }
   ],
   "source": [
    "ab.columns"
   ]
  },
  {
   "cell_type": "code",
   "execution_count": 0,
   "metadata": {
    "colab": {},
    "colab_type": "code",
    "id": "S9TjzPCzUyEP"
   },
   "outputs": [],
   "source": [
    "ab = ab.rename(columns={';\"variant\";\"metrics\"': \"variant+metrics\"})"
   ]
  },
  {
   "cell_type": "code",
   "execution_count": 0,
   "metadata": {
    "colab": {},
    "colab_type": "code",
    "id": "obF-t8d9UyGp"
   },
   "outputs": [],
   "source": [
    "ab['variant'] = ab[\"variant+metrics\"].apply(lambda x: x.split(';')[1])\n",
    "ab['metrics'] = ab[\"variant+metrics\"].apply(lambda x: x.split(';')[2])\n",
    "ab.drop(\"variant+metrics\", axis=1, inplace=True)"
   ]
  },
  {
   "cell_type": "code",
   "execution_count": 23,
   "metadata": {
    "colab": {
     "base_uri": "https://localhost:8080/",
     "height": 204
    },
    "colab_type": "code",
    "id": "-XUMpPYYUyKC",
    "outputId": "3f73bf10-25e8-4004-83c6-4ea757b46a46"
   },
   "outputs": [
    {
     "data": {
      "text/html": [
       "<div>\n",
       "<style scoped>\n",
       "    .dataframe tbody tr th:only-of-type {\n",
       "        vertical-align: middle;\n",
       "    }\n",
       "\n",
       "    .dataframe tbody tr th {\n",
       "        vertical-align: top;\n",
       "    }\n",
       "\n",
       "    .dataframe thead th {\n",
       "        text-align: right;\n",
       "    }\n",
       "</style>\n",
       "<table border=\"1\" class=\"dataframe\">\n",
       "  <thead>\n",
       "    <tr style=\"text-align: right;\">\n",
       "      <th></th>\n",
       "      <th>variant</th>\n",
       "      <th>metrics</th>\n",
       "    </tr>\n",
       "  </thead>\n",
       "  <tbody>\n",
       "    <tr>\n",
       "      <th>0</th>\n",
       "      <td>\"A\"</td>\n",
       "      <td>1</td>\n",
       "    </tr>\n",
       "    <tr>\n",
       "      <th>1</th>\n",
       "      <td>\"B\"</td>\n",
       "      <td>1</td>\n",
       "    </tr>\n",
       "    <tr>\n",
       "      <th>2</th>\n",
       "      <td>\"A\"</td>\n",
       "      <td>4</td>\n",
       "    </tr>\n",
       "    <tr>\n",
       "      <th>3</th>\n",
       "      <td>\"B\"</td>\n",
       "      <td>37</td>\n",
       "    </tr>\n",
       "    <tr>\n",
       "      <th>4</th>\n",
       "      <td>\"B\"</td>\n",
       "      <td>4</td>\n",
       "    </tr>\n",
       "  </tbody>\n",
       "</table>\n",
       "</div>"
      ],
      "text/plain": [
       "  variant metrics\n",
       "0     \"A\"       1\n",
       "1     \"B\"       1\n",
       "2     \"A\"       4\n",
       "3     \"B\"      37\n",
       "4     \"B\"       4"
      ]
     },
     "execution_count": 23,
     "metadata": {
      "tags": []
     },
     "output_type": "execute_result"
    }
   ],
   "source": [
    "ab.head()"
   ]
  },
  {
   "cell_type": "code",
   "execution_count": 0,
   "metadata": {
    "colab": {},
    "colab_type": "code",
    "id": "QeLXCDChWKlw"
   },
   "outputs": [],
   "source": [
    "A_data = ab[ab.variant == '\"A\"'].metrics.to_numpy(dtype=np.int32)"
   ]
  },
  {
   "cell_type": "code",
   "execution_count": 25,
   "metadata": {
    "colab": {
     "base_uri": "https://localhost:8080/",
     "height": 34
    },
    "colab_type": "code",
    "id": "1aUhJjEPWMAh",
    "outputId": "0348e1c5-8498-4c65-ae88-5e4b287b9a7c"
   },
   "outputs": [
    {
     "data": {
      "text/plain": [
       "array([ 1,  4, 15, ..., 12,  8,  1], dtype=int32)"
      ]
     },
     "execution_count": 25,
     "metadata": {
      "tags": []
     },
     "output_type": "execute_result"
    }
   ],
   "source": [
    "A_data"
   ]
  },
  {
   "cell_type": "code",
   "execution_count": 0,
   "metadata": {
    "colab": {},
    "colab_type": "code",
    "id": "_Ir0KV3eV43d"
   },
   "outputs": [],
   "source": [
    "B_data = ab[ab.variant == '\"B\"'].metrics.to_numpy(dtype=np.int32)"
   ]
  },
  {
   "cell_type": "code",
   "execution_count": 27,
   "metadata": {
    "colab": {
     "base_uri": "https://localhost:8080/",
     "height": 34
    },
    "colab_type": "code",
    "id": "l-yTj_AGWi3P",
    "outputId": "f3b60643-34b2-4d82-d2c9-c73df8c9d592"
   },
   "outputs": [
    {
     "data": {
      "text/plain": [
       "array([ 1, 37,  4, ...,  2, 11, 81], dtype=int32)"
      ]
     },
     "execution_count": 27,
     "metadata": {
      "tags": []
     },
     "output_type": "execute_result"
    }
   ],
   "source": [
    "B_data"
   ]
  },
  {
   "cell_type": "code",
   "execution_count": 28,
   "metadata": {
    "colab": {
     "base_uri": "https://localhost:8080/",
     "height": 596
    },
    "colab_type": "code",
    "id": "1gmO9uaOWpZ_",
    "outputId": "7c84dbee-2d84-4110-8874-f693d5573886"
   },
   "outputs": [
    {
     "data": {
      "image/png": "[encoded data removed]",
      "text/plain": [
       "<Figure size 2304x864 with 2 Axes>"
      ]
     },
     "metadata": {
      "tags": []
     },
     "output_type": "display_data"
    }
   ],
   "source": [
    "fig, (ax1, ax2) = plt.subplots(1, 2, figsize =(32,12))\n",
    "ax1.hist(A_data, bins=100);\n",
    "ax1.set_title(\"Гистограмма группы А\", fontsize = 16);\n",
    "ax1.set_xlabel(\"Значения метрики\", fontsize = 12);\n",
    "ax1.set_ylabel(\"Частота\", fontsize = 12);\n",
    "ax2.hist(B_data, bins=100);\n",
    "ax2.set_title(\"Гистограмма группы B\", fontsize = 16);\n",
    "ax2.set_xlabel(\"Значения метрики\", fontsize = 12);\n",
    "ax2.set_ylabel(\"Частота\", fontsize = 12);"
   ]
  },
  {
   "cell_type": "markdown",
   "metadata": {
    "colab_type": "text",
    "id": "cpEfspb2CFwW"
   },
   "source": [
    "Q-QPlot для нормального распределения"
   ]
  },
  {
   "cell_type": "code",
   "execution_count": 29,
   "metadata": {
    "colab": {
     "base_uri": "https://localhost:8080/",
     "height": 279
    },
    "colab_type": "code",
    "id": "-1du4lJdYx5W",
    "outputId": "79dea4dd-646f-48f1-e0a8-1b7da34100a5"
   },
   "outputs": [
    {
     "data": {
      "image/png": "[encoded data removed]",
      "text/plain": [
       "<Figure size 432x288 with 1 Axes>"
      ]
     },
     "metadata": {
      "tags": []
     },
     "output_type": "display_data"
    }
   ],
   "source": [
    "norm_dist = norm.rvs(size=1000)\n",
    "fig = qqplot(norm_dist, norm, line='45', fit=True)"
   ]
  },
  {
   "cell_type": "markdown",
   "metadata": {
    "colab_type": "text",
    "id": "QiHkocDRCNSV"
   },
   "source": [
    "Q-QPlot для наших выборок"
   ]
  },
  {
   "cell_type": "code",
   "execution_count": 30,
   "metadata": {
    "colab": {
     "base_uri": "https://localhost:8080/",
     "height": 279
    },
    "colab_type": "code",
    "id": "oNsqn25OZA_5",
    "outputId": "61679a09-d6a5-4ba9-9326-6f03d43c2d01"
   },
   "outputs": [
    {
     "data": {
      "image/png": "[encoded data removed]",
      "text/plain": [
       "<Figure size 432x288 with 1 Axes>"
      ]
     },
     "metadata": {
      "tags": []
     },
     "output_type": "display_data"
    }
   ],
   "source": [
    "fig = qqplot(A_data, norm, line='45', fit=True)"
   ]
  },
  {
   "cell_type": "code",
   "execution_count": 31,
   "metadata": {
    "colab": {
     "base_uri": "https://localhost:8080/",
     "height": 279
    },
    "colab_type": "code",
    "id": "cB-LN051ZEwB",
    "outputId": "662c4a64-6219-4a94-87f1-761d463bfea3"
   },
   "outputs": [
    {
     "data": {
      "image/png": "[encoded data removed]",
      "text/plain": [
       "<Figure size 432x288 with 1 Axes>"
      ]
     },
     "metadata": {
      "tags": []
     },
     "output_type": "display_data"
    }
   ],
   "source": [
    "fig = qqplot(B_data, norm, line='45', fit=True)"
   ]
  },
  {
   "cell_type": "code",
   "execution_count": 32,
   "metadata": {
    "colab": {
     "base_uri": "https://localhost:8080/",
     "height": 68
    },
    "colab_type": "code",
    "id": "v1-sOxf6Ny6I",
    "outputId": "f078d4f3-3387-450a-bab3-0e8dbfd677e5"
   },
   "outputs": [
    {
     "name": "stderr",
     "output_type": "stream",
     "text": [
      "/usr/local/lib/python3.6/dist-packages/scipy/stats/morestats.py:1676: UserWarning: p-value may not be accurate for N > 5000.\n",
      "  warnings.warn(\"p-value may not be accurate for N > 5000.\")\n"
     ]
    },
    {
     "data": {
      "text/plain": [
       "(0.4299488663673401, 0.0)"
      ]
     },
     "execution_count": 32,
     "metadata": {
      "tags": []
     },
     "output_type": "execute_result"
    }
   ],
   "source": [
    "shapiro(A_data)"
   ]
  },
  {
   "cell_type": "code",
   "execution_count": 33,
   "metadata": {
    "colab": {
     "base_uri": "https://localhost:8080/",
     "height": 68
    },
    "colab_type": "code",
    "id": "Stvfb9Z0OLOR",
    "outputId": "22d87f0a-bf24-4d1c-d325-9f27017563f8"
   },
   "outputs": [
    {
     "name": "stderr",
     "output_type": "stream",
     "text": [
      "/usr/local/lib/python3.6/dist-packages/scipy/stats/morestats.py:1676: UserWarning: p-value may not be accurate for N > 5000.\n",
      "  warnings.warn(\"p-value may not be accurate for N > 5000.\")\n"
     ]
    },
    {
     "data": {
      "text/plain": [
       "(0.45065927505493164, 0.0)"
      ]
     },
     "execution_count": 33,
     "metadata": {
      "tags": []
     },
     "output_type": "execute_result"
    }
   ],
   "source": [
    "shapiro(B_data)"
   ]
  },
  {
   "cell_type": "code",
   "execution_count": 34,
   "metadata": {
    "colab": {
     "base_uri": "https://localhost:8080/",
     "height": 34
    },
    "colab_type": "code",
    "id": "7CqO6hZpOPlo",
    "outputId": "40b11286-6da6-4580-9529-9324b74fec76"
   },
   "outputs": [
    {
     "data": {
      "text/plain": [
       "LeveneResult(statistic=4.313416821004634, pvalue=0.03781432358426188)"
      ]
     },
     "execution_count": 34,
     "metadata": {
      "tags": []
     },
     "output_type": "execute_result"
    }
   ],
   "source": [
    "levene(A_data, B_data)"
   ]
  },
  {
   "cell_type": "markdown",
   "metadata": {
    "colab_type": "text",
    "id": "fHw_Q_J-ZIeX"
   },
   "source": [
    "Выборки нельзя сравнить критерием Cтьюдента, т.к. не выполняется ни условие нормальности распределения, ни условие гомогенности дисперсий. Можем воспользоваться непараметрическим критерием Манна-Уитни, предложенным в лекции. "
   ]
  },
  {
   "cell_type": "code",
   "execution_count": 35,
   "metadata": {
    "colab": {
     "base_uri": "https://localhost:8080/",
     "height": 34
    },
    "colab_type": "code",
    "id": "BGgfv4lIf_Dm",
    "outputId": "294317aa-49b7-440b-b4a8-2fb1054b0d91"
   },
   "outputs": [
    {
     "data": {
      "text/plain": [
       "MannwhitneyuResult(statistic=4195358346.0, pvalue=1.365559131227319e-05)"
      ]
     },
     "execution_count": 35,
     "metadata": {
      "tags": []
     },
     "output_type": "execute_result"
    }
   ],
   "source": [
    "mannwhitneyu(A_data, B_data)"
   ]
  },
  {
   "cell_type": "markdown",
   "metadata": {
    "colab_type": "text",
    "id": "wW6xOaWihrKQ"
   },
   "source": [
    "Критерий Манна-Уитни представляет непараметрическую альтернативу t-критерия для независимых выборок. Преимущество его состоит в том, что мы отказываемся от предположения нормальности распределения и одинаковых дисперсий."
   ]
  },
  {
   "cell_type": "markdown",
   "metadata": {
    "colab_type": "text",
    "id": "vWtii1EUgBcI"
   },
   "source": [
    "P-value ~ 0, распределения разные"
   ]
  },
  {
   "cell_type": "markdown",
   "metadata": {
    "colab_type": "text",
    "id": "kREr-ZAP8tfA"
   },
   "source": [
    "**Задание 3**\n",
    "\n",
    "Дано две выборки по А/Б тесту.\n",
    "\n",
    "Две выборки несбалансированные - кол-во пользователей в каждой группе разные.\n",
    "\n",
    "Метрика, которую меряем в эксперименте (и которую используем для определения группы, которая лучше себя показала) - кол-во просмотренных страниц на пользователя \n",
    "\n",
    "Как вы будете принимать решение, какая группа лучше А или Б, и какие статистические методы (критерии) вы будете использовать, какие преобразования к данным применять? P.S. Вам может помочь лекция Виталия Черемисинова, где он рассказывал про А/Б тесты\n",
    "\n",
    "[Ссылка на данные](https://drive.google.com/file/d/1_g7Dw7-8QzTS47D6GNKMb0FzqMAWBDba/view?usp=sharing)\n",
    "\n",
    "Описание данных: \n",
    "\n",
    "* variant -- вариация в А/Б тесте (либо группа А -- например, сайт без изменений. Либо группа Б -- сайт с изменениями)\n",
    "* metrics -- значение определенной метрики в сервисе для пользователя (например, количество кликов). \n",
    "\n",
    "\n",
    "*Вместе с ответом на задание приложить код*"
   ]
  },
  {
   "cell_type": "code",
   "execution_count": 0,
   "metadata": {
    "colab": {},
    "colab_type": "code",
    "id": "AB0cJFXS8tfB"
   },
   "outputs": [],
   "source": [
    "ab2 = pd.read_csv('hw2_test_1_3.csv')"
   ]
  },
  {
   "cell_type": "code",
   "execution_count": 37,
   "metadata": {
    "colab": {
     "base_uri": "https://localhost:8080/",
     "height": 34
    },
    "colab_type": "code",
    "id": "hs6HocUFHJrM",
    "outputId": "0418a055-3275-4d8b-e6f0-9a408600d292"
   },
   "outputs": [
    {
     "data": {
      "text/plain": [
       "Index([';\"variant\";\"metrics\"'], dtype='object')"
      ]
     },
     "execution_count": 37,
     "metadata": {
      "tags": []
     },
     "output_type": "execute_result"
    }
   ],
   "source": [
    "ab2.columns"
   ]
  },
  {
   "cell_type": "code",
   "execution_count": 0,
   "metadata": {
    "colab": {},
    "colab_type": "code",
    "id": "8s_cILkZHJmy"
   },
   "outputs": [],
   "source": [
    "ab2 = ab2.rename(columns={';\"variant\";\"metrics\"': \"variant+metrics\"})"
   ]
  },
  {
   "cell_type": "code",
   "execution_count": 39,
   "metadata": {
    "colab": {
     "base_uri": "https://localhost:8080/",
     "height": 204
    },
    "colab_type": "code",
    "id": "r12Ax6xQHiGk",
    "outputId": "33affa27-d1dd-4393-d2b3-ea62e34a6f67"
   },
   "outputs": [
    {
     "data": {
      "text/html": [
       "<div>\n",
       "<style scoped>\n",
       "    .dataframe tbody tr th:only-of-type {\n",
       "        vertical-align: middle;\n",
       "    }\n",
       "\n",
       "    .dataframe tbody tr th {\n",
       "        vertical-align: top;\n",
       "    }\n",
       "\n",
       "    .dataframe thead th {\n",
       "        text-align: right;\n",
       "    }\n",
       "</style>\n",
       "<table border=\"1\" class=\"dataframe\">\n",
       "  <thead>\n",
       "    <tr style=\"text-align: right;\">\n",
       "      <th></th>\n",
       "      <th>variant</th>\n",
       "      <th>metrics</th>\n",
       "    </tr>\n",
       "  </thead>\n",
       "  <tbody>\n",
       "    <tr>\n",
       "      <th>0</th>\n",
       "      <td>\"A\"</td>\n",
       "      <td>1</td>\n",
       "    </tr>\n",
       "    <tr>\n",
       "      <th>1</th>\n",
       "      <td>\"A\"</td>\n",
       "      <td>4</td>\n",
       "    </tr>\n",
       "    <tr>\n",
       "      <th>2</th>\n",
       "      <td>\"A\"</td>\n",
       "      <td>15</td>\n",
       "    </tr>\n",
       "    <tr>\n",
       "      <th>3</th>\n",
       "      <td>\"A\"</td>\n",
       "      <td>1</td>\n",
       "    </tr>\n",
       "    <tr>\n",
       "      <th>4</th>\n",
       "      <td>\"A\"</td>\n",
       "      <td>10</td>\n",
       "    </tr>\n",
       "  </tbody>\n",
       "</table>\n",
       "</div>"
      ],
      "text/plain": [
       "  variant metrics\n",
       "0     \"A\"       1\n",
       "1     \"A\"       4\n",
       "2     \"A\"      15\n",
       "3     \"A\"       1\n",
       "4     \"A\"      10"
      ]
     },
     "execution_count": 39,
     "metadata": {
      "tags": []
     },
     "output_type": "execute_result"
    }
   ],
   "source": [
    "ab2['variant'] = ab2[\"variant+metrics\"].apply(lambda x: x.split(';')[1])\n",
    "ab2['metrics'] = ab2[\"variant+metrics\"].apply(lambda x: x.split(';')[2])\n",
    "ab2.drop(\"variant+metrics\", axis=1, inplace=True)\n",
    "ab2.head()"
   ]
  },
  {
   "cell_type": "code",
   "execution_count": 40,
   "metadata": {
    "colab": {
     "base_uri": "https://localhost:8080/",
     "height": 34
    },
    "colab_type": "code",
    "id": "krsJDBFtHujd",
    "outputId": "f1aa8ffb-1e02-4ab2-8014-599af0b599c4"
   },
   "outputs": [
    {
     "name": "stdout",
     "output_type": "stream",
     "text": [
      "92686\n"
     ]
    }
   ],
   "source": [
    "A_data2 = ab2[ab2.variant == '\"A\"'].metrics.to_numpy(dtype=np.int32)\n",
    "print(len(A_data2))"
   ]
  },
  {
   "cell_type": "code",
   "execution_count": 41,
   "metadata": {
    "colab": {
     "base_uri": "https://localhost:8080/",
     "height": 34
    },
    "colab_type": "code",
    "id": "e_ZMSM16H8SR",
    "outputId": "ede32671-a065-434e-808a-407f92ec2a61"
   },
   "outputs": [
    {
     "name": "stdout",
     "output_type": "stream",
     "text": [
      "15413\n"
     ]
    }
   ],
   "source": [
    "B_data2 = ab2[ab2.variant == '\"D\"'].metrics.to_numpy(dtype=np.int32)\n",
    "print(len(B_data2))"
   ]
  },
  {
   "cell_type": "code",
   "execution_count": 42,
   "metadata": {
    "colab": {
     "base_uri": "https://localhost:8080/",
     "height": 596
    },
    "colab_type": "code",
    "id": "gUEDE1cXItFe",
    "outputId": "db7e3d58-2f23-4cbc-c405-87ce52a3e240"
   },
   "outputs": [
    {
     "data": {
      "image/png": "[encoded data removed]",
      "text/plain": [
       "<Figure size 2304x864 with 2 Axes>"
      ]
     },
     "metadata": {
      "tags": []
     },
     "output_type": "display_data"
    }
   ],
   "source": [
    "fig, (ax1, ax2) = plt.subplots(1, 2, figsize =(32,12))\n",
    "ax1.hist(A_data2, bins=100);\n",
    "ax1.set_title(\"Гистограмма группы А\", fontsize = 16);\n",
    "ax1.set_xlabel(\"Значения метрики\", fontsize = 12);\n",
    "ax1.set_ylabel(\"Частота\", fontsize = 12);\n",
    "ax2.hist(B_data2, bins=100);\n",
    "ax2.set_title(\"Гистограмма группы B\", fontsize = 16);\n",
    "ax2.set_xlabel(\"Значения метрики\", fontsize = 12);\n",
    "ax2.set_ylabel(\"Частота\", fontsize = 12);"
   ]
  },
  {
   "cell_type": "code",
   "execution_count": 43,
   "metadata": {
    "colab": {
     "base_uri": "https://localhost:8080/",
     "height": 136
    },
    "colab_type": "code",
    "id": "xsI0T5XhuEOm",
    "outputId": "0a3d9ea7-e752-4aa8-b9ed-53990e16d32d"
   },
   "outputs": [
    {
     "name": "stdout",
     "output_type": "stream",
     "text": [
      "A_mean : 10.099561961892842\n",
      "B_mean : 9.942386297281516\n",
      "A_mean - B_mean: 0.15717566461132648\n",
      "A_std : 23.13002345542719\n",
      "B_std : 21.80203964440777\n",
      "A size : 92686\n",
      "B size : 15413\n"
     ]
    }
   ],
   "source": [
    "A_mean = np.mean(A_data2)\n",
    "B_mean = np.mean(B_data2)\n",
    "A_std = np.std(A_data2)\n",
    "B_std = np.std(B_data2)\n",
    "diff = abs(A_mean - B_mean)\n",
    "print('A_mean : %s' % A_mean)\n",
    "print('B_mean : %s' % B_mean)\n",
    "print('A_mean - B_mean: %s' % diff)\n",
    "print('A_std : %s' % A_std)\n",
    "print('B_std : %s' % B_std)\n",
    "print('A size : %s' % len(A_data2))\n",
    "print('B size : %s' % len(B_data2))"
   ]
  },
  {
   "cell_type": "markdown",
   "metadata": {
    "colab_type": "text",
    "id": "H9JidUm6Gfuj"
   },
   "source": [
    "**Bootstrap**\n",
    "\n",
    "https://www.youtube.com/watch?v=9STZ7MxkNVg\n",
    "\n",
    "Ho - распределения у групп одинаковые"
   ]
  },
  {
   "cell_type": "code",
   "execution_count": 44,
   "metadata": {
    "colab": {
     "base_uri": "https://localhost:8080/",
     "height": 323
    },
    "colab_type": "code",
    "id": "482atvxtGjxk",
    "outputId": "540b7b6d-1894-4087-8bd9-0665863c8a2f"
   },
   "outputs": [
    {
     "name": "stdout",
     "output_type": "stream",
     "text": [
      "Collecting bootstrapped\n",
      "  Downloading https://files.pythonhosted.org/packages/b2/f7/beb22809fdc4781ae73d12c78e2cf14ae533ad9eec2fb84ec22e5b0b660c/bootstrapped-0.0.2.tar.gz\n",
      "Requirement already satisfied: matplotlib>=1.5.3 in /usr/local/lib/python3.6/dist-packages (from bootstrapped) (3.2.1)\n",
      "Requirement already satisfied: numpy>=1.11.1 in /usr/local/lib/python3.6/dist-packages (from bootstrapped) (1.18.2)\n",
      "Requirement already satisfied: pandas>=0.18.1 in /usr/local/lib/python3.6/dist-packages (from bootstrapped) (1.0.3)\n",
      "Requirement already satisfied: pyparsing!=2.0.4,!=2.1.2,!=2.1.6,>=2.0.1 in /usr/local/lib/python3.6/dist-packages (from matplotlib>=1.5.3->bootstrapped) (2.4.6)\n",
      "Requirement already satisfied: cycler>=0.10 in /usr/local/lib/python3.6/dist-packages (from matplotlib>=1.5.3->bootstrapped) (0.10.0)\n",
      "Requirement already satisfied: python-dateutil>=2.1 in /usr/local/lib/python3.6/dist-packages (from matplotlib>=1.5.3->bootstrapped) (2.8.1)\n",
      "Requirement already satisfied: kiwisolver>=1.0.1 in /usr/local/lib/python3.6/dist-packages (from matplotlib>=1.5.3->bootstrapped) (1.2.0)\n",
      "Requirement already satisfied: pytz>=2017.2 in /usr/local/lib/python3.6/dist-packages (from pandas>=0.18.1->bootstrapped) (2018.9)\n",
      "Requirement already satisfied: six in /usr/local/lib/python3.6/dist-packages (from cycler>=0.10->matplotlib>=1.5.3->bootstrapped) (1.12.0)\n",
      "Building wheels for collected packages: bootstrapped\n",
      "  Building wheel for bootstrapped (setup.py) ... \u001b[?25l\u001b[?25hdone\n",
      "  Created wheel for bootstrapped: filename=bootstrapped-0.0.2-py2.py3-none-any.whl size=13954 sha256=c9e219a80f9f843fad2be4e6d75d728fc14a57f959b9fbd38d1de4947f804ca1\n",
      "  Stored in directory: /root/.cache/pip/wheels/38/23/ee/3493dbb0019f511085117a962bfadb1f7d221e7b78761943a7\n",
      "Successfully built bootstrapped\n",
      "Installing collected packages: bootstrapped\n",
      "Successfully installed bootstrapped-0.0.2\n"
     ]
    }
   ],
   "source": [
    "!pip install bootstrapped"
   ]
  },
  {
   "cell_type": "code",
   "execution_count": 0,
   "metadata": {
    "colab": {},
    "colab_type": "code",
    "id": "fDNK1XH8Gq4H"
   },
   "outputs": [],
   "source": [
    "import bootstrapped.bootstrap as bt\n",
    "import bootstrapped.stats_functions as sf"
   ]
  },
  {
   "cell_type": "code",
   "execution_count": 0,
   "metadata": {
    "colab": {},
    "colab_type": "code",
    "id": "mZzF4m9WX7sD"
   },
   "outputs": [],
   "source": [
    "def bootstrap(iters):\n",
    "  l = list()\n",
    "  for i in range(iters):\n",
    "    A = bt.bootstrap(ab2.metrics.to_numpy(dtype=np.int32), sf.mean, num_iterations=1, iteration_batch_size=len(A_data2), num_threads=4, return_distribution=True)\n",
    "    B = bt.bootstrap(ab2.metrics.to_numpy(dtype=np.int32), sf.mean, num_iterations=1, iteration_batch_size=len(B_data2), num_threads=4, return_distribution=True)\n",
    "    l.append(abs(A-B))\n",
    "  return l"
   ]
  },
  {
   "cell_type": "code",
   "execution_count": 0,
   "metadata": {
    "colab": {},
    "colab_type": "code",
    "id": "51NzBlj1Gym_"
   },
   "outputs": [],
   "source": [
    "num_iter = 1000\n",
    "means_diff = np.array(bootstrap(num_iter))"
   ]
  },
  {
   "cell_type": "code",
   "execution_count": 0,
   "metadata": {
    "colab": {},
    "colab_type": "code",
    "id": "45piBVY7bNZT"
   },
   "outputs": [],
   "source": [
    "Pval = len(means_diff[means_diff >= diff])/num_iter"
   ]
  },
  {
   "cell_type": "code",
   "execution_count": 49,
   "metadata": {
    "colab": {
     "base_uri": "https://localhost:8080/",
     "height": 34
    },
    "colab_type": "code",
    "id": "lp-h1YsaboCH",
    "outputId": "cefcd67a-6b34-48c3-c68b-02208c4ddfde"
   },
   "outputs": [
    {
     "name": "stdout",
     "output_type": "stream",
     "text": [
      "P-Value : 0.444\n"
     ]
    }
   ],
   "source": [
    "print(\"P-Value : %s\" %Pval)"
   ]
  },
  {
   "cell_type": "markdown",
   "metadata": {
    "colab_type": "text",
    "id": "BX0CXurQIyCM"
   },
   "source": [
    "Нулевая гипотеза не отвергается, распределения одинаковые"
   ]
  },
  {
   "cell_type": "markdown",
   "metadata": {
    "colab_type": "text",
    "id": "6frLZXU48tfF"
   },
   "source": [
    "**Задание 4**\n",
    "\n",
    "Есть данные с большой дисперсии у метрики (диспресию метрики можно посчитать для каждой группы). Для их дальнейшего анализа дисперсию необходимо сократить. Как определить, что дисперсия действительно большая? Если она большая, как вы будете ее чистить? Ответ аргументировать и описать.  P.S. Вам может помочь лекция Виталия Черемисинова, где он рассказывал про А/Б тесты\n",
    "\n",
    "Описание данных: \n",
    "\n",
    "* metrics -- значение определенной метрики в сервисе для пользователя (например, количество кликов). \n",
    "\n",
    "[Ссылка на данные](https://drive.google.com/file/d/1fc8BGSjDiwbZW6rcr3mMSwAjU2T_BpGW/view?usp=sharing)\n",
    "\n",
    "*Вместе с ответом на задание приложить код*"
   ]
  },
  {
   "cell_type": "code",
   "execution_count": 0,
   "metadata": {
    "colab": {},
    "colab_type": "code",
    "id": "SatIrljX6XjL"
   },
   "outputs": [],
   "source": [
    "miss4 = pd.read_csv('test_1_1.csv')"
   ]
  },
  {
   "cell_type": "code",
   "execution_count": 51,
   "metadata": {
    "colab": {
     "base_uri": "https://localhost:8080/",
     "height": 34
    },
    "colab_type": "code",
    "id": "Y54KUISs6XjY",
    "outputId": "aa459201-e233-40a4-c346-2e21c3e21000"
   },
   "outputs": [
    {
     "data": {
      "text/plain": [
       "Index([';\"metrics\"'], dtype='object')"
      ]
     },
     "execution_count": 51,
     "metadata": {
      "tags": []
     },
     "output_type": "execute_result"
    }
   ],
   "source": [
    "miss4.columns"
   ]
  },
  {
   "cell_type": "code",
   "execution_count": 0,
   "metadata": {
    "colab": {},
    "colab_type": "code",
    "id": "3gjCKoYI6Xjd"
   },
   "outputs": [],
   "source": [
    "miss4 = miss4.rename(columns={';\"metrics\"': \"metrics\"})"
   ]
  },
  {
   "cell_type": "code",
   "execution_count": 0,
   "metadata": {
    "colab": {},
    "colab_type": "code",
    "id": "E9F-v5Fb6Xjg"
   },
   "outputs": [],
   "source": [
    "miss4['metrics'] = miss4['metrics'].apply(lambda x: x.split(';')[1])"
   ]
  },
  {
   "cell_type": "code",
   "execution_count": 54,
   "metadata": {
    "colab": {
     "base_uri": "https://localhost:8080/",
     "height": 204
    },
    "colab_type": "code",
    "id": "g9tCjckn6Xjk",
    "outputId": "1dfbef3a-4ee8-4312-bcaa-224cde1617c7"
   },
   "outputs": [
    {
     "data": {
      "text/html": [
       "<div>\n",
       "<style scoped>\n",
       "    .dataframe tbody tr th:only-of-type {\n",
       "        vertical-align: middle;\n",
       "    }\n",
       "\n",
       "    .dataframe tbody tr th {\n",
       "        vertical-align: top;\n",
       "    }\n",
       "\n",
       "    .dataframe thead th {\n",
       "        text-align: right;\n",
       "    }\n",
       "</style>\n",
       "<table border=\"1\" class=\"dataframe\">\n",
       "  <thead>\n",
       "    <tr style=\"text-align: right;\">\n",
       "      <th></th>\n",
       "      <th>metrics</th>\n",
       "    </tr>\n",
       "  </thead>\n",
       "  <tbody>\n",
       "    <tr>\n",
       "      <th>0</th>\n",
       "      <td>1</td>\n",
       "    </tr>\n",
       "    <tr>\n",
       "      <th>1</th>\n",
       "      <td>1</td>\n",
       "    </tr>\n",
       "    <tr>\n",
       "      <th>2</th>\n",
       "      <td>4</td>\n",
       "    </tr>\n",
       "    <tr>\n",
       "      <th>3</th>\n",
       "      <td>1</td>\n",
       "    </tr>\n",
       "    <tr>\n",
       "      <th>4</th>\n",
       "      <td>1</td>\n",
       "    </tr>\n",
       "  </tbody>\n",
       "</table>\n",
       "</div>"
      ],
      "text/plain": [
       "  metrics\n",
       "0       1\n",
       "1       1\n",
       "2       4\n",
       "3       1\n",
       "4       1"
      ]
     },
     "execution_count": 54,
     "metadata": {
      "tags": []
     },
     "output_type": "execute_result"
    }
   ],
   "source": [
    "miss4.head()"
   ]
  },
  {
   "cell_type": "code",
   "execution_count": 0,
   "metadata": {
    "colab": {},
    "colab_type": "code",
    "id": "EhXfQouO_Eg3"
   },
   "outputs": [],
   "source": [
    "arr = miss4.metrics.to_numpy(dtype=np.int16)"
   ]
  },
  {
   "cell_type": "code",
   "execution_count": 56,
   "metadata": {
    "colab": {
     "base_uri": "https://localhost:8080/",
     "height": 85
    },
    "colab_type": "code",
    "id": "uthSyNNv_Ej5",
    "outputId": "261be89a-d919-4ec6-a12e-d591287408c4"
   },
   "outputs": [
    {
     "name": "stdout",
     "output_type": "stream",
     "text": [
      "Дисперсия :  511.99656406405427\n",
      "Минимальное значение метрики :  1\n",
      "Максимальное значение метрики :  998\n",
      "Среднее метрики :  10.146275408276\n"
     ]
    }
   ],
   "source": [
    "print(\"Дисперсия : \", arr.var())\n",
    "print(\"Минимальное значение метрики : \", arr.min())\n",
    "print(\"Максимальное значение метрики : \", arr.max())\n",
    "print(\"Среднее метрики : \", arr.mean())"
   ]
  },
  {
   "cell_type": "code",
   "execution_count": 57,
   "metadata": {
    "colab": {
     "base_uri": "https://localhost:8080/",
     "height": 736
    },
    "colab_type": "code",
    "id": "rQ7fph3fKvd_",
    "outputId": "43ba069f-a257-4acf-bfc1-ddb5a53573f9"
   },
   "outputs": [
    {
     "data": {
      "image/png": "[encoded data removed]",
      "text/plain": [
       "<Figure size 1440x864 with 1 Axes>"
      ]
     },
     "metadata": {
      "tags": []
     },
     "output_type": "display_data"
    }
   ],
   "source": [
    "plt.figure(figsize=(20,12))\n",
    "plt.hist(arr, bins=100);\n",
    "plt.title(\"Гистограмма на основе выборки\", fontsize = 16);\n",
    "plt.xlabel(\"Значения метрики\", fontsize = 12);\n",
    "plt.ylabel(\"Частота\", fontsize = 12);"
   ]
  },
  {
   "cell_type": "code",
   "execution_count": 0,
   "metadata": {
    "colab": {},
    "colab_type": "code",
    "id": "ls9nwggSLk3l"
   },
   "outputs": [],
   "source": [
    "scores = scoreatpercentile(arr, [[10, 20, 30, 40, 50, 60, 70, 80, 90, 100]])"
   ]
  },
  {
   "cell_type": "code",
   "execution_count": 59,
   "metadata": {
    "colab": {
     "base_uri": "https://localhost:8080/",
     "height": 80
    },
    "colab_type": "code",
    "id": "Ar5_wB5VLtM8",
    "outputId": "10154b46-3708-412b-f980-cf97ff4a13f9"
   },
   "outputs": [
    {
     "data": {
      "text/html": [
       "<div>\n",
       "<style scoped>\n",
       "    .dataframe tbody tr th:only-of-type {\n",
       "        vertical-align: middle;\n",
       "    }\n",
       "\n",
       "    .dataframe tbody tr th {\n",
       "        vertical-align: top;\n",
       "    }\n",
       "\n",
       "    .dataframe thead th {\n",
       "        text-align: right;\n",
       "    }\n",
       "</style>\n",
       "<table border=\"1\" class=\"dataframe\">\n",
       "  <thead>\n",
       "    <tr style=\"text-align: right;\">\n",
       "      <th></th>\n",
       "      <th>10%</th>\n",
       "      <th>20%</th>\n",
       "      <th>30%</th>\n",
       "      <th>40%</th>\n",
       "      <th>50%</th>\n",
       "      <th>60%</th>\n",
       "      <th>70%</th>\n",
       "      <th>80%</th>\n",
       "      <th>90%</th>\n",
       "      <th>100%</th>\n",
       "    </tr>\n",
       "  </thead>\n",
       "  <tbody>\n",
       "    <tr>\n",
       "      <th></th>\n",
       "      <td>1.0</td>\n",
       "      <td>1.0</td>\n",
       "      <td>1.0</td>\n",
       "      <td>1.0</td>\n",
       "      <td>2.0</td>\n",
       "      <td>3.0</td>\n",
       "      <td>5.0</td>\n",
       "      <td>10.0</td>\n",
       "      <td>29.0</td>\n",
       "      <td>998.0</td>\n",
       "    </tr>\n",
       "  </tbody>\n",
       "</table>\n",
       "</div>"
      ],
      "text/plain": [
       "  10%  20%  30%  40%  50%  60%  70%   80%   90%   100%\n",
       "  1.0  1.0  1.0  1.0  2.0  3.0  5.0  10.0  29.0  998.0"
      ]
     },
     "execution_count": 59,
     "metadata": {
      "tags": []
     },
     "output_type": "execute_result"
    }
   ],
   "source": [
    "scpd = pd.DataFrame(scores, columns=[\"10%\", \"20%\", \"30%\", \"40%\", \"50%\", \"60%\", \"70%\", \"80%\", \"90%\", \"100%\"], index=[\"\"])\n",
    "scpd.head()"
   ]
  },
  {
   "cell_type": "markdown",
   "metadata": {
    "colab_type": "text",
    "id": "GV6JE9FhK8y1"
   },
   "source": [
    "Чтобы понять, что дисперсия действительно большая достаточно взглянуть на децили и хвост гистограммы (значения доходят почти до 1000, а большинство данных лежит до 200)"
   ]
  },
  {
   "cell_type": "markdown",
   "metadata": {
    "colab_type": "text",
    "id": "HxyB18jjNtwX"
   },
   "source": [
    "**1) Децильный метод** (разбить выборку по децилям, в получившихся группах дисперсия будет меньше, чем в исходной выборке)\n",
    "\n",
    "- https://medium.com/statistics-experiments/%D0%B4%D0%B5%D1%86%D0%B8%D0%BB%D1%8C%D0%BD%D1%8B%D0%B9-%D0%BC%D0%B5%D1%82%D0%BE%D0%B4-%D0%B8%D0%BB%D0%B8-%D1%81%D0%BE%D0%BA%D1%80%D0%B0%D1%89%D0%B5%D0%BD%D0%B8%D0%B5-%D0%B4%D0%B8%D1%81%D0%BF%D0%B5%D1%80%D1%81%D0%B8%D0%B8-c06758059727\n",
    "\n",
    "- В первых четырех децилях дисперсия будет равна 0."
   ]
  },
  {
   "cell_type": "code",
   "execution_count": 0,
   "metadata": {
    "colab": {},
    "colab_type": "code",
    "id": "CW1rK31qNvex"
   },
   "outputs": [],
   "source": [
    "q05, q10, q25, q50, q75, q90, q95 = np.percentile(arr, [5, 10, 25, 50, 75, 90, 95])"
   ]
  },
  {
   "cell_type": "code",
   "execution_count": 0,
   "metadata": {
    "colab": {},
    "colab_type": "code",
    "id": "F1AOjQoz8g_x"
   },
   "outputs": [],
   "source": [
    "a1 = arr[np.logical_and((arr >= q05), (arr < q10))]\n",
    "a2 = arr[np.logical_and((arr >= q10), (arr < q25))]\n",
    "a3 = arr[np.logical_and((arr >= q25), (arr < q50))]\n",
    "a4 = arr[np.logical_and((arr >= q50), (arr < q75))]\n",
    "a5 = arr[np.logical_and((arr >= q75), (arr < q90))]\n",
    "a6= arr[np.logical_and((arr >= q90), (arr < q95))]"
   ]
  },
  {
   "cell_type": "code",
   "execution_count": 62,
   "metadata": {
    "colab": {
     "base_uri": "https://localhost:8080/",
     "height": 34
    },
    "colab_type": "code",
    "id": "5uqt46lQD1vm",
    "outputId": "11db09f0-59a2-4674-e6b5-94926283c0db"
   },
   "outputs": [
    {
     "data": {
      "text/plain": [
       "array([], dtype=int16)"
      ]
     },
     "execution_count": 62,
     "metadata": {
      "tags": []
     },
     "output_type": "execute_result"
    }
   ],
   "source": [
    "a1"
   ]
  },
  {
   "cell_type": "code",
   "execution_count": 63,
   "metadata": {
    "colab": {
     "base_uri": "https://localhost:8080/",
     "height": 34
    },
    "colab_type": "code",
    "id": "BOGhUSQUD9wT",
    "outputId": "9f62449d-eae0-46b5-b9d3-714293e17235"
   },
   "outputs": [
    {
     "data": {
      "text/plain": [
       "array([], dtype=int16)"
      ]
     },
     "execution_count": 63,
     "metadata": {
      "tags": []
     },
     "output_type": "execute_result"
    }
   ],
   "source": [
    "a2"
   ]
  },
  {
   "cell_type": "code",
   "execution_count": 64,
   "metadata": {
    "colab": {
     "base_uri": "https://localhost:8080/",
     "height": 119
    },
    "colab_type": "code",
    "id": "rqGYs6uF86CW",
    "outputId": "268deca7-e7ee-4810-de13-4a385318962d"
   },
   "outputs": [
    {
     "name": "stdout",
     "output_type": "stream",
     "text": [
      "Дисперсия 1-ой группы :  0.0\n",
      "Дисперсия 2-ой группы :  0.0\n",
      "Дисперсия 3-ей группы :  0.0\n",
      "Дисперсия 4-ой группы :  1.7392635802588017\n",
      "Дисперсия 5-ой группы :  37.5334263533404\n",
      "Дисперсия 6-ой группы :  43.37818755692629\n"
     ]
    }
   ],
   "source": [
    "print(\"Дисперсия 1-ой группы : \", 0.0)\n",
    "print(\"Дисперсия 2-ой группы : \", 0.0)\n",
    "print(\"Дисперсия 3-ей группы : \", a3.var())\n",
    "print(\"Дисперсия 4-ой группы : \", a4.var())\n",
    "print(\"Дисперсия 5-ой группы : \", a5.var())\n",
    "print(\"Дисперсия 6-ой группы : \", a6.var())"
   ]
  },
  {
   "cell_type": "code",
   "execution_count": 65,
   "metadata": {
    "colab": {
     "base_uri": "https://localhost:8080/",
     "height": 623
    },
    "colab_type": "code",
    "id": "2ZCffWQv_4DL",
    "outputId": "a2d43c55-8cec-45ec-c73a-a55c0c3b5b7a"
   },
   "outputs": [
    {
     "data": {
      "image/png": "[encoded data removed]",
      "text/plain": [
       "<Figure size 1440x720 with 4 Axes>"
      ]
     },
     "metadata": {
      "tags": []
     },
     "output_type": "display_data"
    }
   ],
   "source": [
    "fig, ((ax1, ax2), (ax4, ax5)) = plt.subplots(2, 2, figsize =(20,10))\n",
    "ax1.hist(a3, bins=100);\n",
    "ax1.set_title(\"Гистограмма 3-ей группы\", fontsize = 14);\n",
    "ax1.set_xlabel(\"Значения метрики\", fontsize = 10);\n",
    "ax1.set_ylabel(\"Частота\", fontsize = 10);\n",
    "ax2.hist(a4, bins=100);\n",
    "ax2.set_title(\"Гистограмма 4-ой группы\", fontsize = 14);\n",
    "ax2.set_xlabel(\"Значения метрики\", fontsize = 10);\n",
    "ax2.set_ylabel(\"Частота\", fontsize = 10);\n",
    "ax4.hist(a5, bins=100);\n",
    "ax4.set_title(\"Гистограмма 5-ой группы\", fontsize = 14);\n",
    "ax4.set_xlabel(\"Значения метрики\", fontsize = 10);\n",
    "ax4.set_ylabel(\"Частота\", fontsize = 10);\n",
    "ax5.hist(a6, bins=100);\n",
    "ax5.set_title(\"Гистограмма 6-ой группы\", fontsize = 14);\n",
    "ax5.set_xlabel(\"Значения метрики\", fontsize = 10);\n",
    "ax5.set_ylabel(\"Частота\", fontsize = 10);"
   ]
  },
  {
   "cell_type": "markdown",
   "metadata": {
    "colab_type": "text",
    "id": "z48DIZB9MfQm"
   },
   "source": [
    "Заметим, что в каждой из полученных групп дисперсия меньше, чем у исходной выборки"
   ]
  },
  {
   "cell_type": "markdown",
   "metadata": {
    "colab_type": "text",
    "id": "WcBpw1udNsD9"
   },
   "source": [
    "**2) Преобразование Бокса-Кокса**"
   ]
  },
  {
   "cell_type": "markdown",
   "metadata": {
    "colab_type": "text",
    "id": "nmT73itpMkjR"
   },
   "source": [
    "- один из самых популярных методов. Данный метод является степенным преобразованием, определяющим, что надо сделать с данными с помощью метода максимального правдоподобия (параметр лямбда, если = 1/2, то корень и т.д.). В простейшем случае (лямбда=0) берется логарифм. По сути, данное преобразование \"поджимает\" правый хвост распределения к большинству значений."
   ]
  },
  {
   "cell_type": "code",
   "execution_count": 0,
   "metadata": {
    "colab": {},
    "colab_type": "code",
    "id": "G7MPlQzl8Dsz"
   },
   "outputs": [],
   "source": [
    "boxcox_arr, lmbd = boxcox(arr)"
   ]
  },
  {
   "cell_type": "code",
   "execution_count": 67,
   "metadata": {
    "colab": {
     "base_uri": "https://localhost:8080/",
     "height": 34
    },
    "colab_type": "code",
    "id": "1pNK6ZX6dHLB",
    "outputId": "0fe84011-0d21-4e5c-98ec-1beb04f9e6af"
   },
   "outputs": [
    {
     "data": {
      "text/plain": [
       "-0.4880351823340912"
      ]
     },
     "execution_count": 67,
     "metadata": {
      "tags": []
     },
     "output_type": "execute_result"
    }
   ],
   "source": [
    "lmbd"
   ]
  },
  {
   "cell_type": "markdown",
   "metadata": {
    "colab_type": "text",
    "id": "Hl472KyWeQzu"
   },
   "source": [
    "Применяется преобразование ~ 1/sqrt(x)"
   ]
  },
  {
   "cell_type": "code",
   "execution_count": 68,
   "metadata": {
    "colab": {
     "base_uri": "https://localhost:8080/",
     "height": 85
    },
    "colab_type": "code",
    "id": "qW-Gb_lBNpIk",
    "outputId": "89b293ce-74c1-431d-b8be-329b1ba94f97"
   },
   "outputs": [
    {
     "name": "stdout",
     "output_type": "stream",
     "text": [
      "Дисперсия (log):  0.4341617619934395\n",
      "Минимальное значение метрики (log):  0.0\n",
      "Максимальное значение метрики (log):  1.978584768426767\n",
      "Среднее метрики (log):  0.6640930443772312\n"
     ]
    }
   ],
   "source": [
    "print(\"Дисперсия (log): \", boxcox_arr.var())\n",
    "print(\"Минимальное значение метрики (log): \", boxcox_arr.min())\n",
    "print(\"Максимальное значение метрики (log): \", boxcox_arr.max())\n",
    "print(\"Среднее метрики (log): \", boxcox_arr.mean())"
   ]
  },
  {
   "cell_type": "markdown",
   "metadata": {
    "colab_type": "text",
    "id": "wPLPBhZbL7xU"
   },
   "source": [
    "Посмотрим на дисперсии"
   ]
  },
  {
   "cell_type": "code",
   "execution_count": 69,
   "metadata": {
    "colab": {
     "base_uri": "https://localhost:8080/",
     "height": 34
    },
    "colab_type": "code",
    "id": "hpZrU1e-L7WP",
    "outputId": "075adee4-662f-4579-b829-1af9541a078a"
   },
   "outputs": [
    {
     "name": "stdout",
     "output_type": "stream",
     "text": [
      "Дисперсия уменьшилась в 1179.2760415224934\n"
     ]
    }
   ],
   "source": [
    "print(\"Дисперсия уменьшилась в %s\" %(arr.var()/boxcox_arr.var()))"
   ]
  },
  {
   "cell_type": "markdown",
   "metadata": {
    "colab_type": "text",
    "id": "i483hzFC8tfJ"
   },
   "source": [
    "**Задание 5**\n",
    "\n",
    "Есть эксперимент с поисковыми подсказками. Вы хотим узнать, как изменился CTR в каждой группе эксперимента.\n",
    "\n",
    "**Данные**\n",
    "\n",
    "- id - уникальный идентификатор пользователя\n",
    "- action -\n",
    "- view - кол-во просмотров на одну сессию\n",
    "- variant - вариант a/b теста, где 0 - это версия \"A\", 1 -  версия \"B\".\n",
    "\n",
    "**Задача**\n",
    "\n",
    "- сформировать метрику для оценки эксперимента\n",
    "- подобрать критерий под особенности данных\n",
    "- сделать вывод о значимости эффекта\n",
    "\n",
    "**Данные** \n",
    "\n",
    "[Ссылка на данные](https://www.dropbox.com/s/fdki267uilkfq7l/task5.csv)"
   ]
  },
  {
   "cell_type": "code",
   "execution_count": 0,
   "metadata": {
    "colab": {},
    "colab_type": "code",
    "id": "rJzuC7SR_T8y"
   },
   "outputs": [],
   "source": [
    "miss5 = pd.read_csv('task5.csv')"
   ]
  },
  {
   "cell_type": "code",
   "execution_count": 71,
   "metadata": {
    "colab": {
     "base_uri": "https://localhost:8080/",
     "height": 34
    },
    "colab_type": "code",
    "id": "a3tB-VwU_T89",
    "outputId": "c234a034-41d5-47f8-be61-70412c6edf60"
   },
   "outputs": [
    {
     "data": {
      "text/plain": [
       "Index(['id', 'variant', 'view', 'action'], dtype='object')"
      ]
     },
     "execution_count": 71,
     "metadata": {
      "tags": []
     },
     "output_type": "execute_result"
    }
   ],
   "source": [
    "miss5.columns"
   ]
  },
  {
   "cell_type": "code",
   "execution_count": 72,
   "metadata": {
    "colab": {
     "base_uri": "https://localhost:8080/",
     "height": 204
    },
    "colab_type": "code",
    "id": "t_o3Xk99_T9F",
    "outputId": "69e17325-5f86-4b7f-9f87-407d8b845f09"
   },
   "outputs": [
    {
     "data": {
      "text/html": [
       "<div>\n",
       "<style scoped>\n",
       "    .dataframe tbody tr th:only-of-type {\n",
       "        vertical-align: middle;\n",
       "    }\n",
       "\n",
       "    .dataframe tbody tr th {\n",
       "        vertical-align: top;\n",
       "    }\n",
       "\n",
       "    .dataframe thead th {\n",
       "        text-align: right;\n",
       "    }\n",
       "</style>\n",
       "<table border=\"1\" class=\"dataframe\">\n",
       "  <thead>\n",
       "    <tr style=\"text-align: right;\">\n",
       "      <th></th>\n",
       "      <th>id</th>\n",
       "      <th>variant</th>\n",
       "      <th>view</th>\n",
       "      <th>action</th>\n",
       "    </tr>\n",
       "  </thead>\n",
       "  <tbody>\n",
       "    <tr>\n",
       "      <th>0</th>\n",
       "      <td>88258</td>\n",
       "      <td>A</td>\n",
       "      <td>10</td>\n",
       "      <td>2</td>\n",
       "    </tr>\n",
       "    <tr>\n",
       "      <th>1</th>\n",
       "      <td>109938</td>\n",
       "      <td>A</td>\n",
       "      <td>3</td>\n",
       "      <td>1</td>\n",
       "    </tr>\n",
       "    <tr>\n",
       "      <th>2</th>\n",
       "      <td>117644</td>\n",
       "      <td>A</td>\n",
       "      <td>7</td>\n",
       "      <td>5</td>\n",
       "    </tr>\n",
       "    <tr>\n",
       "      <th>3</th>\n",
       "      <td>374080</td>\n",
       "      <td>A</td>\n",
       "      <td>9</td>\n",
       "      <td>9</td>\n",
       "    </tr>\n",
       "    <tr>\n",
       "      <th>4</th>\n",
       "      <td>662082</td>\n",
       "      <td>A</td>\n",
       "      <td>1</td>\n",
       "      <td>1</td>\n",
       "    </tr>\n",
       "  </tbody>\n",
       "</table>\n",
       "</div>"
      ],
      "text/plain": [
       "       id variant  view  action\n",
       "0   88258       A    10       2\n",
       "1  109938       A     3       1\n",
       "2  117644       A     7       5\n",
       "3  374080       A     9       9\n",
       "4  662082       A     1       1"
      ]
     },
     "execution_count": 72,
     "metadata": {
      "tags": []
     },
     "output_type": "execute_result"
    }
   ],
   "source": [
    "miss5.head()"
   ]
  },
  {
   "cell_type": "markdown",
   "metadata": {
    "colab_type": "text",
    "id": "nRYiFqa9_gqm"
   },
   "source": [
    "- CTR - click-through rate, отношение числа кликов(action) к числу показов(view)"
   ]
  },
  {
   "cell_type": "code",
   "execution_count": 0,
   "metadata": {
    "colab": {},
    "colab_type": "code",
    "id": "B5tjZqM08tfK"
   },
   "outputs": [],
   "source": [
    "miss5['metrics'] = miss5['action']/miss5['view']"
   ]
  },
  {
   "cell_type": "code",
   "execution_count": 74,
   "metadata": {
    "colab": {
     "base_uri": "https://localhost:8080/",
     "height": 204
    },
    "colab_type": "code",
    "id": "tn98ER6H_5Wc",
    "outputId": "0ed4553d-3538-469c-b02a-6bac599d3036"
   },
   "outputs": [
    {
     "data": {
      "text/html": [
       "<div>\n",
       "<style scoped>\n",
       "    .dataframe tbody tr th:only-of-type {\n",
       "        vertical-align: middle;\n",
       "    }\n",
       "\n",
       "    .dataframe tbody tr th {\n",
       "        vertical-align: top;\n",
       "    }\n",
       "\n",
       "    .dataframe thead th {\n",
       "        text-align: right;\n",
       "    }\n",
       "</style>\n",
       "<table border=\"1\" class=\"dataframe\">\n",
       "  <thead>\n",
       "    <tr style=\"text-align: right;\">\n",
       "      <th></th>\n",
       "      <th>id</th>\n",
       "      <th>variant</th>\n",
       "      <th>view</th>\n",
       "      <th>action</th>\n",
       "      <th>metrics</th>\n",
       "    </tr>\n",
       "  </thead>\n",
       "  <tbody>\n",
       "    <tr>\n",
       "      <th>0</th>\n",
       "      <td>88258</td>\n",
       "      <td>A</td>\n",
       "      <td>10</td>\n",
       "      <td>2</td>\n",
       "      <td>0.200000</td>\n",
       "    </tr>\n",
       "    <tr>\n",
       "      <th>1</th>\n",
       "      <td>109938</td>\n",
       "      <td>A</td>\n",
       "      <td>3</td>\n",
       "      <td>1</td>\n",
       "      <td>0.333333</td>\n",
       "    </tr>\n",
       "    <tr>\n",
       "      <th>2</th>\n",
       "      <td>117644</td>\n",
       "      <td>A</td>\n",
       "      <td>7</td>\n",
       "      <td>5</td>\n",
       "      <td>0.714286</td>\n",
       "    </tr>\n",
       "    <tr>\n",
       "      <th>3</th>\n",
       "      <td>374080</td>\n",
       "      <td>A</td>\n",
       "      <td>9</td>\n",
       "      <td>9</td>\n",
       "      <td>1.000000</td>\n",
       "    </tr>\n",
       "    <tr>\n",
       "      <th>4</th>\n",
       "      <td>662082</td>\n",
       "      <td>A</td>\n",
       "      <td>1</td>\n",
       "      <td>1</td>\n",
       "      <td>1.000000</td>\n",
       "    </tr>\n",
       "  </tbody>\n",
       "</table>\n",
       "</div>"
      ],
      "text/plain": [
       "       id variant  view  action   metrics\n",
       "0   88258       A    10       2  0.200000\n",
       "1  109938       A     3       1  0.333333\n",
       "2  117644       A     7       5  0.714286\n",
       "3  374080       A     9       9  1.000000\n",
       "4  662082       A     1       1  1.000000"
      ]
     },
     "execution_count": 74,
     "metadata": {
      "tags": []
     },
     "output_type": "execute_result"
    }
   ],
   "source": [
    "miss5.head()"
   ]
  },
  {
   "cell_type": "code",
   "execution_count": 0,
   "metadata": {
    "colab": {},
    "colab_type": "code",
    "id": "CdW3bze0_6pO"
   },
   "outputs": [],
   "source": [
    "A_5 = miss5[miss5.variant == 'A'].metrics"
   ]
  },
  {
   "cell_type": "code",
   "execution_count": 76,
   "metadata": {
    "colab": {
     "base_uri": "https://localhost:8080/",
     "height": 34
    },
    "colab_type": "code",
    "id": "8G0EoRuRAk6P",
    "outputId": "44a3544d-b050-495a-95f4-8593baf804f3"
   },
   "outputs": [
    {
     "data": {
      "text/plain": [
       "4646"
      ]
     },
     "execution_count": 76,
     "metadata": {
      "tags": []
     },
     "output_type": "execute_result"
    }
   ],
   "source": [
    "len(A_5)"
   ]
  },
  {
   "cell_type": "code",
   "execution_count": 0,
   "metadata": {
    "colab": {},
    "colab_type": "code",
    "id": "rf3KafDOAl8z"
   },
   "outputs": [],
   "source": [
    "B_5 = miss5[miss5.variant == 'B'].metrics"
   ]
  },
  {
   "cell_type": "code",
   "execution_count": 78,
   "metadata": {
    "colab": {
     "base_uri": "https://localhost:8080/",
     "height": 34
    },
    "colab_type": "code",
    "id": "MgmMI7sOAqks",
    "outputId": "5a8ab356-0ed5-4331-dba2-cd1ed129129d"
   },
   "outputs": [
    {
     "data": {
      "text/plain": [
       "3545"
      ]
     },
     "execution_count": 78,
     "metadata": {
      "tags": []
     },
     "output_type": "execute_result"
    }
   ],
   "source": [
    "len(B_5)"
   ]
  },
  {
   "cell_type": "code",
   "execution_count": 79,
   "metadata": {
    "colab": {
     "base_uri": "https://localhost:8080/",
     "height": 598
    },
    "colab_type": "code",
    "id": "dRYfhKr5AsBm",
    "outputId": "b790b122-700c-492b-926a-10587df0842c"
   },
   "outputs": [
    {
     "data": {
      "image/png": "[encoded data removed]",
      "text/plain": [
       "<Figure size 2304x864 with 2 Axes>"
      ]
     },
     "metadata": {
      "tags": []
     },
     "output_type": "display_data"
    }
   ],
   "source": [
    "fig, (ax1, ax2) = plt.subplots(1, 2, figsize =(32,12))\n",
    "ax1.hist(A_5, bins=50);\n",
    "ax1.set_title(\"Гистограмма группы А\", fontsize = 16);\n",
    "ax1.set_xlabel(\"Значения метрики\", fontsize = 12);\n",
    "ax1.set_ylabel(\"Частота\", fontsize = 12);\n",
    "ax2.hist(B_5, bins=50);\n",
    "ax2.set_title(\"Гистограмма группы B\", fontsize = 16);\n",
    "ax2.set_xlabel(\"Значения метрики\", fontsize = 12);\n",
    "ax2.set_ylabel(\"Частота\", fontsize = 12);"
   ]
  },
  {
   "cell_type": "code",
   "execution_count": 80,
   "metadata": {
    "colab": {
     "base_uri": "https://localhost:8080/",
     "height": 51
    },
    "colab_type": "code",
    "id": "8LWqY5F_A0b8",
    "outputId": "f951f0b7-63b8-4ebd-d1fc-e014437e65f3"
   },
   "outputs": [
    {
     "name": "stdout",
     "output_type": "stream",
     "text": [
      "Среднее значение метрики в группе А : 0.7615838991498777\n",
      "Среднее значение метрики в группе B : 0.7564976441639704\n"
     ]
    }
   ],
   "source": [
    "print(\"Среднее значение метрики в группе А : %s\" %A_5.mean())\n",
    "print(\"Среднее значение метрики в группе B : %s\"%B_5.mean())"
   ]
  },
  {
   "cell_type": "code",
   "execution_count": 81,
   "metadata": {
    "colab": {
     "base_uri": "https://localhost:8080/",
     "height": 34
    },
    "colab_type": "code",
    "id": "SUs0A3HKDmuM",
    "outputId": "6d9ac043-f4c4-4992-a2be-3e96bb723f79"
   },
   "outputs": [
    {
     "data": {
      "text/plain": [
       "(0.7713507413864136, 0.0)"
      ]
     },
     "execution_count": 81,
     "metadata": {
      "tags": []
     },
     "output_type": "execute_result"
    }
   ],
   "source": [
    "shapiro(A_5)"
   ]
  },
  {
   "cell_type": "code",
   "execution_count": 82,
   "metadata": {
    "colab": {
     "base_uri": "https://localhost:8080/",
     "height": 34
    },
    "colab_type": "code",
    "id": "28VDdn4wDoku",
    "outputId": "d0944f3c-9847-453e-efe1-6786c6d34af4"
   },
   "outputs": [
    {
     "data": {
      "text/plain": [
       "(0.7792290449142456, 0.0)"
      ]
     },
     "execution_count": 82,
     "metadata": {
      "tags": []
     },
     "output_type": "execute_result"
    }
   ],
   "source": [
    "shapiro(B_5)"
   ]
  },
  {
   "cell_type": "markdown",
   "metadata": {
    "colab_type": "text",
    "id": "aHWja4k4DuSz"
   },
   "source": [
    "Данные в обеих группах распределены не нормально"
   ]
  },
  {
   "cell_type": "markdown",
   "metadata": {
    "colab_type": "text",
    "id": "0bM3Ulj1BUXe"
   },
   "source": [
    "Попробуем несколько непараметрических критериев"
   ]
  },
  {
   "cell_type": "markdown",
   "metadata": {
    "colab_type": "text",
    "id": "DspZY4aBBh42"
   },
   "source": [
    "- Двухвыборочный критерий Колмогорова-Смирнова"
   ]
  },
  {
   "cell_type": "code",
   "execution_count": 83,
   "metadata": {
    "colab": {
     "base_uri": "https://localhost:8080/",
     "height": 34
    },
    "colab_type": "code",
    "id": "U-ut9Fc1BLwE",
    "outputId": "b0410a64-a0f2-45e2-e3de-e6f5a3bcdbc2"
   },
   "outputs": [
    {
     "data": {
      "text/plain": [
       "Ks_2sampResult(statistic=0.01283722534269739, pvalue=1.0)"
      ]
     },
     "execution_count": 83,
     "metadata": {
      "tags": []
     },
     "output_type": "execute_result"
    }
   ],
   "source": [
    "ks_2samp(A_5, B_5)"
   ]
  },
  {
   "cell_type": "markdown",
   "metadata": {
    "colab_type": "text",
    "id": "o3U1lIMpBjGA"
   },
   "source": [
    "- Манна-Уитни"
   ]
  },
  {
   "cell_type": "code",
   "execution_count": 84,
   "metadata": {
    "colab": {
     "base_uri": "https://localhost:8080/",
     "height": 34
    },
    "colab_type": "code",
    "id": "xVJqRalQBkDV",
    "outputId": "74ff811a-a5d5-4f0d-be8d-83c55d3bf9d8"
   },
   "outputs": [
    {
     "data": {
      "text/plain": [
       "MannwhitneyuResult(statistic=8144665.5, pvalue=0.17854643929605546)"
      ]
     },
     "execution_count": 84,
     "metadata": {
      "tags": []
     },
     "output_type": "execute_result"
    }
   ],
   "source": [
    "mannwhitneyu(A_5, B_5)"
   ]
  },
  {
   "cell_type": "markdown",
   "metadata": {
    "colab_type": "text",
    "id": "Vd6Zq1WdJzw3"
   },
   "source": [
    "- Epps-Singleton (ES) test"
   ]
  },
  {
   "cell_type": "code",
   "execution_count": 85,
   "metadata": {
    "colab": {
     "base_uri": "https://localhost:8080/",
     "height": 34
    },
    "colab_type": "code",
    "id": "zrN0m_7wJz8D",
    "outputId": "859c40be-ebc8-4ddb-fba0-b32136f16ef4"
   },
   "outputs": [
    {
     "data": {
      "text/plain": [
       "Epps_Singleton_2sampResult(statistic=3.8858430546532046, pvalue=0.4216757089333121)"
      ]
     },
     "execution_count": 85,
     "metadata": {
      "tags": []
     },
     "output_type": "execute_result"
    }
   ],
   "source": [
    "epps_singleton_2samp(A_5, B_5)"
   ]
  },
  {
   "cell_type": "markdown",
   "metadata": {
    "colab_type": "text",
    "id": "1GSYClC0B6sm"
   },
   "source": [
    "По результатам трех тестов: разница между распределениями статистически не значима -> результаты A/B тестирования статистически не значимы -> эффект не значим"
   ]
  }
 ],
 "metadata": {
  "colab": {
   "collapsed_sections": [],
   "name": "AB_Tests_Tselischev.ipynb",
   "provenance": []
  },
  "kernelspec": {
   "display_name": "Python 2",
   "language": "python",
   "name": "python2"
  },
  "language_info": {
   "codemirror_mode": {
    "name": "ipython",
    "version": 2
   },
   "file_extension": ".py",
   "mimetype": "text/x-python",
   "name": "python",
   "nbconvert_exporter": "python",
   "pygments_lexer": "ipython2",
   "version": "2.7.6"
  }
 },
 "nbformat": 4,
 "nbformat_minor": 1
}
