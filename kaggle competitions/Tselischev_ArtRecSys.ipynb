{
  "nbformat": 4,
  "nbformat_minor": 0,
  "metadata": {
    "colab": {
      "name": "Tselischev_ArtRecSys.ipynb",
      "provenance": [],
      "collapsed_sections": [],
      "toc_visible": true,
      "machine_shape": "hm"
    },
    "kernelspec": {
      "name": "python3",
      "display_name": "Python 3"
    },
    "accelerator": "GPU",
    "widgets": {
      "application/vnd.jupyter.widget-state+json": {
        "c1c946dcf8c34046b36774078160936e": {
          "model_module": "@jupyter-widgets/controls",
          "model_name": "HBoxModel",
          "state": {
            "_view_name": "HBoxView",
            "_dom_classes": [],
            "_model_name": "HBoxModel",
            "_view_module": "@jupyter-widgets/controls",
            "_model_module_version": "1.5.0",
            "_view_count": null,
            "_view_module_version": "1.5.0",
            "box_style": "",
            "layout": "IPY_MODEL_7d9d9002f3b5482eaf5da97b631b7f28",
            "_model_module": "@jupyter-widgets/controls",
            "children": [
              "IPY_MODEL_cb2dfafc78c1459c95780a05f9b7fd0b",
              "IPY_MODEL_021e26004aa245ea85f2c06a2aed06f9"
            ]
          }
        },
        "7d9d9002f3b5482eaf5da97b631b7f28": {
          "model_module": "@jupyter-widgets/base",
          "model_name": "LayoutModel",
          "state": {
            "_view_name": "LayoutView",
            "grid_template_rows": null,
            "right": null,
            "justify_content": null,
            "_view_module": "@jupyter-widgets/base",
            "overflow": null,
            "_model_module_version": "1.2.0",
            "_view_count": null,
            "flex_flow": null,
            "width": null,
            "min_width": null,
            "border": null,
            "align_items": null,
            "bottom": null,
            "_model_module": "@jupyter-widgets/base",
            "top": null,
            "grid_column": null,
            "overflow_y": null,
            "overflow_x": null,
            "grid_auto_flow": null,
            "grid_area": null,
            "grid_template_columns": null,
            "flex": null,
            "_model_name": "LayoutModel",
            "justify_items": null,
            "grid_row": null,
            "max_height": null,
            "align_content": null,
            "visibility": null,
            "align_self": null,
            "height": null,
            "min_height": null,
            "padding": null,
            "grid_auto_rows": null,
            "grid_gap": null,
            "max_width": null,
            "order": null,
            "_view_module_version": "1.2.0",
            "grid_template_areas": null,
            "object_position": null,
            "object_fit": null,
            "grid_auto_columns": null,
            "margin": null,
            "display": null,
            "left": null
          }
        },
        "cb2dfafc78c1459c95780a05f9b7fd0b": {
          "model_module": "@jupyter-widgets/controls",
          "model_name": "IntProgressModel",
          "state": {
            "_view_name": "ProgressView",
            "style": "IPY_MODEL_71b31c8ea17245a081a584412c26623c",
            "_dom_classes": [],
            "description": "",
            "_model_name": "IntProgressModel",
            "bar_style": "success",
            "max": 1,
            "_view_module": "@jupyter-widgets/controls",
            "_model_module_version": "1.5.0",
            "value": 1,
            "_view_count": null,
            "_view_module_version": "1.5.0",
            "orientation": "horizontal",
            "min": 0,
            "description_tooltip": null,
            "_model_module": "@jupyter-widgets/controls",
            "layout": "IPY_MODEL_4fb650010edf47c3863bece680b997d9"
          }
        },
        "021e26004aa245ea85f2c06a2aed06f9": {
          "model_module": "@jupyter-widgets/controls",
          "model_name": "HTMLModel",
          "state": {
            "_view_name": "HTMLView",
            "style": "IPY_MODEL_0bb29da8673f4899ad99655e7b4b2d65",
            "_dom_classes": [],
            "description": "",
            "_model_name": "HTMLModel",
            "placeholder": "​",
            "_view_module": "@jupyter-widgets/controls",
            "_model_module_version": "1.5.0",
            "value": "42977it [00:58, 796.13it/s]",
            "_view_count": null,
            "_view_module_version": "1.5.0",
            "description_tooltip": null,
            "_model_module": "@jupyter-widgets/controls",
            "layout": "IPY_MODEL_4ee4d2b341d6477aa4194d38317e5ad2"
          }
        },
        "71b31c8ea17245a081a584412c26623c": {
          "model_module": "@jupyter-widgets/controls",
          "model_name": "ProgressStyleModel",
          "state": {
            "_view_name": "StyleView",
            "_model_name": "ProgressStyleModel",
            "description_width": "",
            "_view_module": "@jupyter-widgets/base",
            "_model_module_version": "1.5.0",
            "_view_count": null,
            "_view_module_version": "1.2.0",
            "bar_color": null,
            "_model_module": "@jupyter-widgets/controls"
          }
        },
        "4fb650010edf47c3863bece680b997d9": {
          "model_module": "@jupyter-widgets/base",
          "model_name": "LayoutModel",
          "state": {
            "_view_name": "LayoutView",
            "grid_template_rows": null,
            "right": null,
            "justify_content": null,
            "_view_module": "@jupyter-widgets/base",
            "overflow": null,
            "_model_module_version": "1.2.0",
            "_view_count": null,
            "flex_flow": null,
            "width": null,
            "min_width": null,
            "border": null,
            "align_items": null,
            "bottom": null,
            "_model_module": "@jupyter-widgets/base",
            "top": null,
            "grid_column": null,
            "overflow_y": null,
            "overflow_x": null,
            "grid_auto_flow": null,
            "grid_area": null,
            "grid_template_columns": null,
            "flex": null,
            "_model_name": "LayoutModel",
            "justify_items": null,
            "grid_row": null,
            "max_height": null,
            "align_content": null,
            "visibility": null,
            "align_self": null,
            "height": null,
            "min_height": null,
            "padding": null,
            "grid_auto_rows": null,
            "grid_gap": null,
            "max_width": null,
            "order": null,
            "_view_module_version": "1.2.0",
            "grid_template_areas": null,
            "object_position": null,
            "object_fit": null,
            "grid_auto_columns": null,
            "margin": null,
            "display": null,
            "left": null
          }
        },
        "0bb29da8673f4899ad99655e7b4b2d65": {
          "model_module": "@jupyter-widgets/controls",
          "model_name": "DescriptionStyleModel",
          "state": {
            "_view_name": "StyleView",
            "_model_name": "DescriptionStyleModel",
            "description_width": "",
            "_view_module": "@jupyter-widgets/base",
            "_model_module_version": "1.5.0",
            "_view_count": null,
            "_view_module_version": "1.2.0",
            "_model_module": "@jupyter-widgets/controls"
          }
        },
        "4ee4d2b341d6477aa4194d38317e5ad2": {
          "model_module": "@jupyter-widgets/base",
          "model_name": "LayoutModel",
          "state": {
            "_view_name": "LayoutView",
            "grid_template_rows": null,
            "right": null,
            "justify_content": null,
            "_view_module": "@jupyter-widgets/base",
            "overflow": null,
            "_model_module_version": "1.2.0",
            "_view_count": null,
            "flex_flow": null,
            "width": null,
            "min_width": null,
            "border": null,
            "align_items": null,
            "bottom": null,
            "_model_module": "@jupyter-widgets/base",
            "top": null,
            "grid_column": null,
            "overflow_y": null,
            "overflow_x": null,
            "grid_auto_flow": null,
            "grid_area": null,
            "grid_template_columns": null,
            "flex": null,
            "_model_name": "LayoutModel",
            "justify_items": null,
            "grid_row": null,
            "max_height": null,
            "align_content": null,
            "visibility": null,
            "align_self": null,
            "height": null,
            "min_height": null,
            "padding": null,
            "grid_auto_rows": null,
            "grid_gap": null,
            "max_width": null,
            "order": null,
            "_view_module_version": "1.2.0",
            "grid_template_areas": null,
            "object_position": null,
            "object_fit": null,
            "grid_auto_columns": null,
            "margin": null,
            "display": null,
            "left": null
          }
        }
      }
    }
  },
  "cells": [
    {
      "cell_type": "markdown",
      "metadata": {
        "id": "EDTvGjjb8XxY",
        "colab_type": "text"
      },
      "source": [
        "#**ArtRecSys Challenge**"
      ]
    },
    {
      "cell_type": "markdown",
      "metadata": {
        "id": "CxCsM4vmdPPr",
        "colab_type": "text"
      },
      "source": [
        "Public leaderboard score (NDCG@20): 0.14713"
      ]
    },
    {
      "cell_type": "markdown",
      "metadata": {
        "id": "N0sjjrYXdPZx",
        "colab_type": "text"
      },
      "source": [
        "# Загрузка данных из Kaggle"
      ]
    },
    {
      "cell_type": "code",
      "metadata": {
        "id": "T4KF8M3c8Wkm",
        "colab_type": "code",
        "outputId": "6be64b1e-f3ac-4d9e-bd46-35e49cc5929e",
        "colab": {
          "base_uri": "https://localhost:8080/",
          "height": 212
        }
      },
      "source": [
        "!pip install kaggle --upgrade"
      ],
      "execution_count": 1,
      "outputs": [
        {
          "output_type": "stream",
          "text": [
            "Requirement already up-to-date: kaggle in /usr/local/lib/python3.6/dist-packages (1.5.6)\n",
            "Requirement already satisfied, skipping upgrade: requests in /usr/local/lib/python3.6/dist-packages (from kaggle) (2.21.0)\n",
            "Requirement already satisfied, skipping upgrade: tqdm in /usr/local/lib/python3.6/dist-packages (from kaggle) (4.28.1)\n",
            "Requirement already satisfied, skipping upgrade: python-dateutil in /usr/local/lib/python3.6/dist-packages (from kaggle) (2.6.1)\n",
            "Requirement already satisfied, skipping upgrade: urllib3<1.25,>=1.21.1 in /usr/local/lib/python3.6/dist-packages (from kaggle) (1.24.3)\n",
            "Requirement already satisfied, skipping upgrade: python-slugify in /usr/local/lib/python3.6/dist-packages (from kaggle) (4.0.0)\n",
            "Requirement already satisfied, skipping upgrade: six>=1.10 in /usr/local/lib/python3.6/dist-packages (from kaggle) (1.12.0)\n",
            "Requirement already satisfied, skipping upgrade: certifi in /usr/local/lib/python3.6/dist-packages (from kaggle) (2019.11.28)\n",
            "Requirement already satisfied, skipping upgrade: chardet<3.1.0,>=3.0.2 in /usr/local/lib/python3.6/dist-packages (from requests->kaggle) (3.0.4)\n",
            "Requirement already satisfied, skipping upgrade: idna<2.9,>=2.5 in /usr/local/lib/python3.6/dist-packages (from requests->kaggle) (2.8)\n",
            "Requirement already satisfied, skipping upgrade: text-unidecode>=1.3 in /usr/local/lib/python3.6/dist-packages (from python-slugify->kaggle) (1.3)\n"
          ],
          "name": "stdout"
        }
      ]
    },
    {
      "cell_type": "code",
      "metadata": {
        "id": "kSVgldx95Zx-",
        "colab_type": "code",
        "colab": {}
      },
      "source": [
        "import os\n",
        "os.environ['KAGGLE_USERNAME'] = \"tselischevivaniad5\" # username from the json file\n",
        "os.environ['KAGGLE_KEY'] = \"17a8310682739ae6a90aeefaf8e97d48\" # key from the json file"
      ],
      "execution_count": 0,
      "outputs": []
    },
    {
      "cell_type": "code",
      "metadata": {
        "id": "KGsWLiqw5Zva",
        "colab_type": "code",
        "outputId": "d5b1437d-1f7d-4917-ac72-6427e4a368bd",
        "colab": {
          "base_uri": "https://localhost:8080/",
          "height": 194
        }
      },
      "source": [
        "!kaggle competitions download -c recsys-iad-challenge"
      ],
      "execution_count": 3,
      "outputs": [
        {
          "output_type": "stream",
          "text": [
            "Warning: Looks like you're using an outdated API Version, please consider updating (server 1.5.6 / client 1.5.4)\n",
            "Downloading random_benchmark.csv.zip to /content\n",
            "  0% 0.00/10.9M [00:00<?, ?B/s]\n",
            "100% 10.9M/10.9M [00:00<00:00, 101MB/s]\n",
            "Downloading items.json.zip to /content\n",
            " 99% 363M/368M [00:02<00:00, 160MB/s]\n",
            "100% 368M/368M [00:02<00:00, 150MB/s]\n",
            "Downloading train.json.zip to /content\n",
            " 90% 212M/235M [00:01<00:00, 184MB/s]\n",
            "100% 235M/235M [00:01<00:00, 202MB/s]\n"
          ],
          "name": "stdout"
        }
      ]
    },
    {
      "cell_type": "code",
      "metadata": {
        "id": "n4R5qdq15Zq-",
        "colab_type": "code",
        "outputId": "3a5d5258-2782-4a52-9a1e-261e53a89ecf",
        "colab": {
          "base_uri": "https://localhost:8080/",
          "height": 194
        }
      },
      "source": [
        "!unzip \\*.zip"
      ],
      "execution_count": 4,
      "outputs": [
        {
          "output_type": "stream",
          "text": [
            "Archive:  train.json.zip\n",
            "  inflating: train.json              \n",
            "\n",
            "Archive:  items.json.zip\n",
            "  inflating: items.json              \n",
            "\n",
            "Archive:  random_benchmark.csv.zip\n",
            "  inflating: random_benchmark.csv    \n",
            "\n",
            "3 archives were successfully processed.\n"
          ],
          "name": "stdout"
        }
      ]
    },
    {
      "cell_type": "markdown",
      "metadata": {
        "id": "1dSox6FcaUSg",
        "colab_type": "text"
      },
      "source": [
        "# Матрицы для модели"
      ]
    },
    {
      "cell_type": "code",
      "metadata": {
        "id": "7vWD_2c8C56h",
        "colab_type": "code",
        "colab": {}
      },
      "source": [
        "import pandas as pd\n",
        "import json"
      ],
      "execution_count": 0,
      "outputs": []
    },
    {
      "cell_type": "code",
      "metadata": {
        "id": "yKREdc0eHjSL",
        "colab_type": "code",
        "outputId": "8dbfff10-4388-4e7e-e2ea-bc264e6f82bb",
        "colab": {
          "base_uri": "https://localhost:8080/",
          "height": 318
        }
      },
      "source": [
        "!pip install lightfm"
      ],
      "execution_count": 6,
      "outputs": [
        {
          "output_type": "stream",
          "text": [
            "Collecting lightfm\n",
            "\u001b[?25l  Downloading https://files.pythonhosted.org/packages/e9/8e/5485ac5a8616abe1c673d1e033e2f232b4319ab95424b42499fabff2257f/lightfm-1.15.tar.gz (302kB)\n",
            "\r\u001b[K     |█                               | 10kB 19.6MB/s eta 0:00:01\r\u001b[K     |██▏                             | 20kB 1.8MB/s eta 0:00:01\r\u001b[K     |███▎                            | 30kB 2.3MB/s eta 0:00:01\r\u001b[K     |████▍                           | 40kB 1.7MB/s eta 0:00:01\r\u001b[K     |█████▍                          | 51kB 1.9MB/s eta 0:00:01\r\u001b[K     |██████▌                         | 61kB 2.3MB/s eta 0:00:01\r\u001b[K     |███████▋                        | 71kB 2.5MB/s eta 0:00:01\r\u001b[K     |████████▊                       | 81kB 2.6MB/s eta 0:00:01\r\u001b[K     |█████████▊                      | 92kB 2.9MB/s eta 0:00:01\r\u001b[K     |██████████▉                     | 102kB 2.8MB/s eta 0:00:01\r\u001b[K     |████████████                    | 112kB 2.8MB/s eta 0:00:01\r\u001b[K     |█████████████                   | 122kB 2.8MB/s eta 0:00:01\r\u001b[K     |██████████████                  | 133kB 2.8MB/s eta 0:00:01\r\u001b[K     |███████████████▏                | 143kB 2.8MB/s eta 0:00:01\r\u001b[K     |████████████████▎               | 153kB 2.8MB/s eta 0:00:01\r\u001b[K     |█████████████████▍              | 163kB 2.8MB/s eta 0:00:01\r\u001b[K     |██████████████████▍             | 174kB 2.8MB/s eta 0:00:01\r\u001b[K     |███████████████████▌            | 184kB 2.8MB/s eta 0:00:01\r\u001b[K     |████████████████████▋           | 194kB 2.8MB/s eta 0:00:01\r\u001b[K     |█████████████████████▊          | 204kB 2.8MB/s eta 0:00:01\r\u001b[K     |██████████████████████▊         | 215kB 2.8MB/s eta 0:00:01\r\u001b[K     |███████████████████████▉        | 225kB 2.8MB/s eta 0:00:01\r\u001b[K     |█████████████████████████       | 235kB 2.8MB/s eta 0:00:01\r\u001b[K     |██████████████████████████      | 245kB 2.8MB/s eta 0:00:01\r\u001b[K     |███████████████████████████     | 256kB 2.8MB/s eta 0:00:01\r\u001b[K     |████████████████████████████▏   | 266kB 2.8MB/s eta 0:00:01\r\u001b[K     |█████████████████████████████▎  | 276kB 2.8MB/s eta 0:00:01\r\u001b[K     |██████████████████████████████▍ | 286kB 2.8MB/s eta 0:00:01\r\u001b[K     |███████████████████████████████▍| 296kB 2.8MB/s eta 0:00:01\r\u001b[K     |████████████████████████████████| 307kB 2.8MB/s \n",
            "\u001b[?25hRequirement already satisfied: numpy in /usr/local/lib/python3.6/dist-packages (from lightfm) (1.17.5)\n",
            "Requirement already satisfied: scipy>=0.17.0 in /usr/local/lib/python3.6/dist-packages (from lightfm) (1.4.1)\n",
            "Requirement already satisfied: requests in /usr/local/lib/python3.6/dist-packages (from lightfm) (2.21.0)\n",
            "Requirement already satisfied: urllib3<1.25,>=1.21.1 in /usr/local/lib/python3.6/dist-packages (from requests->lightfm) (1.24.3)\n",
            "Requirement already satisfied: idna<2.9,>=2.5 in /usr/local/lib/python3.6/dist-packages (from requests->lightfm) (2.8)\n",
            "Requirement already satisfied: certifi>=2017.4.17 in /usr/local/lib/python3.6/dist-packages (from requests->lightfm) (2019.11.28)\n",
            "Requirement already satisfied: chardet<3.1.0,>=3.0.2 in /usr/local/lib/python3.6/dist-packages (from requests->lightfm) (3.0.4)\n",
            "Building wheels for collected packages: lightfm\n",
            "  Building wheel for lightfm (setup.py) ... \u001b[?25l\u001b[?25hdone\n",
            "  Created wheel for lightfm: filename=lightfm-1.15-cp36-cp36m-linux_x86_64.whl size=707618 sha256=4fd3347e0791b4ca361ec36db2ac398e47cbc4d298f36fe20afcbf5a062d52b8\n",
            "  Stored in directory: /root/.cache/pip/wheels/eb/bb/ac/188385a5da6627956be5d9663928483b36da576149ab5b8f79\n",
            "Successfully built lightfm\n",
            "Installing collected packages: lightfm\n",
            "Successfully installed lightfm-1.15\n"
          ],
          "name": "stdout"
        }
      ]
    },
    {
      "cell_type": "code",
      "metadata": {
        "id": "0STiaxBNdKlW",
        "colab_type": "code",
        "colab": {}
      },
      "source": [
        "from scipy.sparse import coo_matrix, hstack, csr_matrix\n",
        "import gc\n",
        "from lightfm import LightFM\n",
        "from tqdm.auto import tqdm"
      ],
      "execution_count": 0,
      "outputs": []
    },
    {
      "cell_type": "markdown",
      "metadata": {
        "id": "fI-WoVsSkkKd",
        "colab_type": "text"
      },
      "source": [
        "**User-Item матрица**"
      ]
    },
    {
      "cell_type": "code",
      "metadata": {
        "id": "ISRpIiJNdzVn",
        "colab_type": "code",
        "colab": {}
      },
      "source": [
        "def user_item():\n",
        "  row  = []\n",
        "  col  = []\n",
        "  data = []\n",
        "  with tqdm(open('train.json')) as f:\n",
        "      for i, line in enumerate(f):\n",
        "          n = json.loads(line)\n",
        "          for j, (key, value) in enumerate(n['trainRatings'].items()):\n",
        "              row.append(n['userId'])\n",
        "              col.append(int(key))\n",
        "              if value == 0:\n",
        "                data.append(value-1)\n",
        "              else:\n",
        "                data.append(value)\n",
        "\n",
        "  coo = coo_matrix((data, (row, col)))\n",
        "  print('User-item matrix created, shape : '+ str(coo.get_shape()))\n",
        "  del [row, col, data]\n",
        "  gc.collect()\n",
        "  return coo"
      ],
      "execution_count": 0,
      "outputs": []
    },
    {
      "cell_type": "code",
      "metadata": {
        "id": "np2WZMc8KJfI",
        "colab_type": "code",
        "outputId": "ef8035cd-2d88-4f09-80f7-f3f5c1bbf92c",
        "colab": {
          "base_uri": "https://localhost:8080/",
          "height": 84,
          "referenced_widgets": [
            "c1c946dcf8c34046b36774078160936e",
            "7d9d9002f3b5482eaf5da97b631b7f28",
            "cb2dfafc78c1459c95780a05f9b7fd0b",
            "021e26004aa245ea85f2c06a2aed06f9",
            "71b31c8ea17245a081a584412c26623c",
            "4fb650010edf47c3863bece680b997d9",
            "0bb29da8673f4899ad99655e7b4b2d65",
            "4ee4d2b341d6477aa4194d38317e5ad2"
          ]
        }
      },
      "source": [
        "ui_matrix = user_item()"
      ],
      "execution_count": 9,
      "outputs": [
        {
          "output_type": "display_data",
          "data": {
            "application/vnd.jupyter.widget-view+json": {
              "model_id": "c1c946dcf8c34046b36774078160936e",
              "version_minor": 0,
              "version_major": 2
            },
            "text/plain": [
              "HBox(children=(IntProgress(value=1, bar_style='info', max=1), HTML(value='')))"
            ]
          },
          "metadata": {
            "tags": []
          }
        },
        {
          "output_type": "stream",
          "text": [
            "\n",
            "User-item matrix created, shape : (42977, 328050)\n"
          ],
          "name": "stdout"
        }
      ]
    },
    {
      "cell_type": "markdown",
      "metadata": {
        "id": "V-GQz9cvkbi-",
        "colab_type": "text"
      },
      "source": [
        "**Таблица items, признаки**"
      ]
    },
    {
      "cell_type": "code",
      "metadata": {
        "id": "oU7L6wO4jvab",
        "colab_type": "code",
        "colab": {}
      },
      "source": [
        "import numpy as np"
      ],
      "execution_count": 0,
      "outputs": []
    },
    {
      "cell_type": "code",
      "metadata": {
        "id": "GDHs7ZZNjw9c",
        "colab_type": "code",
        "colab": {}
      },
      "source": [
        "with open('items.json') as f:\n",
        "    items = pd.DataFrame(json.loads(line) for line in f)"
      ],
      "execution_count": 0,
      "outputs": []
    },
    {
      "cell_type": "code",
      "metadata": {
        "id": "_870-J1ijzZH",
        "colab_type": "code",
        "outputId": "43a7f34c-20a1-487c-e961-324262d73617",
        "colab": {
          "base_uri": "https://localhost:8080/",
          "height": 215
        }
      },
      "source": [
        "print(items.shape)\n",
        "items.head()"
      ],
      "execution_count": 12,
      "outputs": [
        {
          "output_type": "stream",
          "text": [
            "(328050, 4)\n"
          ],
          "name": "stdout"
        },
        {
          "output_type": "execute_result",
          "data": {
            "text/html": [
              "<div>\n",
              "<style scoped>\n",
              "    .dataframe tbody tr th:only-of-type {\n",
              "        vertical-align: middle;\n",
              "    }\n",
              "\n",
              "    .dataframe tbody tr th {\n",
              "        vertical-align: top;\n",
              "    }\n",
              "\n",
              "    .dataframe thead th {\n",
              "        text-align: right;\n",
              "    }\n",
              "</style>\n",
              "<table border=\"1\" class=\"dataframe\">\n",
              "  <thead>\n",
              "    <tr style=\"text-align: right;\">\n",
              "      <th></th>\n",
              "      <th>content</th>\n",
              "      <th>itemId</th>\n",
              "      <th>image</th>\n",
              "      <th>title</th>\n",
              "    </tr>\n",
              "  </thead>\n",
              "  <tbody>\n",
              "    <tr>\n",
              "      <th>0</th>\n",
              "      <td>Согласитесь, дорогие любители собак, до чего ж...</td>\n",
              "      <td>0</td>\n",
              "      <td>[-0.169, 0.129, 0.067, 0.019, 0.281, -0.245, 0...</td>\n",
              "      <td>Пять забавных «морщинистых» пород собак</td>\n",
              "    </tr>\n",
              "    <tr>\n",
              "      <th>1</th>\n",
              "      <td>Контуры Третьей Поперечной улицы, состоявшей ...</td>\n",
              "      <td>1</td>\n",
              "      <td>[-0.158, -0.112, -0.325, 0.05, -0.114, 0.002, ...</td>\n",
              "      <td>История улицы Ирининской в  Гомеле</td>\n",
              "    </tr>\n",
              "    <tr>\n",
              "      <th>2</th>\n",
              "      <td>Источник: http://infodays.ru Вообще он как-то ...</td>\n",
              "      <td>2</td>\n",
              "      <td>[0.084, -0.181, 0.008, 0.34, -0.03, -0.197, -0...</td>\n",
              "      <td>Зачем Дудь всё время спрашивает гостей програм...</td>\n",
              "    </tr>\n",
              "    <tr>\n",
              "      <th>3</th>\n",
              "      <td>41-летняя Светлана Зейналова решила окрестить ...</td>\n",
              "      <td>3</td>\n",
              "      <td>[0.034, -0.119, -0.062, 0.025, 0.128, -0.041, ...</td>\n",
              "      <td>Светлана Зейналова крестила младшую дочь</td>\n",
              "    </tr>\n",
              "    <tr>\n",
              "      <th>4</th>\n",
              "      <td>«Организованные преступные группировки ГБАО де...</td>\n",
              "      <td>4</td>\n",
              "      <td>[-0.061, -0.015, -0.198, -0.047, 0.054, 0.029,...</td>\n",
              "      <td>ГКНБ: бандиты в ГБАО делают вид, что рассталис...</td>\n",
              "    </tr>\n",
              "  </tbody>\n",
              "</table>\n",
              "</div>"
            ],
            "text/plain": [
              "                                             content  ...                                              title\n",
              "0  Согласитесь, дорогие любители собак, до чего ж...  ...            Пять забавных «морщинистых» пород собак\n",
              "1   Контуры Третьей Поперечной улицы, состоявшей ...  ...                 История улицы Ирининской в  Гомеле\n",
              "2  Источник: http://infodays.ru Вообще он как-то ...  ...  Зачем Дудь всё время спрашивает гостей програм...\n",
              "3  41-летняя Светлана Зейналова решила окрестить ...  ...           Светлана Зейналова крестила младшую дочь\n",
              "4  «Организованные преступные группировки ГБАО де...  ...  ГКНБ: бандиты в ГБАО делают вид, что рассталис...\n",
              "\n",
              "[5 rows x 4 columns]"
            ]
          },
          "metadata": {
            "tags": []
          },
          "execution_count": 12
        }
      ]
    },
    {
      "cell_type": "code",
      "metadata": {
        "id": "tHXDt2eaj1ns",
        "colab_type": "code",
        "outputId": "df637765-4883-4069-a383-bb1f2f8120bf",
        "colab": {
          "base_uri": "https://localhost:8080/",
          "height": 105
        }
      },
      "source": [
        "items.isnull().sum()"
      ],
      "execution_count": 13,
      "outputs": [
        {
          "output_type": "execute_result",
          "data": {
            "text/plain": [
              "content       0\n",
              "itemId        0\n",
              "image      7226\n",
              "title         0\n",
              "dtype: int64"
            ]
          },
          "metadata": {
            "tags": []
          },
          "execution_count": 13
        }
      ]
    },
    {
      "cell_type": "code",
      "metadata": {
        "id": "clQuzeKjj3tz",
        "colab_type": "code",
        "colab": {}
      },
      "source": [
        "l = list()\n",
        "s = set()\n",
        "for i in items.image:\n",
        "  if type(i) is float:\n",
        "    l.append(i)\n",
        "  else:\n",
        "    s.add(len(i))"
      ],
      "execution_count": 0,
      "outputs": []
    },
    {
      "cell_type": "code",
      "metadata": {
        "id": "UPPBTt_Bj7Rf",
        "colab_type": "code",
        "outputId": "65f7f9b8-420a-4d5e-8fc3-1232f87516fe",
        "colab": {
          "base_uri": "https://localhost:8080/",
          "height": 34
        }
      },
      "source": [
        "s"
      ],
      "execution_count": 15,
      "outputs": [
        {
          "output_type": "execute_result",
          "data": {
            "text/plain": [
              "{96}"
            ]
          },
          "metadata": {
            "tags": []
          },
          "execution_count": 15
        }
      ]
    },
    {
      "cell_type": "markdown",
      "metadata": {
        "colab_type": "text",
        "id": "mX4AsX6mj9w1"
      },
      "source": [
        "Размер эмбеддингов = 96, есть пустые-nan"
      ]
    },
    {
      "cell_type": "code",
      "metadata": {
        "id": "mmDdZk5ykSBv",
        "colab_type": "code",
        "colab": {}
      },
      "source": [
        "def func(x):\n",
        "    if type(x) is float:\n",
        "      x = [0]*96\n",
        "    return x"
      ],
      "execution_count": 0,
      "outputs": []
    },
    {
      "cell_type": "markdown",
      "metadata": {
        "id": "RuPqIPdxDN6V",
        "colab_type": "text"
      },
      "source": [
        "Заполним пустые эмбеддинги нулями"
      ]
    },
    {
      "cell_type": "code",
      "metadata": {
        "id": "ki-CU-XwkWi3",
        "colab_type": "code",
        "colab": {}
      },
      "source": [
        "items.image = items.image.apply(lambda x: func(x))"
      ],
      "execution_count": 0,
      "outputs": []
    },
    {
      "cell_type": "markdown",
      "metadata": {
        "id": "8PrneEjJDYb0",
        "colab_type": "text"
      },
      "source": [
        "Первыми признаками будут матрицы полученные из TFIDF для контента и заголовков"
      ]
    },
    {
      "cell_type": "code",
      "metadata": {
        "id": "1cf3xL7ggWCk",
        "colab_type": "code",
        "colab": {}
      },
      "source": [
        "from sklearn.feature_extraction.text import TfidfVectorizer"
      ],
      "execution_count": 0,
      "outputs": []
    },
    {
      "cell_type": "code",
      "metadata": {
        "id": "TmjLVALqgVZG",
        "colab_type": "code",
        "colab": {}
      },
      "source": [
        "vectorizer = TfidfVectorizer(lowercase=False, max_df=0.01, min_df=10)\n",
        "matrix_tf = vectorizer.fit_transform(items.title.to_list())"
      ],
      "execution_count": 0,
      "outputs": []
    },
    {
      "cell_type": "code",
      "metadata": {
        "id": "Jc29pR5OgXw0",
        "colab_type": "code",
        "outputId": "f9425ca2-e8c6-42fb-b8e8-8cc537d7ccc4",
        "colab": {
          "base_uri": "https://localhost:8080/",
          "height": 52
        }
      },
      "source": [
        "matrix_tf"
      ],
      "execution_count": 20,
      "outputs": [
        {
          "output_type": "execute_result",
          "data": {
            "text/plain": [
              "<328050x29762 sparse matrix of type '<class 'numpy.float64'>'\n",
              "\twith 1641340 stored elements in Compressed Sparse Row format>"
            ]
          },
          "metadata": {
            "tags": []
          },
          "execution_count": 20
        }
      ]
    },
    {
      "cell_type": "code",
      "metadata": {
        "id": "umsijKZwcKgN",
        "colab_type": "code",
        "outputId": "e2a0cfe0-06a9-41ec-ef85-0d10816a1ffc",
        "colab": {
          "base_uri": "https://localhost:8080/",
          "height": 52
        }
      },
      "source": [
        "%%time\n",
        "vectorizer2 = TfidfVectorizer(lowercase=False, max_df=0.01, min_df=10)\n",
        "matrix_tf2 = vectorizer2.fit_transform(items.content.to_list())"
      ],
      "execution_count": 21,
      "outputs": [
        {
          "output_type": "stream",
          "text": [
            "CPU times: user 1min 16s, sys: 812 ms, total: 1min 17s\n",
            "Wall time: 1min 17s\n"
          ],
          "name": "stdout"
        }
      ]
    },
    {
      "cell_type": "code",
      "metadata": {
        "id": "_FkQowzZcn5H",
        "colab_type": "code",
        "outputId": "9d3181c3-0ff7-42d6-cd5b-d228a34b0c4c",
        "colab": {
          "base_uri": "https://localhost:8080/",
          "height": 52
        }
      },
      "source": [
        "matrix_tf2"
      ],
      "execution_count": 22,
      "outputs": [
        {
          "output_type": "execute_result",
          "data": {
            "text/plain": [
              "<328050x239705 sparse matrix of type '<class 'numpy.float64'>'\n",
              "\twith 27815164 stored elements in Compressed Sparse Row format>"
            ]
          },
          "metadata": {
            "tags": []
          },
          "execution_count": 22
        }
      ]
    },
    {
      "cell_type": "code",
      "metadata": {
        "id": "eV4qhc0HkZ43",
        "colab_type": "code",
        "outputId": "61a04e29-e1a7-4364-c8de-3c279cd372ae",
        "colab": {
          "base_uri": "https://localhost:8080/",
          "height": 105
        }
      },
      "source": [
        "items.isnull().sum()"
      ],
      "execution_count": 23,
      "outputs": [
        {
          "output_type": "execute_result",
          "data": {
            "text/plain": [
              "content    0\n",
              "itemId     0\n",
              "image      0\n",
              "title      0\n",
              "dtype: int64"
            ]
          },
          "metadata": {
            "tags": []
          },
          "execution_count": 23
        }
      ]
    },
    {
      "cell_type": "markdown",
      "metadata": {
        "id": "-edcTwmKDg5B",
        "colab_type": "text"
      },
      "source": [
        "Сделаем из столбца эмбеддингов 96 признаков"
      ]
    },
    {
      "cell_type": "code",
      "metadata": {
        "id": "Zu-eKC1xpOmM",
        "colab_type": "code",
        "colab": {}
      },
      "source": [
        "for i in range(96):\n",
        "  items['emb'+str(i)] = items.image.apply(lambda x: x[i])"
      ],
      "execution_count": 0,
      "outputs": []
    },
    {
      "cell_type": "markdown",
      "metadata": {
        "id": "IXKWUnp8Ds2K",
        "colab_type": "text"
      },
      "source": [
        "Добавим признаки : длина контента и длина заголовка, отмасштабируем их"
      ]
    },
    {
      "cell_type": "code",
      "metadata": {
        "id": "TMcufrRqp0W8",
        "colab_type": "code",
        "colab": {}
      },
      "source": [
        "items['title_length'] = items.title.apply(lambda x: len(x))\n",
        "items['content_length'] = items.content.apply(lambda x: len(x))"
      ],
      "execution_count": 0,
      "outputs": []
    },
    {
      "cell_type": "code",
      "metadata": {
        "id": "FVVeJihArkbW",
        "colab_type": "code",
        "colab": {}
      },
      "source": [
        "items[['title_length', 'content_length']] = (items[['title_length', 'content_length']] - items[['title_length', 'content_length']].min()) / (items[['title_length', 'content_length']].max() - items[['title_length', 'content_length']].min())"
      ],
      "execution_count": 0,
      "outputs": []
    },
    {
      "cell_type": "markdown",
      "metadata": {
        "id": "_DBRbDM6EG_A",
        "colab_type": "text"
      },
      "source": [
        "Также добавим еще два признака : процент стоп-слов в контенте и заголовке"
      ]
    },
    {
      "cell_type": "code",
      "metadata": {
        "id": "A9AwKStBt5a0",
        "colab_type": "code",
        "outputId": "e5ba5e68-cb1d-4d91-a99a-e44b19b9c971",
        "colab": {
          "base_uri": "https://localhost:8080/",
          "height": 70
        }
      },
      "source": [
        "import nltk\n",
        "nltk.download(\"stopwords\")"
      ],
      "execution_count": 27,
      "outputs": [
        {
          "output_type": "stream",
          "text": [
            "[nltk_data] Downloading package stopwords to /root/nltk_data...\n",
            "[nltk_data]   Unzipping corpora/stopwords.zip.\n"
          ],
          "name": "stdout"
        },
        {
          "output_type": "execute_result",
          "data": {
            "text/plain": [
              "True"
            ]
          },
          "metadata": {
            "tags": []
          },
          "execution_count": 27
        }
      ]
    },
    {
      "cell_type": "code",
      "metadata": {
        "id": "Ka3tkH9EtaGc",
        "colab_type": "code",
        "outputId": "ddf46c84-93a4-4e44-8327-f2d8e74d6f31",
        "colab": {
          "base_uri": "https://localhost:8080/",
          "height": 52
        }
      },
      "source": [
        "%%time\n",
        "from nltk.corpus import stopwords\n",
        "stop = stopwords.words('russian')\n",
        "items['bad_content_percent'] = items.content.apply(lambda x: len([item for item in x if item in stop])/len(x) if len(x) != 0 else 0)\n",
        "items['bad_title_percent'] = items.title.apply(lambda x: len([item for item in x if item in stop])/len(x) if len(x) != 0 else 0)"
      ],
      "execution_count": 28,
      "outputs": [
        {
          "output_type": "stream",
          "text": [
            "CPU times: user 9min 50s, sys: 333 ms, total: 9min 51s\n",
            "Wall time: 9min 51s\n"
          ],
          "name": "stdout"
        }
      ]
    },
    {
      "cell_type": "code",
      "metadata": {
        "id": "byqXZXUsp0fa",
        "colab_type": "code",
        "outputId": "256b753e-2135-4ec9-a2c4-aae5b9cce2e4",
        "colab": {
          "base_uri": "https://localhost:8080/",
          "height": 486
        }
      },
      "source": [
        "items.head(3)"
      ],
      "execution_count": 29,
      "outputs": [
        {
          "output_type": "execute_result",
          "data": {
            "text/html": [
              "<div>\n",
              "<style scoped>\n",
              "    .dataframe tbody tr th:only-of-type {\n",
              "        vertical-align: middle;\n",
              "    }\n",
              "\n",
              "    .dataframe tbody tr th {\n",
              "        vertical-align: top;\n",
              "    }\n",
              "\n",
              "    .dataframe thead th {\n",
              "        text-align: right;\n",
              "    }\n",
              "</style>\n",
              "<table border=\"1\" class=\"dataframe\">\n",
              "  <thead>\n",
              "    <tr style=\"text-align: right;\">\n",
              "      <th></th>\n",
              "      <th>content</th>\n",
              "      <th>itemId</th>\n",
              "      <th>image</th>\n",
              "      <th>title</th>\n",
              "      <th>emb0</th>\n",
              "      <th>emb1</th>\n",
              "      <th>emb2</th>\n",
              "      <th>emb3</th>\n",
              "      <th>emb4</th>\n",
              "      <th>emb5</th>\n",
              "      <th>emb6</th>\n",
              "      <th>emb7</th>\n",
              "      <th>emb8</th>\n",
              "      <th>emb9</th>\n",
              "      <th>emb10</th>\n",
              "      <th>emb11</th>\n",
              "      <th>emb12</th>\n",
              "      <th>emb13</th>\n",
              "      <th>emb14</th>\n",
              "      <th>emb15</th>\n",
              "      <th>emb16</th>\n",
              "      <th>emb17</th>\n",
              "      <th>emb18</th>\n",
              "      <th>emb19</th>\n",
              "      <th>emb20</th>\n",
              "      <th>emb21</th>\n",
              "      <th>emb22</th>\n",
              "      <th>emb23</th>\n",
              "      <th>emb24</th>\n",
              "      <th>emb25</th>\n",
              "      <th>emb26</th>\n",
              "      <th>emb27</th>\n",
              "      <th>emb28</th>\n",
              "      <th>emb29</th>\n",
              "      <th>emb30</th>\n",
              "      <th>emb31</th>\n",
              "      <th>emb32</th>\n",
              "      <th>emb33</th>\n",
              "      <th>emb34</th>\n",
              "      <th>emb35</th>\n",
              "      <th>...</th>\n",
              "      <th>emb60</th>\n",
              "      <th>emb61</th>\n",
              "      <th>emb62</th>\n",
              "      <th>emb63</th>\n",
              "      <th>emb64</th>\n",
              "      <th>emb65</th>\n",
              "      <th>emb66</th>\n",
              "      <th>emb67</th>\n",
              "      <th>emb68</th>\n",
              "      <th>emb69</th>\n",
              "      <th>emb70</th>\n",
              "      <th>emb71</th>\n",
              "      <th>emb72</th>\n",
              "      <th>emb73</th>\n",
              "      <th>emb74</th>\n",
              "      <th>emb75</th>\n",
              "      <th>emb76</th>\n",
              "      <th>emb77</th>\n",
              "      <th>emb78</th>\n",
              "      <th>emb79</th>\n",
              "      <th>emb80</th>\n",
              "      <th>emb81</th>\n",
              "      <th>emb82</th>\n",
              "      <th>emb83</th>\n",
              "      <th>emb84</th>\n",
              "      <th>emb85</th>\n",
              "      <th>emb86</th>\n",
              "      <th>emb87</th>\n",
              "      <th>emb88</th>\n",
              "      <th>emb89</th>\n",
              "      <th>emb90</th>\n",
              "      <th>emb91</th>\n",
              "      <th>emb92</th>\n",
              "      <th>emb93</th>\n",
              "      <th>emb94</th>\n",
              "      <th>emb95</th>\n",
              "      <th>title_length</th>\n",
              "      <th>content_length</th>\n",
              "      <th>bad_content_percent</th>\n",
              "      <th>bad_title_percent</th>\n",
              "    </tr>\n",
              "  </thead>\n",
              "  <tbody>\n",
              "    <tr>\n",
              "      <th>0</th>\n",
              "      <td>Согласитесь, дорогие любители собак, до чего ж...</td>\n",
              "      <td>0</td>\n",
              "      <td>[-0.169, 0.129, 0.067, 0.019, 0.281, -0.245, 0...</td>\n",
              "      <td>Пять забавных «морщинистых» пород собак</td>\n",
              "      <td>-0.169</td>\n",
              "      <td>0.129</td>\n",
              "      <td>0.067</td>\n",
              "      <td>0.019</td>\n",
              "      <td>0.281</td>\n",
              "      <td>-0.245</td>\n",
              "      <td>0.089</td>\n",
              "      <td>0.329</td>\n",
              "      <td>0.072</td>\n",
              "      <td>-0.334</td>\n",
              "      <td>0.623</td>\n",
              "      <td>-0.029</td>\n",
              "      <td>0.126</td>\n",
              "      <td>-0.119</td>\n",
              "      <td>-0.075</td>\n",
              "      <td>0.175</td>\n",
              "      <td>-0.065</td>\n",
              "      <td>0.058</td>\n",
              "      <td>-0.249</td>\n",
              "      <td>-0.079</td>\n",
              "      <td>-0.057</td>\n",
              "      <td>0.170</td>\n",
              "      <td>-0.136</td>\n",
              "      <td>-0.031</td>\n",
              "      <td>0.039</td>\n",
              "      <td>0.058</td>\n",
              "      <td>0.103</td>\n",
              "      <td>0.068</td>\n",
              "      <td>-0.274</td>\n",
              "      <td>-0.068</td>\n",
              "      <td>-0.205</td>\n",
              "      <td>-0.077</td>\n",
              "      <td>0.256</td>\n",
              "      <td>-0.046</td>\n",
              "      <td>-0.027</td>\n",
              "      <td>-0.192</td>\n",
              "      <td>...</td>\n",
              "      <td>-0.078</td>\n",
              "      <td>0.292</td>\n",
              "      <td>0.256</td>\n",
              "      <td>-0.131</td>\n",
              "      <td>-0.055</td>\n",
              "      <td>0.040</td>\n",
              "      <td>0.330</td>\n",
              "      <td>0.330</td>\n",
              "      <td>0.146</td>\n",
              "      <td>0.332</td>\n",
              "      <td>0.139</td>\n",
              "      <td>0.178</td>\n",
              "      <td>-0.088</td>\n",
              "      <td>0.075</td>\n",
              "      <td>0.147</td>\n",
              "      <td>-0.235</td>\n",
              "      <td>-0.125</td>\n",
              "      <td>0.321</td>\n",
              "      <td>0.118</td>\n",
              "      <td>0.258</td>\n",
              "      <td>0.028</td>\n",
              "      <td>-0.397</td>\n",
              "      <td>0.008</td>\n",
              "      <td>-0.110</td>\n",
              "      <td>0.194</td>\n",
              "      <td>0.352</td>\n",
              "      <td>0.115</td>\n",
              "      <td>0.110</td>\n",
              "      <td>0.219</td>\n",
              "      <td>0.064</td>\n",
              "      <td>-0.054</td>\n",
              "      <td>-0.030</td>\n",
              "      <td>0.056</td>\n",
              "      <td>-0.428</td>\n",
              "      <td>-0.128</td>\n",
              "      <td>0.145</td>\n",
              "      <td>0.383838</td>\n",
              "      <td>1.0000</td>\n",
              "      <td>0.382000</td>\n",
              "      <td>0.358974</td>\n",
              "    </tr>\n",
              "    <tr>\n",
              "      <th>1</th>\n",
              "      <td>Контуры Третьей Поперечной улицы, состоявшей ...</td>\n",
              "      <td>1</td>\n",
              "      <td>[-0.158, -0.112, -0.325, 0.05, -0.114, 0.002, ...</td>\n",
              "      <td>История улицы Ирининской в  Гомеле</td>\n",
              "      <td>-0.158</td>\n",
              "      <td>-0.112</td>\n",
              "      <td>-0.325</td>\n",
              "      <td>0.050</td>\n",
              "      <td>-0.114</td>\n",
              "      <td>0.002</td>\n",
              "      <td>-0.037</td>\n",
              "      <td>-0.373</td>\n",
              "      <td>0.056</td>\n",
              "      <td>-0.088</td>\n",
              "      <td>0.015</td>\n",
              "      <td>0.221</td>\n",
              "      <td>0.115</td>\n",
              "      <td>-0.070</td>\n",
              "      <td>0.309</td>\n",
              "      <td>0.255</td>\n",
              "      <td>0.030</td>\n",
              "      <td>0.040</td>\n",
              "      <td>0.190</td>\n",
              "      <td>0.117</td>\n",
              "      <td>0.126</td>\n",
              "      <td>-0.049</td>\n",
              "      <td>0.043</td>\n",
              "      <td>0.142</td>\n",
              "      <td>0.130</td>\n",
              "      <td>-0.241</td>\n",
              "      <td>0.088</td>\n",
              "      <td>0.082</td>\n",
              "      <td>0.003</td>\n",
              "      <td>-0.135</td>\n",
              "      <td>-0.020</td>\n",
              "      <td>-0.156</td>\n",
              "      <td>-0.138</td>\n",
              "      <td>0.110</td>\n",
              "      <td>0.036</td>\n",
              "      <td>0.072</td>\n",
              "      <td>...</td>\n",
              "      <td>-0.004</td>\n",
              "      <td>0.171</td>\n",
              "      <td>-0.101</td>\n",
              "      <td>0.132</td>\n",
              "      <td>-0.091</td>\n",
              "      <td>-0.056</td>\n",
              "      <td>-0.013</td>\n",
              "      <td>-0.366</td>\n",
              "      <td>-0.027</td>\n",
              "      <td>0.085</td>\n",
              "      <td>0.111</td>\n",
              "      <td>0.295</td>\n",
              "      <td>-0.080</td>\n",
              "      <td>0.008</td>\n",
              "      <td>-0.023</td>\n",
              "      <td>0.073</td>\n",
              "      <td>-0.097</td>\n",
              "      <td>-0.215</td>\n",
              "      <td>-0.369</td>\n",
              "      <td>-0.036</td>\n",
              "      <td>0.078</td>\n",
              "      <td>-0.171</td>\n",
              "      <td>-0.077</td>\n",
              "      <td>-0.010</td>\n",
              "      <td>-0.158</td>\n",
              "      <td>0.204</td>\n",
              "      <td>-0.198</td>\n",
              "      <td>-0.180</td>\n",
              "      <td>-0.055</td>\n",
              "      <td>-0.055</td>\n",
              "      <td>-0.132</td>\n",
              "      <td>0.084</td>\n",
              "      <td>-0.188</td>\n",
              "      <td>0.277</td>\n",
              "      <td>0.042</td>\n",
              "      <td>0.149</td>\n",
              "      <td>0.333333</td>\n",
              "      <td>1.0000</td>\n",
              "      <td>0.355500</td>\n",
              "      <td>0.382353</td>\n",
              "    </tr>\n",
              "    <tr>\n",
              "      <th>2</th>\n",
              "      <td>Источник: http://infodays.ru Вообще он как-то ...</td>\n",
              "      <td>2</td>\n",
              "      <td>[0.084, -0.181, 0.008, 0.34, -0.03, -0.197, -0...</td>\n",
              "      <td>Зачем Дудь всё время спрашивает гостей програм...</td>\n",
              "      <td>0.084</td>\n",
              "      <td>-0.181</td>\n",
              "      <td>0.008</td>\n",
              "      <td>0.340</td>\n",
              "      <td>-0.030</td>\n",
              "      <td>-0.197</td>\n",
              "      <td>-0.051</td>\n",
              "      <td>-0.016</td>\n",
              "      <td>-0.024</td>\n",
              "      <td>-0.310</td>\n",
              "      <td>0.041</td>\n",
              "      <td>-0.129</td>\n",
              "      <td>-0.189</td>\n",
              "      <td>-0.100</td>\n",
              "      <td>-0.121</td>\n",
              "      <td>0.013</td>\n",
              "      <td>0.149</td>\n",
              "      <td>0.021</td>\n",
              "      <td>0.025</td>\n",
              "      <td>-0.231</td>\n",
              "      <td>-0.118</td>\n",
              "      <td>0.268</td>\n",
              "      <td>-0.120</td>\n",
              "      <td>0.001</td>\n",
              "      <td>-0.021</td>\n",
              "      <td>0.162</td>\n",
              "      <td>0.002</td>\n",
              "      <td>-0.139</td>\n",
              "      <td>-0.013</td>\n",
              "      <td>0.166</td>\n",
              "      <td>0.000</td>\n",
              "      <td>-0.038</td>\n",
              "      <td>-0.083</td>\n",
              "      <td>0.112</td>\n",
              "      <td>-0.089</td>\n",
              "      <td>0.128</td>\n",
              "      <td>...</td>\n",
              "      <td>-0.143</td>\n",
              "      <td>0.105</td>\n",
              "      <td>0.044</td>\n",
              "      <td>-0.048</td>\n",
              "      <td>0.032</td>\n",
              "      <td>-0.097</td>\n",
              "      <td>-0.132</td>\n",
              "      <td>-0.058</td>\n",
              "      <td>-0.108</td>\n",
              "      <td>-0.038</td>\n",
              "      <td>0.046</td>\n",
              "      <td>0.168</td>\n",
              "      <td>0.030</td>\n",
              "      <td>-0.055</td>\n",
              "      <td>0.002</td>\n",
              "      <td>-0.084</td>\n",
              "      <td>0.212</td>\n",
              "      <td>0.265</td>\n",
              "      <td>-0.132</td>\n",
              "      <td>-0.142</td>\n",
              "      <td>0.017</td>\n",
              "      <td>-0.118</td>\n",
              "      <td>-0.026</td>\n",
              "      <td>-0.286</td>\n",
              "      <td>0.164</td>\n",
              "      <td>-0.094</td>\n",
              "      <td>-0.284</td>\n",
              "      <td>0.012</td>\n",
              "      <td>-0.148</td>\n",
              "      <td>0.111</td>\n",
              "      <td>-0.043</td>\n",
              "      <td>0.123</td>\n",
              "      <td>0.093</td>\n",
              "      <td>-0.108</td>\n",
              "      <td>-0.359</td>\n",
              "      <td>-0.127</td>\n",
              "      <td>0.555556</td>\n",
              "      <td>0.5015</td>\n",
              "      <td>0.370887</td>\n",
              "      <td>0.339286</td>\n",
              "    </tr>\n",
              "  </tbody>\n",
              "</table>\n",
              "<p>3 rows × 104 columns</p>\n",
              "</div>"
            ],
            "text/plain": [
              "                                             content  ...  bad_title_percent\n",
              "0  Согласитесь, дорогие любители собак, до чего ж...  ...           0.358974\n",
              "1   Контуры Третьей Поперечной улицы, состоявшей ...  ...           0.382353\n",
              "2  Источник: http://infodays.ru Вообще он как-то ...  ...           0.339286\n",
              "\n",
              "[3 rows x 104 columns]"
            ]
          },
          "metadata": {
            "tags": []
          },
          "execution_count": 29
        }
      ]
    },
    {
      "cell_type": "markdown",
      "metadata": {
        "id": "4PHYK-B-EmHj",
        "colab_type": "text"
      },
      "source": [
        "**Item-Feature матрица**"
      ]
    },
    {
      "cell_type": "code",
      "metadata": {
        "id": "Ndn63FE7m-1p",
        "colab_type": "code",
        "colab": {}
      },
      "source": [
        "def item_feature():\n",
        "  coo = csr_matrix(items.loc[:,'emb0':])\n",
        "  coo = hstack([coo, matrix_tf, matrix_tf2])\n",
        "  print('Item-feature matrix created, shape : '+ str(coo.get_shape()))\n",
        "  return coo"
      ],
      "execution_count": 0,
      "outputs": []
    },
    {
      "cell_type": "code",
      "metadata": {
        "id": "n9npIx6dhohy",
        "colab_type": "code",
        "outputId": "f50e084b-207b-479d-eb1c-d224ea079477",
        "colab": {
          "base_uri": "https://localhost:8080/",
          "height": 34
        }
      },
      "source": [
        "if_matrix = item_feature()"
      ],
      "execution_count": 31,
      "outputs": [
        {
          "output_type": "stream",
          "text": [
            "Item-feature matrix created, shape : (328050, 269567)\n"
          ],
          "name": "stdout"
        }
      ]
    },
    {
      "cell_type": "code",
      "metadata": {
        "id": "y8AeT1_YkCpw",
        "colab_type": "code",
        "outputId": "10c282b8-a4f8-495d-ce87-fa23d6d7826e",
        "colab": {
          "base_uri": "https://localhost:8080/",
          "height": 34
        }
      },
      "source": [
        "del items\n",
        "gc.collect()"
      ],
      "execution_count": 32,
      "outputs": [
        {
          "output_type": "execute_result",
          "data": {
            "text/plain": [
              "0"
            ]
          },
          "metadata": {
            "tags": []
          },
          "execution_count": 32
        }
      ]
    },
    {
      "cell_type": "markdown",
      "metadata": {
        "id": "5iRaSlQEkvLk",
        "colab_type": "text"
      },
      "source": [
        "# Обучение, сохранение"
      ]
    },
    {
      "cell_type": "markdown",
      "metadata": {
        "id": "1Q6T5IM9Ff5R",
        "colab_type": "text"
      },
      "source": [
        "**Входные данные для модели**"
      ]
    },
    {
      "cell_type": "code",
      "metadata": {
        "id": "QVv1yj-XrghA",
        "colab_type": "code",
        "outputId": "53cf25b3-8ecd-4d4b-bbda-716128c4a83e",
        "colab": {
          "base_uri": "https://localhost:8080/",
          "height": 52
        }
      },
      "source": [
        "ui_matrix"
      ],
      "execution_count": 33,
      "outputs": [
        {
          "output_type": "execute_result",
          "data": {
            "text/plain": [
              "<42977x328050 sparse matrix of type '<class 'numpy.int64'>'\n",
              "\twith 67780168 stored elements in COOrdinate format>"
            ]
          },
          "metadata": {
            "tags": []
          },
          "execution_count": 33
        }
      ]
    },
    {
      "cell_type": "code",
      "metadata": {
        "id": "7CKXSGQWrhB2",
        "colab_type": "code",
        "outputId": "01467b76-f01a-42f4-fe67-a6809b63722f",
        "colab": {
          "base_uri": "https://localhost:8080/",
          "height": 52
        }
      },
      "source": [
        "if_matrix"
      ],
      "execution_count": 34,
      "outputs": [
        {
          "output_type": "execute_result",
          "data": {
            "text/plain": [
              "<328050x269567 sparse matrix of type '<class 'numpy.float64'>'\n",
              "\twith 61485751 stored elements in COOrdinate format>"
            ]
          },
          "metadata": {
            "tags": []
          },
          "execution_count": 34
        }
      ]
    },
    {
      "cell_type": "markdown",
      "metadata": {
        "id": "0d4TEk75mo2S",
        "colab_type": "text"
      },
      "source": [
        "**Сохранение матриц**"
      ]
    },
    {
      "cell_type": "code",
      "metadata": {
        "id": "g3WmyA1wnDhB",
        "colab_type": "code",
        "colab": {}
      },
      "source": [
        "from scipy.sparse import save_npz\n",
        "save_npz(\"inters.npz\", ui_matrix)\n",
        "save_npz(\"ifeat.npz\", if_matrix)"
      ],
      "execution_count": 0,
      "outputs": []
    },
    {
      "cell_type": "markdown",
      "metadata": {
        "id": "uH377F4Imutl",
        "colab_type": "text"
      },
      "source": [
        "**Обучение**"
      ]
    },
    {
      "cell_type": "code",
      "metadata": {
        "id": "WYwi0JiOUNB6",
        "colab_type": "code",
        "outputId": "e4a9a69b-b45b-412b-ed7b-ab838d5749e8",
        "colab": {
          "base_uri": "https://localhost:8080/",
          "height": 141
        }
      },
      "source": [
        "%%time\n",
        "import pickle\n",
        "\n",
        "model = LightFM(no_components=60, learning_schedule='adagrad', loss='logistic', learning_rate=0.05, random_state=13)\n",
        "for i in range(5):\n",
        "  print('Epoch'+str(i))\n",
        "  model.fit_partial(ui_matrix, item_features=if_matrix, epochs=1, num_threads=4)\n",
        "  with open(str(i)+'model.pickle', 'wb') as fle:\n",
        "    pickle.dump(model, fle, protocol=pickle.HIGHEST_PROTOCOL)"
      ],
      "execution_count": 0,
      "outputs": [
        {
          "output_type": "stream",
          "text": [
            "Epoch0\n",
            "Epoch1\n",
            "Epoch2\n",
            "Epoch3\n",
            "Epoch4\n",
            "CPU times: user 1d 10h 16min 23s, sys: 21.3 s, total: 1d 10h 16min 44s\n",
            "Wall time: 8h 38min 15s\n"
          ],
          "name": "stdout"
        }
      ]
    },
    {
      "cell_type": "markdown",
      "metadata": {
        "id": "lw5W15K7qeyo",
        "colab_type": "text"
      },
      "source": [
        "**Загрузка модели и матриц (на всякий случай)**"
      ]
    },
    {
      "cell_type": "code",
      "metadata": {
        "id": "qne8-3TvyAhO",
        "colab_type": "code",
        "colab": {}
      },
      "source": [
        "import pickle\n",
        "from lightfm import LightFM\n",
        "from scipy.sparse import load_npz\n",
        "\n",
        "ui_matrix = load_npz(\"inters.npz\")\n",
        "if_matrix = load_npz(\"ifeat.npz\")\n",
        "with open('4model.pickle', 'rb') as f:\n",
        "  model = pickle.load(f)"
      ],
      "execution_count": 0,
      "outputs": []
    },
    {
      "cell_type": "markdown",
      "metadata": {
        "id": "WNBztJHaI4kW",
        "colab_type": "text"
      },
      "source": [
        "**Просмотр получившихся эмбеддингов**"
      ]
    },
    {
      "cell_type": "code",
      "metadata": {
        "id": "6OSPTms15HFN",
        "colab_type": "code",
        "outputId": "571ff018-8acc-471c-fe9b-0e1d5d8416c2",
        "colab": {
          "base_uri": "https://localhost:8080/",
          "height": 247
        }
      },
      "source": [
        "model.user_embeddings"
      ],
      "execution_count": 41,
      "outputs": [
        {
          "output_type": "execute_result",
          "data": {
            "text/plain": [
              "array([[-0.06772878, -0.00335138, -0.10878259, ..., -0.02534712,\n",
              "         0.30425188, -0.42803472],\n",
              "       [ 0.01339718,  0.0072026 ,  0.11565433, ...,  0.05977984,\n",
              "         0.0328368 , -0.29393238],\n",
              "       [ 0.07081579,  0.15077028,  0.04871227, ..., -0.0527384 ,\n",
              "        -0.18156216,  0.1331907 ],\n",
              "       ...,\n",
              "       [-0.3145021 , -0.06457923, -0.04856536, ..., -0.10562722,\n",
              "         0.00377612, -0.14853296],\n",
              "       [-0.34189966,  0.03382048,  0.00869182, ..., -0.17067395,\n",
              "        -0.12272345,  0.07227996],\n",
              "       [-0.12550026, -0.12913477, -0.04429622, ...,  0.04949018,\n",
              "         0.2337197 ,  0.07340776]], dtype=float32)"
            ]
          },
          "metadata": {
            "tags": []
          },
          "execution_count": 41
        }
      ]
    },
    {
      "cell_type": "code",
      "metadata": {
        "id": "Lh9K9FB85SDM",
        "colab_type": "code",
        "outputId": "12977a72-82ba-407f-93d4-ff16d98d99c5",
        "colab": {
          "base_uri": "https://localhost:8080/",
          "height": 247
        }
      },
      "source": [
        "model.item_embeddings"
      ],
      "execution_count": 42,
      "outputs": [
        {
          "output_type": "execute_result",
          "data": {
            "text/plain": [
              "array([[ 0.00924585,  0.36714908, -0.27765334, ...,  0.19303343,\n",
              "        -0.02979052,  0.0007598 ],\n",
              "       [ 0.37882313, -0.21066907,  0.3415496 , ...,  0.00216993,\n",
              "        -0.35179698, -0.47179192],\n",
              "       [ 0.14987108,  0.25425395,  0.14173736, ...,  0.02535313,\n",
              "        -0.4997711 , -0.22649872],\n",
              "       ...,\n",
              "       [ 0.02213195,  0.00182157,  0.00806212, ...,  0.00510067,\n",
              "         0.05406705, -0.03515825],\n",
              "       [-0.00280513, -0.00742661, -0.0023408 , ...,  0.00221562,\n",
              "        -0.00711163, -0.02296642],\n",
              "       [ 0.00821936,  0.00703982, -0.02469675, ..., -0.00162828,\n",
              "         0.0556627 , -0.02865832]], dtype=float32)"
            ]
          },
          "metadata": {
            "tags": []
          },
          "execution_count": 42
        }
      ]
    },
    {
      "cell_type": "markdown",
      "metadata": {
        "id": "OEjJx7CuhnMa",
        "colab_type": "text"
      },
      "source": [
        "# Предсказание и сабмит"
      ]
    },
    {
      "cell_type": "markdown",
      "metadata": {
        "id": "bTptG3UwFMJN",
        "colab_type": "text"
      },
      "source": [
        "**Ранжирование**"
      ]
    },
    {
      "cell_type": "code",
      "metadata": {
        "id": "9PDYiSQP5Yev",
        "colab_type": "code",
        "colab": {}
      },
      "source": [
        "import pandas as pd\n",
        "import numpy as np"
      ],
      "execution_count": 0,
      "outputs": []
    },
    {
      "cell_type": "code",
      "metadata": {
        "id": "ozJ_rxCmEsFg",
        "colab_type": "code",
        "colab": {}
      },
      "source": [
        "random_benchmark = pd.read_csv('random_benchmark.csv')"
      ],
      "execution_count": 0,
      "outputs": []
    },
    {
      "cell_type": "code",
      "metadata": {
        "id": "eXMaHcqyFpVY",
        "colab_type": "code",
        "outputId": "1120ccd9-4a4e-4c8d-894b-c0095090fb43",
        "colab": {
          "base_uri": "https://localhost:8080/",
          "height": 215
        }
      },
      "source": [
        "print(random_benchmark.shape)\n",
        "random_benchmark.head()"
      ],
      "execution_count": 45,
      "outputs": [
        {
          "output_type": "stream",
          "text": [
            "(3018186, 2)\n"
          ],
          "name": "stdout"
        },
        {
          "output_type": "execute_result",
          "data": {
            "text/html": [
              "<div>\n",
              "<style scoped>\n",
              "    .dataframe tbody tr th:only-of-type {\n",
              "        vertical-align: middle;\n",
              "    }\n",
              "\n",
              "    .dataframe tbody tr th {\n",
              "        vertical-align: top;\n",
              "    }\n",
              "\n",
              "    .dataframe thead th {\n",
              "        text-align: right;\n",
              "    }\n",
              "</style>\n",
              "<table border=\"1\" class=\"dataframe\">\n",
              "  <thead>\n",
              "    <tr style=\"text-align: right;\">\n",
              "      <th></th>\n",
              "      <th>userId</th>\n",
              "      <th>itemId</th>\n",
              "    </tr>\n",
              "  </thead>\n",
              "  <tbody>\n",
              "    <tr>\n",
              "      <th>0</th>\n",
              "      <td>1</td>\n",
              "      <td>242249</td>\n",
              "    </tr>\n",
              "    <tr>\n",
              "      <th>1</th>\n",
              "      <td>1</td>\n",
              "      <td>117266</td>\n",
              "    </tr>\n",
              "    <tr>\n",
              "      <th>2</th>\n",
              "      <td>1</td>\n",
              "      <td>123441</td>\n",
              "    </tr>\n",
              "    <tr>\n",
              "      <th>3</th>\n",
              "      <td>1</td>\n",
              "      <td>148575</td>\n",
              "    </tr>\n",
              "    <tr>\n",
              "      <th>4</th>\n",
              "      <td>1</td>\n",
              "      <td>155695</td>\n",
              "    </tr>\n",
              "  </tbody>\n",
              "</table>\n",
              "</div>"
            ],
            "text/plain": [
              "   userId  itemId\n",
              "0       1  242249\n",
              "1       1  117266\n",
              "2       1  123441\n",
              "3       1  148575\n",
              "4       1  155695"
            ]
          },
          "metadata": {
            "tags": []
          },
          "execution_count": 45
        }
      ]
    },
    {
      "cell_type": "code",
      "metadata": {
        "id": "C922_fwaHo9m",
        "colab_type": "code",
        "colab": {}
      },
      "source": [
        "random_benchmark['scores'] = model.predict(np.array(random_benchmark.userId), np.array(random_benchmark.itemId), item_features=if_matrix, num_threads=4) "
      ],
      "execution_count": 0,
      "outputs": []
    },
    {
      "cell_type": "code",
      "metadata": {
        "id": "dGubM-DwlCj-",
        "colab_type": "code",
        "colab": {}
      },
      "source": [
        "random_benchmark = random_benchmark.sort_values(by=['userId', 'scores'], ascending=[True,False])"
      ],
      "execution_count": 0,
      "outputs": []
    },
    {
      "cell_type": "code",
      "metadata": {
        "id": "Ir8692dWpQLm",
        "colab_type": "code",
        "colab": {}
      },
      "source": [
        "random_benchmark.drop('scores', axis=1, inplace=True)"
      ],
      "execution_count": 0,
      "outputs": []
    },
    {
      "cell_type": "code",
      "metadata": {
        "id": "VBn6S9Q7prTw",
        "colab_type": "code",
        "outputId": "e89ea5ac-29de-4651-b59c-c1996e6aa044",
        "colab": {
          "base_uri": "https://localhost:8080/",
          "height": 215
        }
      },
      "source": [
        "print(random_benchmark.shape)\n",
        "random_benchmark.head()"
      ],
      "execution_count": 49,
      "outputs": [
        {
          "output_type": "stream",
          "text": [
            "(3018186, 2)\n"
          ],
          "name": "stdout"
        },
        {
          "output_type": "execute_result",
          "data": {
            "text/html": [
              "<div>\n",
              "<style scoped>\n",
              "    .dataframe tbody tr th:only-of-type {\n",
              "        vertical-align: middle;\n",
              "    }\n",
              "\n",
              "    .dataframe tbody tr th {\n",
              "        vertical-align: top;\n",
              "    }\n",
              "\n",
              "    .dataframe thead th {\n",
              "        text-align: right;\n",
              "    }\n",
              "</style>\n",
              "<table border=\"1\" class=\"dataframe\">\n",
              "  <thead>\n",
              "    <tr style=\"text-align: right;\">\n",
              "      <th></th>\n",
              "      <th>userId</th>\n",
              "      <th>itemId</th>\n",
              "    </tr>\n",
              "  </thead>\n",
              "  <tbody>\n",
              "    <tr>\n",
              "      <th>68</th>\n",
              "      <td>1</td>\n",
              "      <td>106661</td>\n",
              "    </tr>\n",
              "    <tr>\n",
              "      <th>248</th>\n",
              "      <td>1</td>\n",
              "      <td>178123</td>\n",
              "    </tr>\n",
              "    <tr>\n",
              "      <th>438</th>\n",
              "      <td>1</td>\n",
              "      <td>201223</td>\n",
              "    </tr>\n",
              "    <tr>\n",
              "      <th>178</th>\n",
              "      <td>1</td>\n",
              "      <td>307942</td>\n",
              "    </tr>\n",
              "    <tr>\n",
              "      <th>459</th>\n",
              "      <td>1</td>\n",
              "      <td>260888</td>\n",
              "    </tr>\n",
              "  </tbody>\n",
              "</table>\n",
              "</div>"
            ],
            "text/plain": [
              "     userId  itemId\n",
              "68        1  106661\n",
              "248       1  178123\n",
              "438       1  201223\n",
              "178       1  307942\n",
              "459       1  260888"
            ]
          },
          "metadata": {
            "tags": []
          },
          "execution_count": 49
        }
      ]
    },
    {
      "cell_type": "markdown",
      "metadata": {
        "id": "DV0wVawforkU",
        "colab_type": "text"
      },
      "source": [
        "**Посылка с решением**"
      ]
    },
    {
      "cell_type": "code",
      "metadata": {
        "id": "UIdaKiH8qKfL",
        "colab_type": "code",
        "colab": {}
      },
      "source": [
        "random_benchmark.to_csv(\"submission_lst_ver.csv\", index=False)"
      ],
      "execution_count": 0,
      "outputs": []
    },
    {
      "cell_type": "code",
      "metadata": {
        "id": "rpVDisdCqKiK",
        "colab_type": "code",
        "outputId": "d11fa9f4-9716-4ed0-9ad8-ed7f2201d846",
        "colab": {
          "base_uri": "https://localhost:8080/",
          "height": 70
        }
      },
      "source": [
        "!kaggle competitions submit -c recsys-iad-challenge -f submission_lst_ver.csv -m \"Submission_Last_mb\""
      ],
      "execution_count": 0,
      "outputs": [
        {
          "output_type": "stream",
          "text": [
            "Warning: Looks like you're using an outdated API Version, please consider updating (server 1.5.6 / client 1.5.4)\n",
            "100% 35.7M/35.7M [00:08<00:00, 4.31MB/s]\n",
            "Successfully submitted to Articles RecSys"
          ],
          "name": "stdout"
        }
      ]
    }
  ]
}