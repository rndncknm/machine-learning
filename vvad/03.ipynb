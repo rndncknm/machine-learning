{
 "cells": [
  {
   "cell_type": "markdown",
   "metadata": {},
   "source": [
    "## Введение в анализ данных, ИАД-1\n",
    "\n",
    "## НИУ ВШЭ, 2018-19 учебный год\n",
    "\n",
    "###  Домашнее задание №3. Обработка текстов. Линейная классификация.\n",
    "\n",
    "Задание выполнил(а): Целищев Иван\n",
    "\n",
    "### Общая информация\n",
    "__Дата выдачи:__ 28.04.2019\n",
    "\n",
    "__Дедлайн:__ 23:59 12.05.2019\n",
    "\n",
    "### Оценивание и штрафы\n",
    "\n",
    "За сдачу задания позже срока на итоговую оценку за задание накладывается штраф в размере 1 балл в день, но получить отрицательную оценку нельзя.\n",
    "\n",
    "__Внимание!__ Домашнее задание выполняется самостоятельно. «Похожие» решения считаются плагиатом и все задействованные студенты (в том числе те, у кого списали) не могут получить за него больше 0 баллов.\n",
    "\n",
    "### Формат сдачи\n",
    "__Стирать условия нельзя!__\n",
    "\n",
    "Загрузка файлов с решениями происходит в системе [Anytask](https://anytask.org/).\n",
    "\n",
    "Формат названия файла: homework_03_Фамилия_Имя.ipynb"
   ]
  },
  {
   "cell_type": "code",
   "execution_count": 1,
   "metadata": {
    "collapsed": true
   },
   "outputs": [],
   "source": [
    "import pandas as pd\n",
    "import numpy as np\n",
    "from sklearn.linear_model import LogisticRegression"
   ]
  },
  {
   "cell_type": "markdown",
   "metadata": {},
   "source": [
    "В задании вам предоставлены реальные текстовые данные. \n",
    "\n",
    "Необходимо построить алгоритм, который будет по тексту документа определять тип источника:\n",
    " - Микроблоги\n",
    " - Новости\n",
    " - Отзывы\n",
    " - Форумы\n",
    " - Блоги\n",
    " - Видео\n",
    " - Мессенджеры"
   ]
  },
  {
   "cell_type": "markdown",
   "metadata": {},
   "source": [
    "## Часть 1. Работа с текстовыми данными"
   ]
  },
  {
   "cell_type": "markdown",
   "metadata": {},
   "source": [
    " ### 1. Исследование данных"
   ]
  },
  {
   "cell_type": "markdown",
   "metadata": {},
   "source": [
    "[2 балла]"
   ]
  },
  {
   "cell_type": "markdown",
   "metadata": {},
   "source": [
    "Скачаем данные отсюда:\n",
    "https://yadi.sk/d/o3cPgFAq5gALiw"
   ]
  },
  {
   "cell_type": "code",
   "execution_count": 2,
   "metadata": {},
   "outputs": [
    {
     "name": "stderr",
     "output_type": "stream",
     "text": [
      "C:\\Program Files (x86)\\Microsoft Visual Studio\\Shared\\Anaconda3_64\\lib\\site-packages\\IPython\\core\\interactiveshell.py:2698: DtypeWarning: Columns (2) have mixed types. Specify dtype option on import or set low_memory=False.\n",
      "  interactivity=interactivity, compiler=compiler, result=result)\n"
     ]
    }
   ],
   "source": [
    "D = pd.read_csv('texts_dataset.csv', sep=';', index_col=0)"
   ]
  },
  {
   "cell_type": "code",
   "execution_count": 3,
   "metadata": {},
   "outputs": [
    {
     "data": {
      "text/html": [
       "<div>\n",
       "<style>\n",
       "    .dataframe thead tr:only-child th {\n",
       "        text-align: right;\n",
       "    }\n",
       "\n",
       "    .dataframe thead th {\n",
       "        text-align: left;\n",
       "    }\n",
       "\n",
       "    .dataframe tbody tr th {\n",
       "        vertical-align: top;\n",
       "    }\n",
       "</style>\n",
       "<table border=\"1\" class=\"dataframe\">\n",
       "  <thead>\n",
       "    <tr style=\"text-align: right;\">\n",
       "      <th></th>\n",
       "      <th>Дата</th>\n",
       "      <th>ID сообщения</th>\n",
       "      <th>Заголовок</th>\n",
       "      <th>Текст</th>\n",
       "      <th>Дублей</th>\n",
       "      <th>Тип источника</th>\n",
       "    </tr>\n",
       "  </thead>\n",
       "  <tbody>\n",
       "    <tr>\n",
       "      <th>0</th>\n",
       "      <td>27.04.2019 13:18</td>\n",
       "      <td>1396238</td>\n",
       "      <td>NaN</td>\n",
       "      <td>-Здравствуйте, тинькофф банк\\n-Мать твою ебал\\...</td>\n",
       "      <td>1.0</td>\n",
       "      <td>Микроблоги</td>\n",
       "    </tr>\n",
       "    <tr>\n",
       "      <th>1</th>\n",
       "      <td>27.04.2019 13:15</td>\n",
       "      <td>1396239</td>\n",
       "      <td>NaN</td>\n",
       "      <td>Почему Немагия сделала обзор на Тинькова? #нем...</td>\n",
       "      <td>1.0</td>\n",
       "      <td>Микроблоги</td>\n",
       "    </tr>\n",
       "    <tr>\n",
       "      <th>2</th>\n",
       "      <td>27.04.2019 13:10</td>\n",
       "      <td>1396248</td>\n",
       "      <td>Forbes назвал самые экстравагантные инвестиции...</td>\n",
       "      <td>13:01, 27.04.2019 \\n\\nПоделиться:\\n\\n  \\n  57 ...</td>\n",
       "      <td>2.0</td>\n",
       "      <td>Новости</td>\n",
       "    </tr>\n",
       "    <tr>\n",
       "      <th>3</th>\n",
       "      <td>27.04.2019 13:06</td>\n",
       "      <td>1396243</td>\n",
       "      <td>Forbes назвал самые экстравагантные инвестиции...</td>\n",
       "      <td>13:01, 27.04.2019 \\n\\nПоделиться:\\n\\n  \\n  44 ...</td>\n",
       "      <td>2.0</td>\n",
       "      <td>Новости</td>\n",
       "    </tr>\n",
       "    <tr>\n",
       "      <th>4</th>\n",
       "      <td>27.04.2019 13:03</td>\n",
       "      <td>1396186</td>\n",
       "      <td>Тинькофф Страхование: Не купить полис без подп...</td>\n",
       "      <td>Первый отзыв без оценки:&amp;nbsp;\\nhttps://www.ba...</td>\n",
       "      <td>1.0</td>\n",
       "      <td>Отзывы</td>\n",
       "    </tr>\n",
       "  </tbody>\n",
       "</table>\n",
       "</div>"
      ],
      "text/plain": [
       "               Дата ID сообщения  \\\n",
       "0  27.04.2019 13:18      1396238   \n",
       "1  27.04.2019 13:15      1396239   \n",
       "2  27.04.2019 13:10      1396248   \n",
       "3  27.04.2019 13:06      1396243   \n",
       "4  27.04.2019 13:03      1396186   \n",
       "\n",
       "                                           Заголовок  \\\n",
       "0                                                NaN   \n",
       "1                                                NaN   \n",
       "2  Forbes назвал самые экстравагантные инвестиции...   \n",
       "3  Forbes назвал самые экстравагантные инвестиции...   \n",
       "4  Тинькофф Страхование: Не купить полис без подп...   \n",
       "\n",
       "                                               Текст  Дублей Тип источника  \n",
       "0  -Здравствуйте, тинькофф банк\\n-Мать твою ебал\\...     1.0    Микроблоги  \n",
       "1  Почему Немагия сделала обзор на Тинькова? #нем...     1.0    Микроблоги  \n",
       "2  13:01, 27.04.2019 \\n\\nПоделиться:\\n\\n  \\n  57 ...     2.0       Новости  \n",
       "3  13:01, 27.04.2019 \\n\\nПоделиться:\\n\\n  \\n  44 ...     2.0       Новости  \n",
       "4  Первый отзыв без оценки:&nbsp;\\nhttps://www.ba...     1.0        Отзывы  "
      ]
     },
     "execution_count": 3,
     "metadata": {},
     "output_type": "execute_result"
    }
   ],
   "source": [
    "D.head()"
   ]
  },
  {
   "cell_type": "markdown",
   "metadata": {},
   "source": [
    "Далее будем использовать лишь поля  \"Текст\", \"Тип источника\""
   ]
  },
  {
   "cell_type": "code",
   "execution_count": 4,
   "metadata": {
    "collapsed": true
   },
   "outputs": [],
   "source": [
    "D = D[[ \"Текст\", \"Тип источника\"]]"
   ]
  },
  {
   "cell_type": "code",
   "execution_count": 5,
   "metadata": {},
   "outputs": [
    {
     "data": {
      "text/html": [
       "<div>\n",
       "<style>\n",
       "    .dataframe thead tr:only-child th {\n",
       "        text-align: right;\n",
       "    }\n",
       "\n",
       "    .dataframe thead th {\n",
       "        text-align: left;\n",
       "    }\n",
       "\n",
       "    .dataframe tbody tr th {\n",
       "        vertical-align: top;\n",
       "    }\n",
       "</style>\n",
       "<table border=\"1\" class=\"dataframe\">\n",
       "  <thead>\n",
       "    <tr style=\"text-align: right;\">\n",
       "      <th></th>\n",
       "      <th>Текст</th>\n",
       "      <th>Тип источника</th>\n",
       "    </tr>\n",
       "  </thead>\n",
       "  <tbody>\n",
       "    <tr>\n",
       "      <th>0</th>\n",
       "      <td>-Здравствуйте, тинькофф банк\\n-Мать твою ебал\\...</td>\n",
       "      <td>Микроблоги</td>\n",
       "    </tr>\n",
       "    <tr>\n",
       "      <th>1</th>\n",
       "      <td>Почему Немагия сделала обзор на Тинькова? #нем...</td>\n",
       "      <td>Микроблоги</td>\n",
       "    </tr>\n",
       "    <tr>\n",
       "      <th>2</th>\n",
       "      <td>13:01, 27.04.2019 \\n\\nПоделиться:\\n\\n  \\n  57 ...</td>\n",
       "      <td>Новости</td>\n",
       "    </tr>\n",
       "    <tr>\n",
       "      <th>3</th>\n",
       "      <td>13:01, 27.04.2019 \\n\\nПоделиться:\\n\\n  \\n  44 ...</td>\n",
       "      <td>Новости</td>\n",
       "    </tr>\n",
       "    <tr>\n",
       "      <th>4</th>\n",
       "      <td>Первый отзыв без оценки:&amp;nbsp;\\nhttps://www.ba...</td>\n",
       "      <td>Отзывы</td>\n",
       "    </tr>\n",
       "  </tbody>\n",
       "</table>\n",
       "</div>"
      ],
      "text/plain": [
       "                                               Текст Тип источника\n",
       "0  -Здравствуйте, тинькофф банк\\n-Мать твою ебал\\...    Микроблоги\n",
       "1  Почему Немагия сделала обзор на Тинькова? #нем...    Микроблоги\n",
       "2  13:01, 27.04.2019 \\n\\nПоделиться:\\n\\n  \\n  57 ...       Новости\n",
       "3  13:01, 27.04.2019 \\n\\nПоделиться:\\n\\n  \\n  44 ...       Новости\n",
       "4  Первый отзыв без оценки:&nbsp;\\nhttps://www.ba...        Отзывы"
      ]
     },
     "execution_count": 5,
     "metadata": {},
     "output_type": "execute_result"
    }
   ],
   "source": [
    "D.head()"
   ]
  },
  {
   "cell_type": "code",
   "execution_count": 6,
   "metadata": {},
   "outputs": [
    {
     "name": "stdout",
     "output_type": "stream",
     "text": [
      "Микроблоги\n",
      "Новости\n",
      "Отзывы\n",
      "Форумы\n",
      "Блоги\n",
      "Видео\n",
      "Мессенджеры\n",
      "nan\n"
     ]
    }
   ],
   "source": [
    "for i in D['Тип источника'].unique():\n",
    "    print (i)"
   ]
  },
  {
   "cell_type": "code",
   "execution_count": 7,
   "metadata": {},
   "outputs": [
    {
     "name": "stdout",
     "output_type": "stream",
     "text": [
      "<class 'pandas.core.frame.DataFrame'>\n",
      "Int64Index: 200206 entries, 0 to 200205\n",
      "Data columns (total 2 columns):\n",
      "Текст            199578 non-null object\n",
      "Тип источника    199993 non-null object\n",
      "dtypes: object(2)\n",
      "memory usage: 4.6+ MB\n"
     ]
    }
   ],
   "source": [
    "D.info()"
   ]
  },
  {
   "cell_type": "markdown",
   "metadata": {},
   "source": [
    "Удалим объекты с пропусками"
   ]
  },
  {
   "cell_type": "code",
   "execution_count": 8,
   "metadata": {
    "collapsed": true
   },
   "outputs": [],
   "source": [
    "D.dropna(axis = 0, inplace=True)"
   ]
  },
  {
   "cell_type": "markdown",
   "metadata": {},
   "source": [
    "#### 1.1 Выведите среднюю длину текстов в каждом классе. Что можно сказать о данных? Что можно сказать о каждом классе?"
   ]
  },
  {
   "cell_type": "code",
   "execution_count": 9,
   "metadata": {},
   "outputs": [
    {
     "name": "stdout",
     "output_type": "stream",
     "text": [
      "Средние длины(количество слов) в зависимости от типа :\n",
      "Микроблоги : 22.639953757225435\n",
      "Новости : 348.76277276542174\n",
      "Отзывы : 80.81043781725889\n",
      "Форумы : 69.05979518629947\n",
      "Блоги : 483.9022399392559\n",
      "Видео : 117.08529411764705\n",
      "Мессенджеры : 130.15199740175382\n"
     ]
    }
   ],
   "source": [
    "### ╰( ͡° ͜ʖ ͡° )つ──☆*:・ﾟ\n",
    "print('Средние длины(количество слов) в зависимости от типа :')\n",
    "print('Микроблоги :', np.mean(list(map(len,D[D['Тип источника'] == 'Микроблоги']['Текст'].str.split()))))\n",
    "print('Новости :', np.mean(list(map(len,D[D['Тип источника'] == 'Новости']['Текст'].str.split()))))\n",
    "print('Отзывы :', np.mean(list(map(len,D[D['Тип источника'] == 'Отзывы']['Текст'].str.split()))))\n",
    "print('Форумы :', np.mean(list(map(len,D[D['Тип источника'] == 'Форумы']['Текст'].str.split()))))\n",
    "print('Блоги :', np.mean(list(map(len,D[D['Тип источника'] == 'Блоги']['Текст'].str.split()))))\n",
    "print('Видео :', np.mean(list(map(len,D[D['Тип источника'] == 'Видео']['Текст'].str.split()))))\n",
    "print('Мессенджеры :', np.mean(list(map(len,D[D['Тип источника'] == 'Мессенджеры']['Текст'].str.split()))))"
   ]
  },
  {
   "cell_type": "markdown",
   "metadata": {},
   "source": [
    "Данные довольно большие, самое маленькое среднее - 22.64 слова. Микроблоги - меньше всего слов. Блоги - больше всего слов. Видео и мессенджеры примерно одинаковы(117 и 130 слов в среднем). Аналогично форумы и отзывы(69 и 81)"
   ]
  },
  {
   "cell_type": "markdown",
   "metadata": {},
   "source": [
    "#### 1.2 Приведите тексты к нижнему регистру и токенезируйте их"
   ]
  },
  {
   "cell_type": "markdown",
   "metadata": {},
   "source": [
    "используйте word_tokenize из nltk.tokenize"
   ]
  },
  {
   "cell_type": "code",
   "execution_count": 10,
   "metadata": {
    "collapsed": true
   },
   "outputs": [],
   "source": [
    "### ╰( ͡° ͜ʖ ͡° )つ──☆*:・ﾟ\n",
    "import nltk\n",
    "from nltk.tokenize import word_tokenize\n",
    "D['Текст'] = D.apply(lambda row: (row['Текст'].lower()), axis=1)\n",
    "D['Текст'] = D.apply(lambda row: nltk.word_tokenize(row['Текст']), axis=1)"
   ]
  },
  {
   "cell_type": "markdown",
   "metadata": {},
   "source": [
    "#### 1.3 Оставьте в каждом документе токены содержащие  только буквы русского или английского алфавита.\n"
   ]
  },
  {
   "cell_type": "code",
   "execution_count": 11,
   "metadata": {
    "collapsed": true
   },
   "outputs": [],
   "source": [
    "### ╰( ͡° ͜ʖ ͡° )つ──☆*:・ﾟ\n",
    "import re\n",
    "regex = re.compile('[^a-zA-Zа-яА-я]')\n",
    "D['Текст'] = D.apply(lambda row: (list(filter(None, [regex.sub('', w) for w in row['Текст']]))), axis=1)"
   ]
  },
  {
   "cell_type": "markdown",
   "metadata": {},
   "source": [
    "#### 1.4 Выведите 20 слов, которые встечаются в наибольшем числе документов. Что можно сказать об этих словах?"
   ]
  },
  {
   "cell_type": "code",
   "execution_count": 12,
   "metadata": {},
   "outputs": [
    {
     "name": "stdout",
     "output_type": "stream",
     "text": [
      "('на', 117697) ('не', 110262) ('тинькофф', 105818) ('банк', 94084) ('по', 84618) ('что', 82930) ('за', 68368) ('банка', 62690) ('как', 60864) ('это', 59311) ('для', 55173) ('так', 50145) ('от', 49701) ('но', 47230) ('все', 45408) ('если', 43466) ('из', 41108) ('то', 40284) ('или', 39851) ('пишет', 39709)\n"
     ]
    }
   ],
   "source": [
    "### ╰( ͡° ͜ʖ ͡° )つ──☆*:・ﾟ\n",
    "from itertools import groupby\n",
    "from sklearn.feature_extraction.text import CountVectorizer\n",
    "cnt_vec = CountVectorizer()\n",
    "fr = D['Текст'].copy()\n",
    "X = cnt_vec.fit_transform(fr.apply(lambda row: ' '.join(set(row))))\n",
    "frequencies = list(zip(cnt_vec.get_feature_names(), X.sum(axis=0).tolist()[0]))\n",
    "print(*(sorted(frequencies, key=lambda x: -x[1]))[:20])"
   ]
  },
  {
   "cell_type": "markdown",
   "metadata": {},
   "source": [
    "Почти все слова - частицы, союзы или предлоги. Наверное, надо было ввести стоп-слова"
   ]
  },
  {
   "cell_type": "markdown",
   "metadata": {},
   "source": [
    "#### 1.5 Выведите 20 слов, которые встечаются в наименьшем числе документов "
   ]
  },
  {
   "cell_type": "code",
   "execution_count": 13,
   "metadata": {},
   "outputs": [
    {
     "name": "stdout",
     "output_type": "stream",
     "text": [
      "('яшанькиным', 1) ('яшей', 1) ('яшка', 1) ('яшки', 1) ('яшкин', 1) ('яшкура', 1) ('яшма', 1) ('ящере', 1) ('ящерица', 1) ('ящеров', 1) ('ящикамя', 1) ('ящичек', 1) ('ящички', 1) ('ящур', 1) ('яыва', 1) ('яывы', 1) ('яывя', 1) ('яыя', 1) ('яэто', 1) ('яюнармия', 1)\n"
     ]
    }
   ],
   "source": [
    "### ╰( ͡° ͜ʖ ͡° )つ──☆*:・ﾟ\n",
    "print(*(sorted(frequencies, key=lambda x: -x[1]))[-20:])"
   ]
  },
  {
   "cell_type": "markdown",
   "metadata": {},
   "source": [
    "### 2. Подготовка данных"
   ]
  },
  {
   "cell_type": "markdown",
   "metadata": {},
   "source": [
    "[3 балла]"
   ]
  },
  {
   "cell_type": "markdown",
   "metadata": {},
   "source": [
    "####  2.1 Разделите выборку на обучающую и тестовую в соотношении 70:30"
   ]
  },
  {
   "cell_type": "code",
   "execution_count": 14,
   "metadata": {
    "collapsed": true
   },
   "outputs": [],
   "source": [
    "### ╰( ͡° ͜ʖ ͡° )つ──☆*:・ﾟ\n",
    "from sklearn.model_selection import train_test_split\n",
    "X_train, X_test, y_train, y_test = train_test_split(D['Текст'], D['Тип источника'], test_size=0.3, random_state=13)\n",
    "forstem = X_train.copy()\n",
    "forstemtest = X_test.copy()"
   ]
  },
  {
   "cell_type": "markdown",
   "metadata": {},
   "source": [
    "#### 2.2 Обучите BOW векторы на обучающей выборке и примените преобразование к обучающей и тестовой"
   ]
  },
  {
   "cell_type": "code",
   "execution_count": 15,
   "metadata": {
    "collapsed": true
   },
   "outputs": [],
   "source": [
    "X_train = X_train.apply(lambda x: ' '.join([w for w in x]))\n",
    "X_test = X_test.apply(lambda x: ' '.join([w for w in x]))"
   ]
  },
  {
   "cell_type": "code",
   "execution_count": 16,
   "metadata": {
    "collapsed": true
   },
   "outputs": [],
   "source": [
    "### ╰( ͡° ͜ʖ ͡° )つ──☆*:・ﾟ\n",
    "cnt_train = CountVectorizer(stop_words=None)\n",
    "B = cnt_train.fit_transform(X_train)\n",
    "Vtest = cnt_train.transform(X_test)"
   ]
  },
  {
   "cell_type": "markdown",
   "metadata": {},
   "source": [
    "#### 2.3 Обучите TFIDF векторы на обучающей выборке и примените преобразование к тестовой"
   ]
  },
  {
   "cell_type": "code",
   "execution_count": 17,
   "metadata": {
    "collapsed": true
   },
   "outputs": [],
   "source": [
    "### ╰( ͡° ͜ʖ ͡° )つ──☆*:・ﾟ\n",
    "from sklearn.feature_extraction.text import TfidfVectorizer\n",
    "tfidf_vec = TfidfVectorizer()\n",
    "T = tfidf_vec.fit_transform(X_train)\n",
    "Ttest = tfidf_vec.transform(X_test)"
   ]
  },
  {
   "cell_type": "markdown",
   "metadata": {},
   "source": [
    "#### 2.4 Примените стемминг к текстам обучающей и тестовой выборки. Обучите TFIDF векторы на полученных данных."
   ]
  },
  {
   "cell_type": "code",
   "execution_count": 18,
   "metadata": {
    "collapsed": true
   },
   "outputs": [],
   "source": [
    "from nltk.stem.snowball import SnowballStemmer\n",
    "stemmer = SnowballStemmer('russian' or 'english')\n",
    "tfidf = TfidfVectorizer()"
   ]
  },
  {
   "cell_type": "code",
   "execution_count": 19,
   "metadata": {
    "collapsed": true
   },
   "outputs": [],
   "source": [
    "forstem = forstem.apply(lambda x: ' '.join([stemmer.stem(w) for w in x]))\n",
    "forstemtest = forstemtest.apply(lambda x: ' '.join([stemmer.stem(w) for w in x]))"
   ]
  },
  {
   "cell_type": "code",
   "execution_count": 20,
   "metadata": {
    "collapsed": true
   },
   "outputs": [],
   "source": [
    "### ╰( ͡° ͜ʖ ͡° )つ──☆*:・ﾟ\n",
    "TSTEM = tfidf.fit_transform(forstem)\n",
    "Stest = tfidf.transform(forstemtest)"
   ]
  },
  {
   "cell_type": "markdown",
   "metadata": {},
   "source": [
    "#### 2.5 Сравните размеры полученных матриц"
   ]
  },
  {
   "cell_type": "code",
   "execution_count": 21,
   "metadata": {},
   "outputs": [
    {
     "name": "stdout",
     "output_type": "stream",
     "text": [
      "Bag of words : (139697, 349177) (59871, 349177)\n",
      "TFIDF : (139697, 349177) (59871, 349177)\n",
      "TFIDF(Stem) : (139697, 189005) (59871, 189005)\n"
     ]
    }
   ],
   "source": [
    "### ╰( ͡° ͜ʖ ͡° )つ──☆*:・ﾟ\n",
    "print('Bag of words :', B.shape, Vtest.shape)\n",
    "print('TFIDF :', T.shape, Ttest.shape)\n",
    "print('TFIDF(Stem) :', TSTEM.shape, Stest.shape)"
   ]
  },
  {
   "cell_type": "markdown",
   "metadata": {},
   "source": [
    "### 3. Обучение модели и оценка результатов"
   ]
  },
  {
   "cell_type": "markdown",
   "metadata": {},
   "source": [
    "[2 балла]"
   ]
  },
  {
   "cell_type": "markdown",
   "metadata": {},
   "source": [
    "#### 3.1 Обучите логистическую регрессию SGDClassifier на данных, полученных в пунктах 2.2, 2.3 и 2.4.\n",
    "#### Оцените качество на отложенной выборке по метрике accuracy"
   ]
  },
  {
   "cell_type": "code",
   "execution_count": 22,
   "metadata": {
    "collapsed": true
   },
   "outputs": [],
   "source": [
    "### ╰( ͡° ͜ʖ ͡° )つ──☆*:・ﾟ\n",
    "from sklearn.linear_model import SGDClassifier\n",
    "from sklearn.metrics import accuracy_score"
   ]
  },
  {
   "cell_type": "code",
   "execution_count": 23,
   "metadata": {},
   "outputs": [
    {
     "name": "stderr",
     "output_type": "stream",
     "text": [
      "C:\\Program Files (x86)\\Microsoft Visual Studio\\Shared\\Anaconda3_64\\lib\\site-packages\\sklearn\\linear_model\\stochastic_gradient.py:166: FutureWarning: max_iter and tol parameters have been added in SGDClassifier in 0.19. If both are left unset, they default to max_iter=5 and tol=None. If tol is not None, max_iter defaults to max_iter=1000. From 0.21, default max_iter will be 1000, and default tol will be 1e-3.\n",
      "  FutureWarning)\n"
     ]
    }
   ],
   "source": [
    "sgdbow = SGDClassifier()\n",
    "sgdbow.fit(B, y_train)\n",
    "ybow = sgdbow.predict(Vtest)"
   ]
  },
  {
   "cell_type": "code",
   "execution_count": 24,
   "metadata": {},
   "outputs": [
    {
     "name": "stderr",
     "output_type": "stream",
     "text": [
      "C:\\Program Files (x86)\\Microsoft Visual Studio\\Shared\\Anaconda3_64\\lib\\site-packages\\sklearn\\linear_model\\stochastic_gradient.py:166: FutureWarning: max_iter and tol parameters have been added in SGDClassifier in 0.19. If both are left unset, they default to max_iter=5 and tol=None. If tol is not None, max_iter defaults to max_iter=1000. From 0.21, default max_iter will be 1000, and default tol will be 1e-3.\n",
      "  FutureWarning)\n"
     ]
    }
   ],
   "source": [
    "sgdtfidf = SGDClassifier()\n",
    "sgdtfidf.fit(T, y_train)\n",
    "ytfidf = sgdtfidf.predict(Ttest)"
   ]
  },
  {
   "cell_type": "code",
   "execution_count": 25,
   "metadata": {},
   "outputs": [
    {
     "name": "stderr",
     "output_type": "stream",
     "text": [
      "C:\\Program Files (x86)\\Microsoft Visual Studio\\Shared\\Anaconda3_64\\lib\\site-packages\\sklearn\\linear_model\\stochastic_gradient.py:166: FutureWarning: max_iter and tol parameters have been added in SGDClassifier in 0.19. If both are left unset, they default to max_iter=5 and tol=None. If tol is not None, max_iter defaults to max_iter=1000. From 0.21, default max_iter will be 1000, and default tol will be 1e-3.\n",
      "  FutureWarning)\n"
     ]
    }
   ],
   "source": [
    "sgdtfidfstem = SGDClassifier()\n",
    "sgdtfidfstem.fit(TSTEM, y_train)\n",
    "ystem = sgdtfidfstem.predict(Stest)"
   ]
  },
  {
   "cell_type": "code",
   "execution_count": 26,
   "metadata": {},
   "outputs": [
    {
     "name": "stdout",
     "output_type": "stream",
     "text": [
      "Accuracies :\n",
      "Bow : 0.8437974979539343\n",
      "TFIDF : 0.8388702376776737\n",
      "TFIDF(stemm) : 0.8318551552504552\n"
     ]
    }
   ],
   "source": [
    "print('Accuracies :')\n",
    "print('Bow :', accuracy_score(y_test, ybow))\n",
    "print('TFIDF :', accuracy_score(y_test, ytfidf))\n",
    "print('TFIDF(stemm) :', accuracy_score(y_test, ystem))"
   ]
  },
  {
   "cell_type": "markdown",
   "metadata": {},
   "source": [
    "#### 3.2 Какой алгоритм показал наилучшее качество классификации? Как это можно объяснить?"
   ]
  },
  {
   "cell_type": "markdown",
   "metadata": {
    "collapsed": true
   },
   "source": [
    "### ╰( ͡° ͜ʖ ͡° )つ──☆*:・ﾟ\n",
    "Наилучшее качество показал BOW. Возможно, данный результат объясняется тем, что во многих документах присутствовали слова(частицы и тд из пункта 1.4(самые популярные)), которые никак не помогают при обучении модели. "
   ]
  },
  {
   "cell_type": "markdown",
   "metadata": {},
   "source": [
    "#### 3.3 Выведите несколько документов из тестовой выборки, на которых были допущены ошибки. Что можно о них сказать?"
   ]
  },
  {
   "cell_type": "code",
   "execution_count": 28,
   "metadata": {},
   "outputs": [
    {
     "data": {
      "text/html": [
       "<div>\n",
       "<style>\n",
       "    .dataframe thead tr:only-child th {\n",
       "        text-align: right;\n",
       "    }\n",
       "\n",
       "    .dataframe thead th {\n",
       "        text-align: left;\n",
       "    }\n",
       "\n",
       "    .dataframe tbody tr th {\n",
       "        vertical-align: top;\n",
       "    }\n",
       "</style>\n",
       "<table border=\"1\" class=\"dataframe\">\n",
       "  <thead>\n",
       "    <tr style=\"text-align: right;\">\n",
       "      <th></th>\n",
       "      <th>Текст</th>\n",
       "      <th>Истинные ответы</th>\n",
       "      <th>Предсказанные ответы</th>\n",
       "    </tr>\n",
       "  </thead>\n",
       "  <tbody>\n",
       "    <tr>\n",
       "      <th>41522</th>\n",
       "      <td>июня года состоится рассмотрение гражданского ...</td>\n",
       "      <td>Новости</td>\n",
       "      <td>Форумы</td>\n",
       "    </tr>\n",
       "    <tr>\n",
       "      <th>6098</th>\n",
       "      <td>почта банк лучший и самый высокотехнологичный ...</td>\n",
       "      <td>Новости</td>\n",
       "      <td>Отзывы</td>\n",
       "    </tr>\n",
       "    <tr>\n",
       "      <th>27467</th>\n",
       "      <td>справка операций по счету nbsp c по номер дого...</td>\n",
       "      <td>Отзывы</td>\n",
       "      <td>Новости</td>\n",
       "    </tr>\n",
       "    <tr>\n",
       "      <th>42366</th>\n",
       "      <td>входящий перевод на карту блэк от юрлица как т...</td>\n",
       "      <td>Форумы</td>\n",
       "      <td>Отзывы</td>\n",
       "    </tr>\n",
       "    <tr>\n",
       "      <th>50313</th>\n",
       "      <td>на яндекс деньги постоянно кешбеки без комисси...</td>\n",
       "      <td>Отзывы</td>\n",
       "      <td>Форумы</td>\n",
       "    </tr>\n",
       "    <tr>\n",
       "      <th>18993</th>\n",
       "      <td>весьма забавный банк один раз звонили и пытали...</td>\n",
       "      <td>Форумы</td>\n",
       "      <td>Отзывы</td>\n",
       "    </tr>\n",
       "    <tr>\n",
       "      <th>3643</th>\n",
       "      <td>кира расскажите пожалуйста подробно как именно...</td>\n",
       "      <td>Видео</td>\n",
       "      <td>Форумы</td>\n",
       "    </tr>\n",
       "    <tr>\n",
       "      <th>27173</th>\n",
       "      <td>тинькофф говорит что такого клиента вообще нет...</td>\n",
       "      <td>Отзывы</td>\n",
       "      <td>Форумы</td>\n",
       "    </tr>\n",
       "    <tr>\n",
       "      <th>19564</th>\n",
       "      <td>пора разобраться с тиньков банков во т здесь м...</td>\n",
       "      <td>Видео</td>\n",
       "      <td>Форумы</td>\n",
       "    </tr>\n",
       "    <tr>\n",
       "      <th>30873</th>\n",
       "      <td>жесть какая очень странно это туда в этом году...</td>\n",
       "      <td>Форумы</td>\n",
       "      <td>Отзывы</td>\n",
       "    </tr>\n",
       "  </tbody>\n",
       "</table>\n",
       "</div>"
      ],
      "text/plain": [
       "                                                   Текст Истинные ответы  \\\n",
       "41522  июня года состоится рассмотрение гражданского ...         Новости   \n",
       "6098   почта банк лучший и самый высокотехнологичный ...         Новости   \n",
       "27467  справка операций по счету nbsp c по номер дого...          Отзывы   \n",
       "42366  входящий перевод на карту блэк от юрлица как т...          Форумы   \n",
       "50313  на яндекс деньги постоянно кешбеки без комисси...          Отзывы   \n",
       "18993  весьма забавный банк один раз звонили и пытали...          Форумы   \n",
       "3643   кира расскажите пожалуйста подробно как именно...           Видео   \n",
       "27173  тинькофф говорит что такого клиента вообще нет...          Отзывы   \n",
       "19564  пора разобраться с тиньков банков во т здесь м...           Видео   \n",
       "30873  жесть какая очень странно это туда в этом году...          Форумы   \n",
       "\n",
       "      Предсказанные ответы  \n",
       "41522               Форумы  \n",
       "6098                Отзывы  \n",
       "27467              Новости  \n",
       "42366               Отзывы  \n",
       "50313               Форумы  \n",
       "18993               Отзывы  \n",
       "3643                Форумы  \n",
       "27173               Форумы  \n",
       "19564               Форумы  \n",
       "30873               Отзывы  "
      ]
     },
     "execution_count": 28,
     "metadata": {},
     "output_type": "execute_result"
    }
   ],
   "source": [
    "### ╰( ͡° ͜ʖ ͡° )つ──☆*:・ﾟ\n",
    "data = pd.DataFrame(data=np.array([X_test, y_test, ybow]).T, columns = ['Текст', 'Истинные ответы','Предсказанные ответы'])\n",
    "data = data.loc[(data['Истинные ответы'] != data['Предсказанные ответы'])]\n",
    "data.sample(10)"
   ]
  },
  {
   "cell_type": "markdown",
   "metadata": {},
   "source": [
    "Часто алгоритм путает Форумы и Отзывы из за того, что тексты по этим темам особо не отличаются(ни по формату, ни по приципу написания)"
   ]
  },
  {
   "cell_type": "code",
   "execution_count": 32,
   "metadata": {},
   "outputs": [
    {
     "data": {
      "text/html": [
       "<div>\n",
       "<style>\n",
       "    .dataframe thead tr:only-child th {\n",
       "        text-align: right;\n",
       "    }\n",
       "\n",
       "    .dataframe thead th {\n",
       "        text-align: left;\n",
       "    }\n",
       "\n",
       "    .dataframe tbody tr th {\n",
       "        vertical-align: top;\n",
       "    }\n",
       "</style>\n",
       "<table border=\"1\" class=\"dataframe\">\n",
       "  <thead>\n",
       "    <tr style=\"text-align: right;\">\n",
       "      <th></th>\n",
       "      <th>Текст</th>\n",
       "      <th>Истинные ответы</th>\n",
       "      <th>Предсказанные ответы</th>\n",
       "    </tr>\n",
       "  </thead>\n",
       "  <tbody>\n",
       "    <tr>\n",
       "      <th>28964</th>\n",
       "      <td>россия вместе с великобританией и сша лидирует...</td>\n",
       "      <td>Блоги</td>\n",
       "      <td>Новости</td>\n",
       "    </tr>\n",
       "    <tr>\n",
       "      <th>44698</th>\n",
       "      <td>прилетелкоммент чудные дела от тинькофф банк о...</td>\n",
       "      <td>Мессенджеры</td>\n",
       "      <td>Отзывы</td>\n",
       "    </tr>\n",
       "    <tr>\n",
       "      <th>32373</th>\n",
       "      <td>платные справки не встречал справки для юрлиц ...</td>\n",
       "      <td>Отзывы</td>\n",
       "      <td>Форумы</td>\n",
       "    </tr>\n",
       "    <tr>\n",
       "      <th>3341</th>\n",
       "      <td>хочу кредитую карту ни один банк не дает даже ...</td>\n",
       "      <td>Новости</td>\n",
       "      <td>Форумы</td>\n",
       "    </tr>\n",
       "    <tr>\n",
       "      <th>40580</th>\n",
       "      <td>b хотелось бы знать это временное помутнение и...</td>\n",
       "      <td>Отзывы</td>\n",
       "      <td>Форумы</td>\n",
       "    </tr>\n",
       "    <tr>\n",
       "      <th>51544</th>\n",
       "      <td>вот в связи с нынешней паранойей насчет ухода ...</td>\n",
       "      <td>Блоги</td>\n",
       "      <td>Форумы</td>\n",
       "    </tr>\n",
       "    <tr>\n",
       "      <th>7615</th>\n",
       "      <td>ну если ты слышишь вопрос оператора после сбро...</td>\n",
       "      <td>Форумы</td>\n",
       "      <td>Отзывы</td>\n",
       "    </tr>\n",
       "    <tr>\n",
       "      <th>35117</th>\n",
       "      <td>тачка уезжает в тинькофф банк</td>\n",
       "      <td>Видео</td>\n",
       "      <td>Форумы</td>\n",
       "    </tr>\n",
       "    <tr>\n",
       "      <th>53386</th>\n",
       "      <td>хочется поделиться неожиданной болью с которой...</td>\n",
       "      <td>Новости</td>\n",
       "      <td>Форумы</td>\n",
       "    </tr>\n",
       "    <tr>\n",
       "      <th>11555</th>\n",
       "      <td>у тиньковбанка нет отделений совсем а работают...</td>\n",
       "      <td>Форумы</td>\n",
       "      <td>Новости</td>\n",
       "    </tr>\n",
       "  </tbody>\n",
       "</table>\n",
       "</div>"
      ],
      "text/plain": [
       "                                                   Текст Истинные ответы  \\\n",
       "28964  россия вместе с великобританией и сша лидирует...           Блоги   \n",
       "44698  прилетелкоммент чудные дела от тинькофф банк о...     Мессенджеры   \n",
       "32373  платные справки не встречал справки для юрлиц ...          Отзывы   \n",
       "3341   хочу кредитую карту ни один банк не дает даже ...         Новости   \n",
       "40580  b хотелось бы знать это временное помутнение и...          Отзывы   \n",
       "51544  вот в связи с нынешней паранойей насчет ухода ...           Блоги   \n",
       "7615   ну если ты слышишь вопрос оператора после сбро...          Форумы   \n",
       "35117                      тачка уезжает в тинькофф банк           Видео   \n",
       "53386  хочется поделиться неожиданной болью с которой...         Новости   \n",
       "11555  у тиньковбанка нет отделений совсем а работают...          Форумы   \n",
       "\n",
       "      Предсказанные ответы  \n",
       "28964              Новости  \n",
       "44698               Отзывы  \n",
       "32373               Форумы  \n",
       "3341                Форумы  \n",
       "40580               Форумы  \n",
       "51544               Форумы  \n",
       "7615                Отзывы  \n",
       "35117               Форумы  \n",
       "53386               Форумы  \n",
       "11555              Новости  "
      ]
     },
     "execution_count": 32,
     "metadata": {},
     "output_type": "execute_result"
    }
   ],
   "source": [
    "data1 = pd.DataFrame(data=np.array([X_test, y_test, ytfidf]).T, columns = ['Текст', 'Истинные ответы','Предсказанные ответы'])\n",
    "data1 = data1.loc[(data1['Истинные ответы'] != data1['Предсказанные ответы'])]\n",
    "data1.sample(10)"
   ]
  },
  {
   "cell_type": "markdown",
   "metadata": {},
   "source": [
    "Та же история + иногда Новости с Форумами"
   ]
  },
  {
   "cell_type": "code",
   "execution_count": 34,
   "metadata": {},
   "outputs": [
    {
     "data": {
      "text/html": [
       "<div>\n",
       "<style>\n",
       "    .dataframe thead tr:only-child th {\n",
       "        text-align: right;\n",
       "    }\n",
       "\n",
       "    .dataframe thead th {\n",
       "        text-align: left;\n",
       "    }\n",
       "\n",
       "    .dataframe tbody tr th {\n",
       "        vertical-align: top;\n",
       "    }\n",
       "</style>\n",
       "<table border=\"1\" class=\"dataframe\">\n",
       "  <thead>\n",
       "    <tr style=\"text-align: right;\">\n",
       "      <th></th>\n",
       "      <th>Текст</th>\n",
       "      <th>Истинные ответы</th>\n",
       "      <th>Предсказанные ответы</th>\n",
       "    </tr>\n",
       "  </thead>\n",
       "  <tbody>\n",
       "    <tr>\n",
       "      <th>13189</th>\n",
       "      <td>цитата pizza отнюдь калви честный предпринимат...</td>\n",
       "      <td>Форумы</td>\n",
       "      <td>Новости</td>\n",
       "    </tr>\n",
       "    <tr>\n",
       "      <th>10419</th>\n",
       "      <td>чек банкомата нужен в первую очередь при попол...</td>\n",
       "      <td>Отзывы</td>\n",
       "      <td>Форумы</td>\n",
       "    </tr>\n",
       "    <tr>\n",
       "      <th>8577</th>\n",
       "      <td>странно банк россия в крыму пополняет карту бе...</td>\n",
       "      <td>Блоги</td>\n",
       "      <td>Форумы</td>\n",
       "    </tr>\n",
       "    <tr>\n",
       "      <th>3358</th>\n",
       "      <td>встречайте тинькофф stories в мобильном банке ...</td>\n",
       "      <td>Микроблоги</td>\n",
       "      <td>Форумы</td>\n",
       "    </tr>\n",
       "    <tr>\n",
       "      <th>27482</th>\n",
       "      <td>если шансы что банк ещ увеличит кредитный лими...</td>\n",
       "      <td>Форумы</td>\n",
       "      <td>Отзывы</td>\n",
       "    </tr>\n",
       "    <tr>\n",
       "      <th>15603</th>\n",
       "      <td>все что нужно знать о кэшбэке банки вам этого ...</td>\n",
       "      <td>Мессенджеры</td>\n",
       "      <td>Форумы</td>\n",
       "    </tr>\n",
       "    <tr>\n",
       "      <th>35608</th>\n",
       "      <td>не сообщили о превышении лимита бесплатного по...</td>\n",
       "      <td>Отзывы</td>\n",
       "      <td>Форумы</td>\n",
       "    </tr>\n",
       "    <tr>\n",
       "      <th>50493</th>\n",
       "      <td>являюсь клиентом вот уже года изначально все у...</td>\n",
       "      <td>Отзывы</td>\n",
       "      <td>Форумы</td>\n",
       "    </tr>\n",
       "    <tr>\n",
       "      <th>43178</th>\n",
       "      <td>ну вот что ж вы валентин нужно было купить у н...</td>\n",
       "      <td>Видео</td>\n",
       "      <td>Форумы</td>\n",
       "    </tr>\n",
       "    <tr>\n",
       "      <th>34279</th>\n",
       "      <td>новости за декабря apple впервые призналась в ...</td>\n",
       "      <td>Мессенджеры</td>\n",
       "      <td>Микроблоги</td>\n",
       "    </tr>\n",
       "  </tbody>\n",
       "</table>\n",
       "</div>"
      ],
      "text/plain": [
       "                                                   Текст Истинные ответы  \\\n",
       "13189  цитата pizza отнюдь калви честный предпринимат...          Форумы   \n",
       "10419  чек банкомата нужен в первую очередь при попол...          Отзывы   \n",
       "8577   странно банк россия в крыму пополняет карту бе...           Блоги   \n",
       "3358   встречайте тинькофф stories в мобильном банке ...      Микроблоги   \n",
       "27482  если шансы что банк ещ увеличит кредитный лими...          Форумы   \n",
       "15603  все что нужно знать о кэшбэке банки вам этого ...     Мессенджеры   \n",
       "35608  не сообщили о превышении лимита бесплатного по...          Отзывы   \n",
       "50493  являюсь клиентом вот уже года изначально все у...          Отзывы   \n",
       "43178  ну вот что ж вы валентин нужно было купить у н...           Видео   \n",
       "34279  новости за декабря apple впервые призналась в ...     Мессенджеры   \n",
       "\n",
       "      Предсказанные ответы  \n",
       "13189              Новости  \n",
       "10419               Форумы  \n",
       "8577                Форумы  \n",
       "3358                Форумы  \n",
       "27482               Отзывы  \n",
       "15603               Форумы  \n",
       "35608               Форумы  \n",
       "50493               Форумы  \n",
       "43178               Форумы  \n",
       "34279           Микроблоги  "
      ]
     },
     "execution_count": 34,
     "metadata": {},
     "output_type": "execute_result"
    }
   ],
   "source": [
    "data2 = pd.DataFrame(data=np.array([X_test, y_test, ystem]).T, columns = ['Текст', 'Истинные ответы','Предсказанные ответы'])\n",
    "data2 = data2.loc[(data2['Истинные ответы'] != data2['Предсказанные ответы'])]\n",
    "data2.sample(10)"
   ]
  },
  {
   "cell_type": "markdown",
   "metadata": {},
   "source": [
    "История с отзывами и форумами продолжается + Блоги и Новости + определение мессенджеров(15603, 34279)"
   ]
  },
  {
   "cell_type": "markdown",
   "metadata": {},
   "source": [
    "#### 3.4 Постройте матрицу ошибок. Проанализируйте ее."
   ]
  },
  {
   "cell_type": "code",
   "execution_count": 35,
   "metadata": {},
   "outputs": [
    {
     "data": {
      "text/plain": [
       "Форумы         20744\n",
       "Отзывы         15240\n",
       "Новости        11424\n",
       "Микроблоги      6380\n",
       "Видео           3614\n",
       "Блоги           1568\n",
       "Мессенджеры      901\n",
       "Name: Тип источника, dtype: int64"
      ]
     },
     "execution_count": 35,
     "metadata": {},
     "output_type": "execute_result"
    }
   ],
   "source": [
    "y_test.value_counts()"
   ]
  },
  {
   "cell_type": "code",
   "execution_count": 36,
   "metadata": {},
   "outputs": [
    {
     "data": {
      "text/html": [
       "<div>\n",
       "<style>\n",
       "    .dataframe thead tr:only-child th {\n",
       "        text-align: right;\n",
       "    }\n",
       "\n",
       "    .dataframe thead th {\n",
       "        text-align: left;\n",
       "    }\n",
       "\n",
       "    .dataframe tbody tr th {\n",
       "        vertical-align: top;\n",
       "    }\n",
       "</style>\n",
       "<table border=\"1\" class=\"dataframe\">\n",
       "  <thead>\n",
       "    <tr style=\"text-align: right;\">\n",
       "      <th></th>\n",
       "      <th>Блоги</th>\n",
       "      <th>Видео</th>\n",
       "      <th>Мессенджеры</th>\n",
       "      <th>Микроблоги</th>\n",
       "      <th>Новости</th>\n",
       "      <th>Отзывы</th>\n",
       "      <th>Форумы</th>\n",
       "    </tr>\n",
       "  </thead>\n",
       "  <tbody>\n",
       "    <tr>\n",
       "      <th>Блоги</th>\n",
       "      <td>331</td>\n",
       "      <td>58</td>\n",
       "      <td>17</td>\n",
       "      <td>88</td>\n",
       "      <td>481</td>\n",
       "      <td>128</td>\n",
       "      <td>465</td>\n",
       "    </tr>\n",
       "    <tr>\n",
       "      <th>Видео</th>\n",
       "      <td>4</td>\n",
       "      <td>2363</td>\n",
       "      <td>6</td>\n",
       "      <td>408</td>\n",
       "      <td>30</td>\n",
       "      <td>179</td>\n",
       "      <td>624</td>\n",
       "    </tr>\n",
       "    <tr>\n",
       "      <th>Мессенджеры</th>\n",
       "      <td>3</td>\n",
       "      <td>42</td>\n",
       "      <td>322</td>\n",
       "      <td>246</td>\n",
       "      <td>68</td>\n",
       "      <td>26</td>\n",
       "      <td>194</td>\n",
       "    </tr>\n",
       "    <tr>\n",
       "      <th>Микроблоги</th>\n",
       "      <td>0</td>\n",
       "      <td>83</td>\n",
       "      <td>2</td>\n",
       "      <td>5706</td>\n",
       "      <td>0</td>\n",
       "      <td>150</td>\n",
       "      <td>439</td>\n",
       "    </tr>\n",
       "    <tr>\n",
       "      <th>Новости</th>\n",
       "      <td>71</td>\n",
       "      <td>81</td>\n",
       "      <td>30</td>\n",
       "      <td>302</td>\n",
       "      <td>10024</td>\n",
       "      <td>167</td>\n",
       "      <td>749</td>\n",
       "    </tr>\n",
       "    <tr>\n",
       "      <th>Отзывы</th>\n",
       "      <td>6</td>\n",
       "      <td>41</td>\n",
       "      <td>0</td>\n",
       "      <td>117</td>\n",
       "      <td>36</td>\n",
       "      <td>13083</td>\n",
       "      <td>1957</td>\n",
       "    </tr>\n",
       "    <tr>\n",
       "      <th>Форумы</th>\n",
       "      <td>13</td>\n",
       "      <td>118</td>\n",
       "      <td>10</td>\n",
       "      <td>371</td>\n",
       "      <td>161</td>\n",
       "      <td>1381</td>\n",
       "      <td>18690</td>\n",
       "    </tr>\n",
       "  </tbody>\n",
       "</table>\n",
       "</div>"
      ],
      "text/plain": [
       "             Блоги  Видео  Мессенджеры  Микроблоги  Новости  Отзывы  Форумы\n",
       "Блоги          331     58           17          88      481     128     465\n",
       "Видео            4   2363            6         408       30     179     624\n",
       "Мессенджеры      3     42          322         246       68      26     194\n",
       "Микроблоги       0     83            2        5706        0     150     439\n",
       "Новости         71     81           30         302    10024     167     749\n",
       "Отзывы           6     41            0         117       36   13083    1957\n",
       "Форумы          13    118           10         371      161    1381   18690"
      ]
     },
     "execution_count": 36,
     "metadata": {},
     "output_type": "execute_result"
    }
   ],
   "source": [
    "### ╰( ͡° ͜ʖ ͡° )つ──☆*:・ﾟ\n",
    "from sklearn.metrics import confusion_matrix\n",
    "col = ['Блоги', 'Видео', 'Мессенджеры','Микроблоги','Новости','Отзывы','Форумы']\n",
    "pd.DataFrame(confusion_matrix(y_test, ybow), columns = col, index = col)"
   ]
  },
  {
   "cell_type": "markdown",
   "metadata": {},
   "source": [
    "Данный алгоритм плохо отделяет блоги от новостей и форумов и не так часто как казалось ранее ошибается в паре отзывы и форумы"
   ]
  },
  {
   "cell_type": "code",
   "execution_count": 37,
   "metadata": {},
   "outputs": [
    {
     "data": {
      "text/html": [
       "<div>\n",
       "<style>\n",
       "    .dataframe thead tr:only-child th {\n",
       "        text-align: right;\n",
       "    }\n",
       "\n",
       "    .dataframe thead th {\n",
       "        text-align: left;\n",
       "    }\n",
       "\n",
       "    .dataframe tbody tr th {\n",
       "        vertical-align: top;\n",
       "    }\n",
       "</style>\n",
       "<table border=\"1\" class=\"dataframe\">\n",
       "  <thead>\n",
       "    <tr style=\"text-align: right;\">\n",
       "      <th></th>\n",
       "      <th>Блоги</th>\n",
       "      <th>Видео</th>\n",
       "      <th>Мессенджеры</th>\n",
       "      <th>Микроблоги</th>\n",
       "      <th>Новости</th>\n",
       "      <th>Отзывы</th>\n",
       "      <th>Форумы</th>\n",
       "    </tr>\n",
       "  </thead>\n",
       "  <tbody>\n",
       "    <tr>\n",
       "      <th>Блоги</th>\n",
       "      <td>81</td>\n",
       "      <td>45</td>\n",
       "      <td>2</td>\n",
       "      <td>75</td>\n",
       "      <td>782</td>\n",
       "      <td>175</td>\n",
       "      <td>408</td>\n",
       "    </tr>\n",
       "    <tr>\n",
       "      <th>Видео</th>\n",
       "      <td>0</td>\n",
       "      <td>2272</td>\n",
       "      <td>1</td>\n",
       "      <td>290</td>\n",
       "      <td>90</td>\n",
       "      <td>237</td>\n",
       "      <td>724</td>\n",
       "    </tr>\n",
       "    <tr>\n",
       "      <th>Мессенджеры</th>\n",
       "      <td>2</td>\n",
       "      <td>37</td>\n",
       "      <td>106</td>\n",
       "      <td>189</td>\n",
       "      <td>339</td>\n",
       "      <td>38</td>\n",
       "      <td>190</td>\n",
       "    </tr>\n",
       "    <tr>\n",
       "      <th>Микроблоги</th>\n",
       "      <td>0</td>\n",
       "      <td>79</td>\n",
       "      <td>1</td>\n",
       "      <td>5467</td>\n",
       "      <td>74</td>\n",
       "      <td>189</td>\n",
       "      <td>570</td>\n",
       "    </tr>\n",
       "    <tr>\n",
       "      <th>Новости</th>\n",
       "      <td>0</td>\n",
       "      <td>23</td>\n",
       "      <td>2</td>\n",
       "      <td>56</td>\n",
       "      <td>10712</td>\n",
       "      <td>167</td>\n",
       "      <td>464</td>\n",
       "    </tr>\n",
       "    <tr>\n",
       "      <th>Отзывы</th>\n",
       "      <td>0</td>\n",
       "      <td>24</td>\n",
       "      <td>0</td>\n",
       "      <td>51</td>\n",
       "      <td>90</td>\n",
       "      <td>12839</td>\n",
       "      <td>2236</td>\n",
       "    </tr>\n",
       "    <tr>\n",
       "      <th>Форумы</th>\n",
       "      <td>3</td>\n",
       "      <td>101</td>\n",
       "      <td>2</td>\n",
       "      <td>209</td>\n",
       "      <td>427</td>\n",
       "      <td>1255</td>\n",
       "      <td>18747</td>\n",
       "    </tr>\n",
       "  </tbody>\n",
       "</table>\n",
       "</div>"
      ],
      "text/plain": [
       "             Блоги  Видео  Мессенджеры  Микроблоги  Новости  Отзывы  Форумы\n",
       "Блоги           81     45            2          75      782     175     408\n",
       "Видео            0   2272            1         290       90     237     724\n",
       "Мессенджеры      2     37          106         189      339      38     190\n",
       "Микроблоги       0     79            1        5467       74     189     570\n",
       "Новости          0     23            2          56    10712     167     464\n",
       "Отзывы           0     24            0          51       90   12839    2236\n",
       "Форумы           3    101            2         209      427    1255   18747"
      ]
     },
     "execution_count": 37,
     "metadata": {},
     "output_type": "execute_result"
    }
   ],
   "source": [
    "pd.DataFrame(confusion_matrix(y_test, ytfidf), columns = col, index = col)"
   ]
  },
  {
   "cell_type": "markdown",
   "metadata": {},
   "source": [
    "Данный алгоритм сильно ошибается на блогах и в мессенджерах путая с новостями и все так же с форумами и отзывами"
   ]
  },
  {
   "cell_type": "code",
   "execution_count": 38,
   "metadata": {},
   "outputs": [
    {
     "data": {
      "text/html": [
       "<div>\n",
       "<style>\n",
       "    .dataframe thead tr:only-child th {\n",
       "        text-align: right;\n",
       "    }\n",
       "\n",
       "    .dataframe thead th {\n",
       "        text-align: left;\n",
       "    }\n",
       "\n",
       "    .dataframe tbody tr th {\n",
       "        vertical-align: top;\n",
       "    }\n",
       "</style>\n",
       "<table border=\"1\" class=\"dataframe\">\n",
       "  <thead>\n",
       "    <tr style=\"text-align: right;\">\n",
       "      <th></th>\n",
       "      <th>Блоги</th>\n",
       "      <th>Видео</th>\n",
       "      <th>Мессенджеры</th>\n",
       "      <th>Микроблоги</th>\n",
       "      <th>Новости</th>\n",
       "      <th>Отзывы</th>\n",
       "      <th>Форумы</th>\n",
       "    </tr>\n",
       "  </thead>\n",
       "  <tbody>\n",
       "    <tr>\n",
       "      <th>Блоги</th>\n",
       "      <td>73</td>\n",
       "      <td>55</td>\n",
       "      <td>1</td>\n",
       "      <td>85</td>\n",
       "      <td>754</td>\n",
       "      <td>196</td>\n",
       "      <td>404</td>\n",
       "    </tr>\n",
       "    <tr>\n",
       "      <th>Видео</th>\n",
       "      <td>1</td>\n",
       "      <td>2301</td>\n",
       "      <td>0</td>\n",
       "      <td>256</td>\n",
       "      <td>90</td>\n",
       "      <td>330</td>\n",
       "      <td>636</td>\n",
       "    </tr>\n",
       "    <tr>\n",
       "      <th>Мессенджеры</th>\n",
       "      <td>1</td>\n",
       "      <td>38</td>\n",
       "      <td>97</td>\n",
       "      <td>188</td>\n",
       "      <td>345</td>\n",
       "      <td>32</td>\n",
       "      <td>200</td>\n",
       "    </tr>\n",
       "    <tr>\n",
       "      <th>Микроблоги</th>\n",
       "      <td>0</td>\n",
       "      <td>85</td>\n",
       "      <td>1</td>\n",
       "      <td>5471</td>\n",
       "      <td>57</td>\n",
       "      <td>174</td>\n",
       "      <td>592</td>\n",
       "    </tr>\n",
       "    <tr>\n",
       "      <th>Новости</th>\n",
       "      <td>0</td>\n",
       "      <td>32</td>\n",
       "      <td>2</td>\n",
       "      <td>56</td>\n",
       "      <td>10630</td>\n",
       "      <td>287</td>\n",
       "      <td>417</td>\n",
       "    </tr>\n",
       "    <tr>\n",
       "      <th>Отзывы</th>\n",
       "      <td>1</td>\n",
       "      <td>24</td>\n",
       "      <td>0</td>\n",
       "      <td>57</td>\n",
       "      <td>75</td>\n",
       "      <td>12872</td>\n",
       "      <td>2211</td>\n",
       "    </tr>\n",
       "    <tr>\n",
       "      <th>Форумы</th>\n",
       "      <td>6</td>\n",
       "      <td>118</td>\n",
       "      <td>1</td>\n",
       "      <td>215</td>\n",
       "      <td>408</td>\n",
       "      <td>1636</td>\n",
       "      <td>18360</td>\n",
       "    </tr>\n",
       "  </tbody>\n",
       "</table>\n",
       "</div>"
      ],
      "text/plain": [
       "             Блоги  Видео  Мессенджеры  Микроблоги  Новости  Отзывы  Форумы\n",
       "Блоги           73     55            1          85      754     196     404\n",
       "Видео            1   2301            0         256       90     330     636\n",
       "Мессенджеры      1     38           97         188      345      32     200\n",
       "Микроблоги       0     85            1        5471       57     174     592\n",
       "Новости          0     32            2          56    10630     287     417\n",
       "Отзывы           1     24            0          57       75   12872    2211\n",
       "Форумы           6    118            1         215      408    1636   18360"
      ]
     },
     "execution_count": 38,
     "metadata": {},
     "output_type": "execute_result"
    }
   ],
   "source": [
    "pd.DataFrame(confusion_matrix(y_test, ystem), columns = col, index = col)"
   ]
  },
  {
   "cell_type": "markdown",
   "metadata": {},
   "source": [
    "У данного алгоритма еще немного хуже с блогами и мессенджерами + отзывы и форумы"
   ]
  },
  {
   "cell_type": "markdown",
   "metadata": {},
   "source": [
    "## Часть 2. Логистическая регрессия.\n",
    "[3 балла]"
   ]
  },
  {
   "cell_type": "markdown",
   "metadata": {},
   "source": [
    "Для наших экспериентов возьмём обучающую выборку [отсюда](https://www.kaggle.com/iabhishekofficial/mobile-price-classification)."
   ]
  },
  {
   "cell_type": "code",
   "execution_count": 39,
   "metadata": {
    "collapsed": true
   },
   "outputs": [],
   "source": [
    "train = pd.read_csv('train.csv')"
   ]
  },
  {
   "cell_type": "markdown",
   "metadata": {},
   "source": [
    "Решается задача многоклассовой классификации — определение ценовой категории телефона. Для простоты перейдём к задаче бинарной классификации — пусть исходные классы 0 и 1 соответствуют классу 0 новой целевой переменной, а остальные классу 1.\n",
    "​\n",
    "Замените целевую переменную, отделите её в отдельную переменную и удалите из исходной выборки."
   ]
  },
  {
   "cell_type": "code",
   "execution_count": 40,
   "metadata": {
    "collapsed": true
   },
   "outputs": [],
   "source": [
    "### ╰( ͡° ͜ʖ ͡° )つ──☆*:・ﾟ\n",
    "train['NewClasses'] = 0\n",
    "train.loc[(train['price_range'] > 1), 'NewClasses'] = 1\n",
    "train.drop(['price_range'], inplace = True, axis = 1)"
   ]
  },
  {
   "cell_type": "markdown",
   "metadata": {},
   "source": [
    "Разделите выборку на обучающую и тестовую части в соотношении 7 к 3. Для этого можно использовать `train_test_split` из scikit-learn. Не забудьте зафиксировать сид для разбиения."
   ]
  },
  {
   "cell_type": "code",
   "execution_count": 41,
   "metadata": {
    "collapsed": true
   },
   "outputs": [],
   "source": [
    "### ╰( ͡° ͜ʖ ͡° )つ──☆*:・ﾟ\n",
    "X_train, X_test, y_train, y_test = train_test_split(train.loc[:, : 'wifi'],train['NewClasses'], test_size=0.3, random_state=13)"
   ]
  },
  {
   "cell_type": "markdown",
   "metadata": {},
   "source": [
    "В этой части вы будете обучать самый простой бинарный классификатор — логистическую регрессию. Будем использовать готовую реализацию `LogisticRegression` из scikit-learn.\n",
    "\n",
    "Логистическая регрессия — линейный метод, то есть в нём предсказание алгоритма вычислаяется как скалярное произведение признаков и весов алгоритма: \n",
    "\n",
    "$$\n",
    "b(x) = w_0 + \\langle w, x \\rangle = w_0 + \\sum_{i=1}^{d} w_i x_i\n",
    "$$\n",
    "\n",
    "Для вычисления вероятности положительного класса применяется сигмода. В результате предсказание вероятности принадлежности объекта к положительному классу можно записать как: \n",
    "\n",
    "$$\n",
    "P(y = +1 | x) = \\frac{1}{1 + \\exp(- w_0 - \\langle w, x \\rangle )}\n",
    "$$"
   ]
  },
  {
   "cell_type": "markdown",
   "metadata": {},
   "source": [
    "Не забывайте, что для линейных методов матрицу объекты-признаки необходимо предварительно нормировать (то есть привести каждый признак к одному и тому же масштабу одним из способов). Для этого можно воспользоваться `StandardScaler` или сделать это вручную."
   ]
  },
  {
   "cell_type": "code",
   "execution_count": 42,
   "metadata": {},
   "outputs": [
    {
     "name": "stderr",
     "output_type": "stream",
     "text": [
      "C:\\Program Files (x86)\\Microsoft Visual Studio\\Shared\\Anaconda3_64\\lib\\site-packages\\sklearn\\preprocessing\\data.py:645: DataConversionWarning: Data with input dtype int64, float64 were all converted to float64 by StandardScaler.\n",
      "  return self.partial_fit(X, y)\n",
      "C:\\Program Files (x86)\\Microsoft Visual Studio\\Shared\\Anaconda3_64\\lib\\site-packages\\sklearn\\base.py:464: DataConversionWarning: Data with input dtype int64, float64 were all converted to float64 by StandardScaler.\n",
      "  return self.fit(X, **fit_params).transform(X)\n",
      "C:\\Program Files (x86)\\Microsoft Visual Studio\\Shared\\Anaconda3_64\\lib\\site-packages\\ipykernel_launcher.py:5: DataConversionWarning: Data with input dtype int64, float64 were all converted to float64 by StandardScaler.\n",
      "  \"\"\"\n"
     ]
    }
   ],
   "source": [
    "### ╰( ͡° ͜ʖ ͡° )つ──☆*:・ﾟ\n",
    "from sklearn.preprocessing import StandardScaler\n",
    "scaler = StandardScaler()\n",
    "X_train = scaler.fit_transform(X_train)\n",
    "X_test = scaler.transform(X_test)"
   ]
  },
  {
   "cell_type": "markdown",
   "metadata": {},
   "source": [
    "Обучите логистическую регрессию. Сделайте предсказания для тестовой части, посчитайте по ним ROC-AUC и Accuracy (порог 0.5). Хорошо ли удаётся предсказывать целевую переменную?\n",
    "Не забывайте, что метод predict_proba вычисляет вероятности обоих классов выборки, а в бинарной классификации нас интересует в первую очередь вероятность принадлежности к положительному классу."
   ]
  },
  {
   "cell_type": "code",
   "execution_count": 43,
   "metadata": {},
   "outputs": [
    {
     "name": "stdout",
     "output_type": "stream",
     "text": [
      "Accuracy : 0.9883333333333333\n",
      "ROC-AUC : 0.9995444241966309\n"
     ]
    },
    {
     "name": "stderr",
     "output_type": "stream",
     "text": [
      "C:\\Program Files (x86)\\Microsoft Visual Studio\\Shared\\Anaconda3_64\\lib\\site-packages\\sklearn\\linear_model\\logistic.py:433: FutureWarning: Default solver will be changed to 'lbfgs' in 0.22. Specify a solver to silence this warning.\n",
      "  FutureWarning)\n"
     ]
    }
   ],
   "source": [
    "### ╰( ͡° ͜ʖ ͡° )つ──☆*:・ﾟ\n",
    "from sklearn.linear_model import LogisticRegression\n",
    "from sklearn.metrics import roc_auc_score\n",
    "logregr = LogisticRegression()\n",
    "logregr.fit(X_train, y_train)\n",
    "y = logregr.predict(X_test)\n",
    "yproba = logregr.predict_proba(X_test)[:, 1]\n",
    "print('Accuracy :', accuracy_score(y, y_test))\n",
    "print('ROC-AUC :' , roc_auc_score(y_test, yproba))"
   ]
  },
  {
   "cell_type": "markdown",
   "metadata": {},
   "source": [
    "У обученной логистической регрессии есть два аттрибута: `coef_` и `intercept_`, которые соответствуют весам $w$ и $w_0$. Это и есть результат обучения логистической регрессии. Попробуйте с помощью них (с помощью всё той же обученной ранее логистической регрессии) посчитать \"сырое\" предсказание алгоритма $b(x)$. \n",
    "\n",
    "Постройте гистограмму полученных значений и ответьте на вопросы:\n",
    "- Какие значения принимает такое предсказание?\n",
    "- Похожи ли эти значения на вероятность классов?"
   ]
  },
  {
   "cell_type": "code",
   "execution_count": 44,
   "metadata": {},
   "outputs": [
    {
     "data": {
      "image/png": "[encoded data removed]",
      "text/plain": [
       "<Figure size 432x288 with 1 Axes>"
      ]
     },
     "metadata": {},
     "output_type": "display_data"
    }
   ],
   "source": [
    "### ╰( ͡° ͜ʖ ͡° )つ──☆*:・ﾟ\n",
    "import matplotlib.pyplot as plt\n",
    "bx = logregr.intercept_ + np.dot(X_test, (logregr.coef_).T)\n",
    "plt.hist(bx.flatten())\n",
    "plt.xlabel('b(x)')\n",
    "plt.ylabel('Number of predictions')\n",
    "plt.title('Predictions of b(x)')\n",
    "plt.show()"
   ]
  },
  {
   "cell_type": "markdown",
   "metadata": {},
   "source": [
    "а)Предсказания принимают значения примерно от -15 до 20\n",
    "\n",
    "б)Похожи, чем дальше от 0(влево или вправо),, тем больше вероятность принадлежности к классу 0 или 1"
   ]
  },
  {
   "cell_type": "markdown",
   "metadata": {},
   "source": [
    "Реализуйте сигмоиду и постройте её график. Что вы можете сказать об этой функции?"
   ]
  },
  {
   "cell_type": "code",
   "execution_count": 45,
   "metadata": {},
   "outputs": [
    {
     "data": {
      "image/png": "[encoded data removed]",
      "text/plain": [
       "<Figure size 432x288 with 1 Axes>"
      ]
     },
     "metadata": {},
     "output_type": "display_data"
    }
   ],
   "source": [
    "### ╰( ͡° ͜ʖ ͡° )つ──☆*:・ﾟ\n",
    "def sigmoid(x):\n",
    "    return 1/(1 + np.exp(-x)) \n",
    "x = np.arange(-8, 8, 0.05)\n",
    "plt.plot(x, sigmoid(x))\n",
    "plt.title('Sigmoid function')\n",
    "plt.xlabel('x')\n",
    "plt.ylabel('y')\n",
    "plt.show()"
   ]
  },
  {
   "cell_type": "markdown",
   "metadata": {},
   "source": [
    "Эта функция(кривая роста вероятности) показывает вероятность принадлежности к положительному классу, чем больше x, тем больше уверенность в ответе(y)"
   ]
  },
  {
   "cell_type": "markdown",
   "metadata": {},
   "source": [
    "Примените реализованную сигмоиду к $b(x)$. Вы должны получить вероятности принадлежности к положительному классу. Проверьте, что ваши значения совпали с теми, которые получены с помощью `predict_proba`."
   ]
  },
  {
   "cell_type": "code",
   "execution_count": 46,
   "metadata": {},
   "outputs": [
    {
     "data": {
      "image/png": "[encoded data removed]",
      "text/plain": [
       "<Figure size 1440x576 with 1 Axes>"
      ]
     },
     "metadata": {},
     "output_type": "display_data"
    }
   ],
   "source": [
    "### ╰( ͡° ͜ʖ ͡° )つ──☆*:・ﾟ\n",
    "plt.figure(figsize=(20, 8))\n",
    "line2 = plt.scatter(bx, yproba, label = 'predict_proba')\n",
    "line1 = plt.scatter(bx, sigmoid(bx), label = 'b(x)')\n",
    "plt.xlabel('Values')\n",
    "plt.ylabel('Probabilities')\n",
    "plt.title('Comparison chart')\n",
    "first_legend = plt.legend(handles=[line1], loc=2)\n",
    "ax = plt.gca().add_artist(first_legend)\n",
    "plt.legend(handles=[line2], loc=4)\n",
    "plt.show()"
   ]
  },
  {
   "cell_type": "markdown",
   "metadata": {},
   "source": [
    "Значения совпали"
   ]
  },
  {
   "cell_type": "markdown",
   "metadata": {},
   "source": [
    "Таким образом, обучение логистической регрессии — настройка параметров $w$ и $w_0$, а применение — подсчёт вероятностей принадлежности положительному классу как применение сигмоды к скалярному произведению признаков и параметров.\n",
    "\n",
    "Постройте для обученной логистической регрессии ROC-кривую `roc_curve` и PR-кривую `precision_recall_curve`."
   ]
  },
  {
   "cell_type": "code",
   "execution_count": 47,
   "metadata": {},
   "outputs": [
    {
     "data": {
      "image/png": "[encoded data removed]",
      "text/plain": [
       "<Figure size 1440x576 with 1 Axes>"
      ]
     },
     "metadata": {},
     "output_type": "display_data"
    }
   ],
   "source": [
    "### ╰( ͡° ͜ʖ ͡° )つ──☆*:・ﾟ\n",
    "from sklearn.metrics import precision_recall_curve, roc_curve, auc\n",
    "\n",
    "def generate_metrics(prediction):#Функция с семинара\n",
    "    fpr = dict()\n",
    "    tpr = dict()\n",
    "    roc_auc = dict()\n",
    "    for i in range(2):\n",
    "        fpr[i], tpr[i], _ = roc_curve(y_test, prediction[:, i])\n",
    "        roc_auc[i] = auc(fpr[i], tpr[i])\n",
    "    return fpr, tpr, roc_auc\n",
    "\n",
    "prediction = logregr.predict_proba(X_test)\n",
    "lfpr, ltpr, lra = generate_metrics(prediction)\n",
    "\n",
    "plt.figure(figsize=(20, 8))\n",
    "plt.plot(lfpr[1], ltpr[1], lw=1, label='LogRegr ROC curve (area = %0.4f)' % lra[1])\n",
    "plt.xlim([0.0, 1.0])\n",
    "plt.ylim([0.0, 1.05])\n",
    "plt.xlabel('False Positive Rate')\n",
    "plt.ylabel('True Positive Rate')\n",
    "plt.title('ROC-curve')\n",
    "plt.legend(loc='best')\n",
    "plt.show()"
   ]
  },
  {
   "cell_type": "code",
   "execution_count": 48,
   "metadata": {},
   "outputs": [
    {
     "data": {
      "image/png": "[encoded data removed]",
      "text/plain": [
       "<Figure size 1440x576 with 1 Axes>"
      ]
     },
     "metadata": {},
     "output_type": "display_data"
    }
   ],
   "source": [
    "precision, recall, _ = precision_recall_curve(y_test, yproba)\n",
    "plt.figure(figsize=(20, 8))\n",
    "plt.plot(recall, precision)\n",
    "plt.title('PR-curve')\n",
    "plt.xlabel('Recall')\n",
    "plt.ylabel('Precision')\n",
    "plt.xlim([0.0, 1.0])\n",
    "plt.ylim([0.0, 1.05])\n",
    "plt.show()"
   ]
  },
  {
   "cell_type": "markdown",
   "metadata": {},
   "source": [
    "### 4. Бонусное задание. Обучение логистической регрессии.\n",
    "\n",
    "[2 бонусных балла]"
   ]
  },
  {
   "cell_type": "markdown",
   "metadata": {},
   "source": [
    "В этой части вы будете обучать самый простой бинарный классификатор — логистическую регрессию. Будем использовать готовую реализацию `LogisticRegression` из scikit-learn.\n",
    "\n",
    "Логистическая регрессия — линейный метод, то есть в нём предсказание алгоритма вычислаяется как скалярное произведение признаков и весов алгоритма: \n",
    "\n",
    "$$\n",
    "b(x) = w_0 + \\langle w, x \\rangle = w_0 + \\sum_{i=1}^{d} w_i x_i\n",
    "$$\n",
    "\n",
    "Для вычисления вероятности положительного класса применяется сигмода. В результате предсказание вероятности принадлежности объекта к положительному классу можно записать как: \n",
    "\n",
    "$$\n",
    "P(y = +1 | x) = \\frac{1}{1 + \\exp(- w_0 - \\langle w, x \\rangle )}\n",
    "$$"
   ]
  },
  {
   "cell_type": "markdown",
   "metadata": {},
   "source": [
    "\n",
    "\n",
    "Если выше вручную мы только применяли логистическую регрессию, то здесь предлагается реализовать обучение с помощью полного градиентного спуска.\n",
    "Если кратко, то обучение логистической регрессии с $L_2$-регуляризацией можно записать следующим образом:\n",
    "\n",
    "$$\n",
    "Q(w, X) = \\frac{1}{l} \\sum_{i=1}^{l} \\log (1 + \\exp(- y_i \\langle w, x_i \\rangle )) + \\frac{\\lambda_2}{2} \\lVert w \\rVert _2^2 \\to \\min_w\n",
    "$$\n",
    "\n",
    "Считаем, что $y_i \\in \\{-1, +1\\}$, а нулевым признаком сделан единичный (то есть $w_0$ соответствует свободному члену). Искать $w$ будем с помощью градиентного спуска:\n",
    "\n",
    "$$\n",
    "w^{(k+1)} = w^{(k)} - \\alpha \\nabla_w Q(w, X)\n",
    "$$\n",
    "\n",
    "В случае полного градиентного спуска $\\nabla_w Q(w, X)$ считается напрямую (как есть, то есть, используя все объекты выборки). Длину шага $\\alpha > 0$ в рамках данного задания предлагается брать равной некоторой малой константе.\n",
    "Градиент по объекту $x_i$ считается по следующей формуле:\n",
    "\n",
    "$$\n",
    "\\nabla_w Q(w, x_i) = - \\frac{y_i x_i}{1 + \\exp(y_i \\langle w, x_i \\rangle)} + \\lambda_2 w\n",
    "$$\n",
    "\n",
    "На самом деле неправильно регуляризировать свободный член $w_0$ (то есть при добавлении градиента для $w_0$ не надо учитывать слагаемое с $\\lambda_2$). Но в рамках этого задания мы не обращаем на это внимания и работаем со всеми вектором весов одинаково.\n",
    "\n",
    "В качестве критерия останова необходимо использовать (одновременно):\n",
    "\n",
    "- проверку на евклидовую норму разности весов на двух соседних итерациях (например, меньше некоторого малого числа порядка $10^{-6}$) — параметр tolerance\n",
    "- достижение максимального числа итераций (например, 10000) — параметр max_iter.\n",
    "\n",
    "Инициализировать веса можно случайным образом или нулевым вектором.\n",
    "\n",
    "Реализуйте обучение логистической регрессии. Для удобства ниже предоставлен прототип с необходимыми методами. В loss_history необходимо сохранять вычисленное на каждой итерации значение функции потерь."
   ]
  },
  {
   "cell_type": "code",
   "execution_count": 49,
   "metadata": {
    "collapsed": true
   },
   "outputs": [],
   "source": [
    "from sklearn.base import BaseEstimator\n",
    "\n",
    "class LogReg(BaseEstimator):\n",
    "    def __init__(self, lambda_2=1.0, tolerance=1e-4, max_iter=1000, alpha=1e-3, st_w=0):\n",
    "        \"\"\"\n",
    "        lambda_2: L2 regularization param\n",
    "        tolerance: for stopping gradient descent\n",
    "        max_iter: maximum number of steps in gradient descent\n",
    "        alpha: learning rate\n",
    "        y: type of starting weights (0 - zeros, another - random)\n",
    "        \"\"\"\n",
    "        self.lambda_2 = lambda_2\n",
    "        self.tolerance = tolerance\n",
    "        self.max_iter = max_iter\n",
    "        self.required_iter = 0\n",
    "        self.st_w = st_w\n",
    "        self.alpha = alpha\n",
    "        self.w = None\n",
    "        self.loss_history = None\n",
    "    \n",
    "    def fit(self, X, y):\n",
    "        \"\"\"\n",
    "        X: np.array of shape (l, d)\n",
    "        y: np.array of shape (l)\n",
    "        ---\n",
    "        output: self\n",
    "        \"\"\"\n",
    "        if self.st_w == 0:\n",
    "            self.w = np.zeros(X.shape[1])\n",
    "        else:\n",
    "            self.w = np.random.rand(X.shape[1])\n",
    "        self.loss_history = []\n",
    "        w_current = np.copy(self.w)\n",
    "        for step in range(self.max_iter):\n",
    "            w_current = self.w - self.alpha * (self.calc_gradient(X, y))\n",
    "            self.loss_history.append(self.calc_loss(X, y))\n",
    "            self.required_iter = step + 1\n",
    "            if np.linalg.norm(w_current - self.w) < self.tolerance:\n",
    "                break\n",
    "            self.w = np.copy(w_current)\n",
    "        return self\n",
    "    \n",
    "    def predict_proba(self, X):\n",
    "        \"\"\"\n",
    "        X: np.array of shape (l, d)\n",
    "        ---\n",
    "        output: np.array of shape (l, 2) where\n",
    "        first column has probabilities of -1\n",
    "        second column has probabilities of +1\n",
    "        \"\"\"\n",
    "        if self.w is None:\n",
    "            raise Exception('Not trained yet')\n",
    "        P1 = 1/(1+np.exp(-np.dot(X, self.w)))\n",
    "        Pm1 = -P1 + 1\n",
    "        return np.column_stack((Pm1, P1))\n",
    "    \n",
    "    def calc_gradient(self, X, y):\n",
    "        \"\"\"\n",
    "        X: np.array of shape (l, d) (l can be equal to 1 if stochastic)\n",
    "        y: np.array of shape (l)\n",
    "        ---\n",
    "        output: np.array of shape (d)\n",
    "        \"\"\"\n",
    "        return (-(np.dot(X.T, y))/(1 + np.exp(np.dot(y, np.dot(X, self.w)))) + self.lambda_2*self.w)\n",
    "\n",
    "    def calc_loss(self, X, y):\n",
    "        \"\"\"\n",
    "        X: np.array of shape (l, d)\n",
    "        y: np.array of shape (l)\n",
    "        ---\n",
    "        output: float \n",
    "        \"\"\" \n",
    "        return ((1/X.shape[0])*np.log(1 + np.exp(-np.dot(y, np.dot(X, self.w)))) + (self.lambda_2/2)*(np.linalg.norm(self.w)**2))"
   ]
  },
  {
   "cell_type": "markdown",
   "metadata": {},
   "source": [
    "- Примените логистическую регресиию на той же выборке.\n",
    "- Посчитайте качество по тем же метрикам.\n",
    "- Визуализируйте изменение значений функции потерь от номера итераций."
   ]
  },
  {
   "cell_type": "markdown",
   "metadata": {},
   "source": [
    "### Инициализируем веса нулями"
   ]
  },
  {
   "cell_type": "code",
   "execution_count": 50,
   "metadata": {},
   "outputs": [
    {
     "name": "stdout",
     "output_type": "stream",
     "text": [
      "ROC-AUC : 0.9951775634472643\n"
     ]
    }
   ],
   "source": [
    "MyLog = LogReg()\n",
    "MyLog.fit(X_train, y_train)\n",
    "pred = MyLog.predict_proba(X_test)[:, 1]\n",
    "print('ROC-AUC :' , roc_auc_score(y_test, pred))"
   ]
  },
  {
   "cell_type": "code",
   "execution_count": 51,
   "metadata": {},
   "outputs": [
    {
     "data": {
      "image/png": "[encoded data removed]",
      "text/plain": [
       "<Figure size 1440x576 with 1 Axes>"
      ]
     },
     "metadata": {},
     "output_type": "display_data"
    }
   ],
   "source": [
    "plt.figure(figsize=(20, 8))\n",
    "it = np.arange(0, MyLog.required_iter)\n",
    "plt.plot(it, MyLog.loss_history)\n",
    "plt.show()"
   ]
  },
  {
   "cell_type": "markdown",
   "metadata": {},
   "source": [
    "### Инициализируем веса случайными числами"
   ]
  },
  {
   "cell_type": "code",
   "execution_count": 52,
   "metadata": {},
   "outputs": [
    {
     "name": "stdout",
     "output_type": "stream",
     "text": [
      "ROC-AUC : 0.601460064891773\n"
     ]
    }
   ],
   "source": [
    "MyLogR = LogReg(st_w = 1)\n",
    "MyLogR.fit(X_train, y_train)\n",
    "predR = MyLogR.predict_proba(X_test)[:, 1]\n",
    "print('ROC-AUC :' , roc_auc_score(y_test, predR))"
   ]
  },
  {
   "cell_type": "code",
   "execution_count": 53,
   "metadata": {},
   "outputs": [
    {
     "data": {
      "image/png": "[encoded data removed]",
      "text/plain": [
       "<Figure size 1440x576 with 1 Axes>"
      ]
     },
     "metadata": {},
     "output_type": "display_data"
    }
   ],
   "source": [
    "plt.figure(figsize=(20, 8))\n",
    "it = np.arange(0, MyLogR.required_iter)\n",
    "plt.plot(it, MyLogR.loss_history)\n",
    "plt.show()"
   ]
  },
  {
   "cell_type": "markdown",
   "metadata": {},
   "source": [
    "### 5. Бонусное задание 2. \n",
    "\n",
    "[0.002 бонусных балла]\n",
    "\n",
    "Напишите свой любимый текстовый (у нас же домашнее задание про тексты, ощущаете иронию) мем или анекдот"
   ]
  },
  {
   "cell_type": "markdown",
   "metadata": {
    "collapsed": true
   },
   "source": [
    "Хорошо, что пятница сегодня, а не завтра, как вчера"
   ]
  }
 ],
 "metadata": {
  "kernelspec": {
   "display_name": "Python 3",
   "language": "python",
   "name": "python3"
  },
  "language_info": {
   "codemirror_mode": {
    "name": "ipython",
    "version": 3
   },
   "file_extension": ".py",
   "mimetype": "text/x-python",
   "name": "python",
   "nbconvert_exporter": "python",
   "pygments_lexer": "ipython3",
   "version": "3.6.7"
  }
 },
 "nbformat": 4,
 "nbformat_minor": 2
}
