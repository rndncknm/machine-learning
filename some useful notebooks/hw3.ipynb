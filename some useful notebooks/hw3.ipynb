{
  "nbformat": 4,
  "nbformat_minor": 0,
  "metadata": {
    "accelerator": "GPU",
    "colab": {
      "name": "hw3.ipynb",
      "provenance": [],
      "collapsed_sections": []
    },
    "kernelspec": {
      "name": "python3",
      "display_name": "Python 3"
    },
    "language_info": {
      "codemirror_mode": {
        "name": "ipython",
        "version": 3
      },
      "file_extension": ".py",
      "mimetype": "text/x-python",
      "name": "python",
      "nbconvert_exporter": "python",
      "pygments_lexer": "ipython3",
      "version": "3.7.3"
    }
  },
  "cells": [
    {
      "cell_type": "markdown",
      "metadata": {
        "colab_type": "text",
        "id": "gO2BchskQWoH"
      },
      "source": [
        "# Домашнее задание 3.\n",
        "\n",
        "`Keras` и сверточные нейронные сети."
      ]
    },
    {
      "cell_type": "code",
      "metadata": {
        "colab_type": "code",
        "id": "WmIuIaLEATMn",
        "outputId": "dbf52a6d-31b3-490e-8b12-3173a0bb811e",
        "colab": {
          "base_uri": "https://localhost:8080/",
          "height": 52
        }
      },
      "source": [
        "import tensorflow as tf\n",
        "import keras\n",
        "from keras import backend as K\n",
        "import numpy as np\n",
        "%matplotlib inline\n",
        "import matplotlib.pyplot as plt\n",
        "print(tf.__version__)\n",
        "print(keras.__version__)"
      ],
      "execution_count": 0,
      "outputs": [
        {
          "output_type": "stream",
          "text": [
            "1.15.0\n",
            "2.2.5\n"
          ],
          "name": "stdout"
        }
      ]
    },
    {
      "cell_type": "code",
      "metadata": {
        "colab_type": "code",
        "id": "efsrp4vQfls5",
        "colab": {}
      },
      "source": [
        "def reset_tf_session():\n",
        "    curr_session = tf.get_default_session()\n",
        "    if curr_session is not None:\n",
        "        curr_session.close()\n",
        "    K.clear_session()\n",
        "    config = tf.ConfigProto()\n",
        "    config.gpu_options.allow_growth = True\n",
        "    s = tf.InteractiveSession(config=config)\n",
        "    K.set_session(s)\n",
        "    return s"
      ],
      "execution_count": 0,
      "outputs": []
    },
    {
      "cell_type": "markdown",
      "metadata": {
        "colab_type": "text",
        "id": "HE_SpMQMQm8Y"
      },
      "source": [
        "## Задание 1 — инициализация весов CNN (3 балла).\n",
        "\n",
        "В этом задании нужно будет исследовать, как выбор функции инициализации весов влияет на обучение CNN.\n"
      ]
    },
    {
      "cell_type": "markdown",
      "metadata": {
        "colab_type": "text",
        "id": "oIoAOXkJSwbs"
      },
      "source": [
        "Продолжим работать с датасетом CIFAR-10."
      ]
    },
    {
      "cell_type": "code",
      "metadata": {
        "colab_type": "code",
        "id": "IsuA4kiHA4ff",
        "outputId": "a39be2f2-58af-498d-8ed3-e4a7c4b5af1b",
        "colab": {
          "base_uri": "https://localhost:8080/",
          "height": 52
        }
      },
      "source": [
        "from keras.datasets import cifar10\n",
        "(x_train, y_train), (x_test, y_test) = cifar10.load_data()\n",
        "\n",
        "NUM_CLASSES = 10\n",
        "cifar10_classes = [\"airplane\", \"automobile\", \"bird\", \"cat\", \"deer\", \n",
        "                   \"dog\", \"frog\", \"horse\", \"ship\", \"truck\"]\n",
        "\n",
        "print(\"Train samples:\", x_train.shape, y_train.shape)\n",
        "print(\"Test samples:\", x_test.shape, y_test.shape)\n",
        "\n",
        "# нормализуем входные данные\n",
        "x_train = x_train / 255 - 0.5\n",
        "x_test = x_test / 255 - 0.5\n",
        "\n",
        "y_train = keras.utils.to_categorical(y_train, 10)\n",
        "y_test = keras.utils.to_categorical(y_test, 10)"
      ],
      "execution_count": 0,
      "outputs": [
        {
          "output_type": "stream",
          "text": [
            "Train samples: (50000, 32, 32, 3) (50000, 1)\n",
            "Test samples: (10000, 32, 32, 3) (10000, 1)\n"
          ],
          "name": "stdout"
        }
      ]
    },
    {
      "cell_type": "code",
      "metadata": {
        "colab_type": "code",
        "id": "xNl2e8LeftcC",
        "colab": {}
      },
      "source": [
        "from keras.models import Sequential\n",
        "from keras.layers import Conv2D, MaxPooling2D, Flatten, Dense, Activation, Dropout\n",
        "from keras.layers.advanced_activations import LeakyReLU\n",
        "from keras.models import load_model"
      ],
      "execution_count": 0,
      "outputs": []
    },
    {
      "cell_type": "markdown",
      "metadata": {
        "colab_type": "text",
        "id": "f2vQIUE3UeiE"
      },
      "source": [
        "Определим функцию `fit_model` с архитектурой архитектура CNN.\n",
        "\n",
        "Метод `model.fit` возвращает объект класса `keras.callbacks.History()` — это колбэк, который автоматически применяется ко всем моделям и логирует много чего полезного. В частности логируются значения функции потерь на каждой итерации."
      ]
    },
    {
      "cell_type": "markdown",
      "metadata": {
        "colab_type": "text",
        "id": "dDslR6vNZry8"
      },
      "source": [
        "**Задание 1.1** (0.5 балла) Добавьте в архитектуру модели инициализацию весов для тех слоев, где она необходима.\n"
      ]
    },
    {
      "cell_type": "code",
      "metadata": {
        "colab_type": "code",
        "id": "2_Lu7SO3CMid",
        "colab": {}
      },
      "source": [
        "def fit_model(initializer='glorot_normal'):\n",
        "    s = reset_tf_session()  \n",
        "    INIT_LR = 5e-3\n",
        "    BATCH_SIZE = 32\n",
        "    EPOCHS = 10\n",
        "   \n",
        "    def lr_scheduler(epoch):\n",
        "        return INIT_LR * 0.9 ** epoch  \n",
        "\n",
        "    # kernel_initializer=initializer для тех слоев, которым нужна инициализация весов\n",
        "    model = Sequential()\n",
        "    model.add(Conv2D(filters=16, padding='same', kernel_size=(3,3), input_shape=(32,32,3), kernel_initializer=initializer))\n",
        "    model.add(LeakyReLU(0.1))\n",
        "    model.add(Conv2D(filters=64, padding='same', kernel_size=(3,3), kernel_initializer=initializer))  \n",
        "    model.add(LeakyReLU(0.1))\n",
        "    model.add(MaxPooling2D(pool_size=(2,2), padding='same'))\n",
        "    model.add(Dropout(0.25))\n",
        "    model.add(Flatten())\n",
        "    model.add(Dense(40, kernel_initializer=initializer))\n",
        "    model.add(LeakyReLU(0.1))\n",
        "    model.add(Dropout(0.5))    \n",
        "    model.add(Dense(10, kernel_initializer=initializer))\n",
        "    model.add(Activation(\"softmax\"))\n",
        "\n",
        "\n",
        "    model.compile(\n",
        "        loss='categorical_crossentropy',\n",
        "        optimizer=keras.optimizers.adamax(lr=INIT_LR),\n",
        "        metrics=['accuracy']\n",
        "    )\n",
        "  \n",
        "    history = model.fit(\n",
        "        x_train, y_train,\n",
        "        batch_size=BATCH_SIZE,\n",
        "        epochs=EPOCHS,\n",
        "        callbacks=[keras.callbacks.LearningRateScheduler(lr_scheduler)],                   \n",
        "        shuffle=True,\n",
        "        verbose=0,\n",
        "        initial_epoch=0    \n",
        "    )\n",
        "\n",
        "    # Возвращаем объект класса keras.callbacks.History\n",
        "    return history"
      ],
      "execution_count": 0,
      "outputs": []
    },
    {
      "cell_type": "markdown",
      "metadata": {
        "colab_type": "text",
        "id": "bYkZkghfT4uN"
      },
      "source": [
        "**Задание 1.2** (1.5 балла). Обучите модель с разными [функциями инициализации](https://keras.io/initializers/) весов:\n",
        "* `Zeros` — веса инициализируются нулями\n",
        "* `Constant=0.05` — веса инициализируются константой 0.05\n",
        "* `RandomUniform` — веса генерируются равномерно из отрезка [-0.05, 0.05]\n",
        "* `glorot_normal` — Xavier initializer из лекций\n",
        "* `lecun_uniform`\n",
        "\n",
        "Добавьте в список `losses` значения функции потерь для каждой функции инициализации, их можно достать из `History`\n",
        "\n"
      ]
    },
    {
      "cell_type": "code",
      "metadata": {
        "colab_type": "code",
        "id": "dTieYmgUmQ8G",
        "colab": {}
      },
      "source": [
        "losses = []\n",
        "listinit = [keras.initializers.Zeros(), keras.initializers.Constant(0.05), keras.initializers.RandomUniform(minval=-0.05, maxval=0.05), keras.initializers.glorot_normal(), keras.initializers.lecun_uniform()]\n",
        "for i in listinit:\n",
        "  losses.append(fit_model(initializer=i).history['loss'])"
      ],
      "execution_count": 0,
      "outputs": []
    },
    {
      "cell_type": "markdown",
      "metadata": {
        "colab_type": "text",
        "id": "wsk8bCEPcOav"
      },
      "source": [
        "**Задание 1.3** (1 балла). Постройте графики зависимости функций потерь от номера итерации, подпишите их. Прокомментируйте результат."
      ]
    },
    {
      "cell_type": "code",
      "metadata": {
        "colab_type": "code",
        "id": "3yqBZIYEAPWZ",
        "outputId": "295835c4-ba79-4ab2-aad3-a9919f5e3460",
        "colab": {
          "base_uri": "https://localhost:8080/",
          "height": 753
        }
      },
      "source": [
        "plt.figure(figsize=(24, 12))\n",
        "plt.title('Зависимость функции потерь от номера итерации (при разных инициализациях весов)', fontsize=16)\n",
        "plt.xlabel('Номер итерации', fontsize=14)\n",
        "plt.ylabel('Значение функции потерь', fontsize=14)\n",
        "lines = []\n",
        "labels = ['Zeros','Constant = 0.05','RandomUniform [-0.05, 0.05]','glorot_normal','lecun_uniform']\n",
        "for i in losses:\n",
        "  lines.append(plt.plot(np.arange(len(i)), i)[0])\n",
        "plt.legend(lines, labels, loc = 'best', fontsize=12)"
      ],
      "execution_count": 0,
      "outputs": [
        {
          "output_type": "execute_result",
          "data": {
            "text/plain": [
              "<matplotlib.legend.Legend at 0x7fdc7a0b5390>"
            ]
          },
          "metadata": {
            "tags": []
          },
          "execution_count": 16
        },
        {
          "output_type": "display_data",
          "data": {
            "image/png": "[encoded data removed]",
            "text/plain": [
              "<Figure size 1728x864 with 1 Axes>"
            ]
          },
          "metadata": {
            "tags": []
          }
        }
      ]
    },
    {
      "cell_type": "markdown",
      "metadata": {
        "id": "FRLLKdJKlR0C",
        "colab_type": "text"
      },
      "source": [
        "**1.** Иницализация нулями (Zeros) дает худшие результаты, т.к. градиенты стремятся к нулю, соответственно веса почти не изменяются. Также здесь все начальные веса одинаковы, что является не самым лучшим вариантом, т.к. приводит к проблеме симметрии.\n",
        "**2.** (Constant) Та же самая проблема, начальные одинаковые веса = плохо. Картинка чуть лучше, т.к. константа 0.05 не зануляет градиенты, но изменение весов все также недостаточно велико.\n",
        "**3.** (Random uniform) Генерирует веса, распределенные равномерно в интервале от -0.05 до 0.05. Серьезное улучшение по сравнению с предыдущими пунктами.\n",
        "**4,5.** (Glorot normal, Lecun uniform) Показывают лучшие результаты. Они используют cхожую друг с другом теоретическую базу. Первый инициализирует веса, распределенные нормально с дисперсией 2/(входы+выходы). Второй инициализирует веса, распределенные равномерно с дисперсией 1/(входы). Все же, в данном случае лучшим оказывается именно Lecun uniform."
      ]
    },
    {
      "cell_type": "markdown",
      "metadata": {
        "colab_type": "text",
        "id": "nellCcusBAZ8"
      },
      "source": [
        "## Задание 2 — CNN для CIFAR-10 с сохранением весов модели (7 баллов)\n",
        "\n",
        "В этом задании мы модифицируем нейросеть с семинара, чтобы она достигала большего значения `accuracy` и научимся сохранять веса модели в файл во время обучения. Можно использовать только те же слои, которые использовались на семинаре: `Conv2D, MaxPooling2D,  LeakyReLU, Dropout, Flatten, Dense`."
      ]
    },
    {
      "cell_type": "markdown",
      "metadata": {
        "colab_type": "text",
        "id": "xuVF3c2qJwyx"
      },
      "source": [
        "**Задание 2.1** (4 балла). Подберите архитектуру модели так, чтобы значение `accuracy` на тестовой выборке было не менее 85."
      ]
    },
    {
      "cell_type": "code",
      "metadata": {
        "id": "3nA-9K_NzZvD",
        "colab_type": "code",
        "colab": {}
      },
      "source": [
        "def make_model():    \n",
        "    model = Sequential()\n",
        "\n",
        "    model.add(Conv2D(filters=64, padding='same', kernel_size=(3,3), input_shape=(32,32,3), kernel_initializer=keras.initializers.lecun_uniform()))#32\n",
        "    model.add(LeakyReLU(0.1))\n",
        "    model.add(Conv2D(filters=64, padding='same', kernel_size=(3,3), kernel_initializer=keras.initializers.lecun_uniform())) \n",
        "    model.add(LeakyReLU(0.1))\n",
        "    model.add(MaxPooling2D(pool_size=(2,2), padding='same'))\n",
        "    model.add(Dropout(0.2))\n",
        "\n",
        "    model.add(Conv2D(filters=128, padding='same', kernel_size=(3,3), kernel_initializer=keras.initializers.lecun_uniform()))#64\n",
        "    model.add(LeakyReLU(0.1))\n",
        "    model.add(Conv2D(filters=128, padding='same', kernel_size=(3,3), kernel_initializer=keras.initializers.lecun_uniform()))\n",
        "    model.add(LeakyReLU(0.1))\n",
        "    model.add(MaxPooling2D(pool_size=(2,2), padding='same'))\n",
        "    model.add(Dropout(0.2))\n",
        "\n",
        "    model.add(Conv2D(filters=64, padding='same', kernel_size=(3,3), kernel_initializer=keras.initializers.lecun_uniform()))#128\n",
        "    model.add(LeakyReLU(0.1))\n",
        "    model.add(Conv2D(filters=64, padding='same', kernel_size=(3,3), kernel_initializer=keras.initializers.lecun_uniform()))\n",
        "    model.add(LeakyReLU(0.1))\n",
        "    model.add(MaxPooling2D(pool_size=(2,2), padding='same'))\n",
        "    model.add(Dropout(0.3))\n",
        "\n",
        "    model.add(Flatten())\n",
        "    model.add(Dense(768, kernel_initializer=keras.initializers.lecun_uniform()))                \n",
        "    model.add(LeakyReLU(0.1))\n",
        "    model.add(Dropout(0.5))    \n",
        "    model.add(Dense(10, kernel_initializer=keras.initializers.lecun_uniform()))             \n",
        "    model.add(Activation(\"softmax\"))\n",
        "    return model"
      ],
      "execution_count": 0,
      "outputs": []
    },
    {
      "cell_type": "code",
      "metadata": {
        "colab_type": "code",
        "id": "MoZifjkgFdcg",
        "outputId": "d20e11cc-55f6-4841-f426-b854b6d97ae4",
        "colab": {
          "base_uri": "https://localhost:8080/",
          "height": 1000
        }
      },
      "source": [
        "s = reset_tf_session()\n",
        "model = make_model()\n",
        "model.summary()"
      ],
      "execution_count": 0,
      "outputs": [
        {
          "output_type": "stream",
          "text": [
            "Model: \"sequential_1\"\n",
            "_________________________________________________________________\n",
            "Layer (type)                 Output Shape              Param #   \n",
            "=================================================================\n",
            "conv2d_1 (Conv2D)            (None, 32, 32, 64)        1792      \n",
            "_________________________________________________________________\n",
            "leaky_re_lu_1 (LeakyReLU)    (None, 32, 32, 64)        0         \n",
            "_________________________________________________________________\n",
            "conv2d_2 (Conv2D)            (None, 32, 32, 64)        36928     \n",
            "_________________________________________________________________\n",
            "leaky_re_lu_2 (LeakyReLU)    (None, 32, 32, 64)        0         \n",
            "_________________________________________________________________\n",
            "max_pooling2d_1 (MaxPooling2 (None, 16, 16, 64)        0         \n",
            "_________________________________________________________________\n",
            "dropout_1 (Dropout)          (None, 16, 16, 64)        0         \n",
            "_________________________________________________________________\n",
            "conv2d_3 (Conv2D)            (None, 16, 16, 128)       73856     \n",
            "_________________________________________________________________\n",
            "leaky_re_lu_3 (LeakyReLU)    (None, 16, 16, 128)       0         \n",
            "_________________________________________________________________\n",
            "conv2d_4 (Conv2D)            (None, 16, 16, 128)       147584    \n",
            "_________________________________________________________________\n",
            "leaky_re_lu_4 (LeakyReLU)    (None, 16, 16, 128)       0         \n",
            "_________________________________________________________________\n",
            "max_pooling2d_2 (MaxPooling2 (None, 8, 8, 128)         0         \n",
            "_________________________________________________________________\n",
            "dropout_2 (Dropout)          (None, 8, 8, 128)         0         \n",
            "_________________________________________________________________\n",
            "conv2d_5 (Conv2D)            (None, 8, 8, 64)          73792     \n",
            "_________________________________________________________________\n",
            "leaky_re_lu_5 (LeakyReLU)    (None, 8, 8, 64)          0         \n",
            "_________________________________________________________________\n",
            "conv2d_6 (Conv2D)            (None, 8, 8, 64)          36928     \n",
            "_________________________________________________________________\n",
            "leaky_re_lu_6 (LeakyReLU)    (None, 8, 8, 64)          0         \n",
            "_________________________________________________________________\n",
            "max_pooling2d_3 (MaxPooling2 (None, 4, 4, 64)          0         \n",
            "_________________________________________________________________\n",
            "dropout_3 (Dropout)          (None, 4, 4, 64)          0         \n",
            "_________________________________________________________________\n",
            "flatten_1 (Flatten)          (None, 1024)              0         \n",
            "_________________________________________________________________\n",
            "dense_1 (Dense)              (None, 768)               787200    \n",
            "_________________________________________________________________\n",
            "leaky_re_lu_7 (LeakyReLU)    (None, 768)               0         \n",
            "_________________________________________________________________\n",
            "dropout_4 (Dropout)          (None, 768)               0         \n",
            "_________________________________________________________________\n",
            "dense_2 (Dense)              (None, 10)                7690      \n",
            "_________________________________________________________________\n",
            "activation_1 (Activation)    (None, 10)                0         \n",
            "=================================================================\n",
            "Total params: 1,165,770\n",
            "Trainable params: 1,165,770\n",
            "Non-trainable params: 0\n",
            "_________________________________________________________________\n"
          ],
          "name": "stdout"
        }
      ]
    },
    {
      "cell_type": "markdown",
      "metadata": {
        "colab_type": "text",
        "id": "JJLpZQhJGBqL"
      },
      "source": [
        "**Задание 2.2** (2 балла). Реализуйте колбэк, который сохраняет модель в `.hdf5` файл и печатает имя файла, в который была сохранена модель. Используйте функцию `model_save`. Строка с именем файла имеет вид `<name>_{0:02d}.hdf5`, отформатируйте ее так, чтобы в имени строки фигурировал номер эпохи."
      ]
    },
    {
      "cell_type": "code",
      "metadata": {
        "colab_type": "code",
        "id": "xYjUeuDXGBII",
        "colab": {}
      },
      "source": [
        "from keras.models import save_model, load_model\n",
        "\n",
        "class ModelSaveCallback(keras.callbacks.Callback):\n",
        "\n",
        "    def __init__(self, file_name):\n",
        "        super(ModelSaveCallback, self).__init__()\n",
        "        self.file_name = file_name\n",
        "\n",
        "    def on_epoch_end(self, epoch, logs=None):\n",
        "        f = self.file_name.format(epoch+1)\n",
        "        save_model(self.model, f)\n",
        "        print(f)"
      ],
      "execution_count": 0,
      "outputs": []
    },
    {
      "cell_type": "markdown",
      "metadata": {
        "colab_type": "text",
        "id": "Svrwkh8ALpHa"
      },
      "source": [
        "**Задание 2.3** (1 балл). Реализуйте функцию, которая с помощью `load_model` будет загружать модель из файла."
      ]
    },
    {
      "cell_type": "markdown",
      "metadata": {
        "id": "elp5fWPKkmmX",
        "colab_type": "text"
      },
      "source": [
        "*Номер эпохи сделал с 1 для удобства, т.к при обучении в окне вывода нумерация эпох начинается с 1"
      ]
    },
    {
      "cell_type": "code",
      "metadata": {
        "colab_type": "code",
        "id": "fVD0P5V7M00C",
        "colab": {}
      },
      "source": [
        "def load_from_file(model_filename, last_epoch): #last_epoch - с 1\n",
        "    if last_epoch < 1:\n",
        "      print('Номер эпохи начинается с 1!')\n",
        "    else:\n",
        "      return(load_model(model_filename.format(last_epoch)))\n"
      ],
      "execution_count": 0,
      "outputs": []
    },
    {
      "cell_type": "markdown",
      "metadata": {
        "id": "bJO7bbwDHkTs",
        "colab_type": "text"
      },
      "source": [
        "*Был добавлен коллбек EarlyStopping, прекращающий обучение после двух последовательных эпох без уменьшения val_loss."
      ]
    },
    {
      "cell_type": "code",
      "metadata": {
        "colab_type": "code",
        "id": "zOLb6flQFjCw",
        "outputId": "afc3fee6-c251-4efc-fa98-4adbb6708c47",
        "colab": {
          "base_uri": "https://localhost:8080/",
          "height": 834
        }
      },
      "source": [
        "INIT_LR = 5e-3\n",
        "BATCH_SIZE = 32\n",
        "EPOCHS = 20\n",
        "\n",
        "model_filename = 'weights_{0:02d}.hdf5'\n",
        "\n",
        "s = reset_tf_session()\n",
        "\n",
        "model = make_model()\n",
        "\n",
        "model.compile(\n",
        "    loss='categorical_crossentropy',\n",
        "    optimizer=keras.optimizers.adamax(lr=INIT_LR),\n",
        "    metrics=['accuracy']\n",
        ")\n",
        "\n",
        "def lr_scheduler(epoch):\n",
        "    return INIT_LR * 0.9 ** epoch \n",
        "\n",
        "# в случае, если обучение было прервано, можно загрузить модель из файла, \n",
        "# соответствующего последней эпохе, за которую есть сохраненные веса\n",
        "# model = load_from_file(model_filename, 4)\n",
        "  \n",
        "history = model.fit(\n",
        "    x_train, y_train,\n",
        "    batch_size=BATCH_SIZE,\n",
        "    epochs=EPOCHS,\n",
        "    callbacks=[keras.callbacks.LearningRateScheduler(lr_scheduler), \n",
        "               # не забудьте передать сюда ModelSaveCallback\n",
        "               ModelSaveCallback(model_filename),\n",
        "               keras.callbacks.EarlyStopping(monitor='val_loss', patience=2)\n",
        "              ],\n",
        "    validation_data=(x_test, y_test),\n",
        "    shuffle=True,\n",
        "    verbose=1,\n",
        "    initial_epoch=0    \n",
        ")\n",
        "  "
      ],
      "execution_count": 0,
      "outputs": [
        {
          "output_type": "stream",
          "text": [
            "Train on 50000 samples, validate on 10000 samples\n",
            "Epoch 1/20\n",
            "50000/50000 [==============================] - 49s 977us/step - loss: 1.3461 - acc: 0.5107 - val_loss: 0.9477 - val_acc: 0.6654\n",
            "weights_01.hdf5\n",
            "Epoch 2/20\n",
            "50000/50000 [==============================] - 48s 961us/step - loss: 0.9126 - acc: 0.6808 - val_loss: 0.8134 - val_acc: 0.7214\n",
            "weights_02.hdf5\n",
            "Epoch 3/20\n",
            "50000/50000 [==============================] - 48s 961us/step - loss: 0.7715 - acc: 0.7331 - val_loss: 0.6754 - val_acc: 0.7689\n",
            "weights_03.hdf5\n",
            "Epoch 4/20\n",
            "50000/50000 [==============================] - 48s 960us/step - loss: 0.6820 - acc: 0.7660 - val_loss: 0.6059 - val_acc: 0.7919\n",
            "weights_04.hdf5\n",
            "Epoch 5/20\n",
            "50000/50000 [==============================] - 48s 958us/step - loss: 0.6065 - acc: 0.7906 - val_loss: 0.5909 - val_acc: 0.7963\n",
            "weights_05.hdf5\n",
            "Epoch 6/20\n",
            "50000/50000 [==============================] - 48s 959us/step - loss: 0.5445 - acc: 0.8096 - val_loss: 0.5605 - val_acc: 0.8102\n",
            "weights_06.hdf5\n",
            "Epoch 7/20\n",
            "50000/50000 [==============================] - 48s 958us/step - loss: 0.4935 - acc: 0.8283 - val_loss: 0.5528 - val_acc: 0.8145\n",
            "weights_07.hdf5\n",
            "Epoch 8/20\n",
            "50000/50000 [==============================] - 48s 964us/step - loss: 0.4446 - acc: 0.8443 - val_loss: 0.5266 - val_acc: 0.8289\n",
            "weights_08.hdf5\n",
            "Epoch 9/20\n",
            "50000/50000 [==============================] - 48s 963us/step - loss: 0.4076 - acc: 0.8581 - val_loss: 0.5196 - val_acc: 0.8313\n",
            "weights_09.hdf5\n",
            "Epoch 10/20\n",
            "50000/50000 [==============================] - 48s 962us/step - loss: 0.3697 - acc: 0.8717 - val_loss: 0.5051 - val_acc: 0.8442\n",
            "weights_10.hdf5\n",
            "Epoch 11/20\n",
            "50000/50000 [==============================] - 48s 960us/step - loss: 0.3365 - acc: 0.8824 - val_loss: 0.4987 - val_acc: 0.8412\n",
            "weights_11.hdf5\n",
            "Epoch 12/20\n",
            "50000/50000 [==============================] - 48s 960us/step - loss: 0.3100 - acc: 0.8924 - val_loss: 0.5029 - val_acc: 0.8462\n",
            "weights_12.hdf5\n",
            "Epoch 13/20\n",
            "50000/50000 [==============================] - 48s 958us/step - loss: 0.2782 - acc: 0.9024 - val_loss: 0.4846 - val_acc: 0.8537\n",
            "weights_13.hdf5\n",
            "Epoch 14/20\n",
            "50000/50000 [==============================] - 48s 963us/step - loss: 0.2600 - acc: 0.9083 - val_loss: 0.4993 - val_acc: 0.8538\n",
            "weights_14.hdf5\n",
            "Epoch 15/20\n",
            "50000/50000 [==============================] - 48s 962us/step - loss: 0.2390 - acc: 0.9152 - val_loss: 0.5026 - val_acc: 0.8556\n",
            "weights_15.hdf5\n"
          ],
          "name": "stdout"
        }
      ]
    },
    {
      "cell_type": "markdown",
      "metadata": {
        "id": "0Bbw6MauNoqa",
        "colab_type": "text"
      },
      "source": [
        "***Проверка функции загрузки модели из файла**"
      ]
    },
    {
      "cell_type": "code",
      "metadata": {
        "id": "eHoEDu7aurzZ",
        "colab_type": "code",
        "outputId": "441e0961-4d67-4d0c-d50d-071d167396d3",
        "colab": {
          "base_uri": "https://localhost:8080/",
          "height": 1000
        }
      },
      "source": [
        "model2 = load_from_file(model_filename, 13)\n",
        "model2.summary()\n",
        "score = model2.evaluate(x_test, y_test, verbose=0)\n",
        "print(\"%s: %.2f%%\" % (model2.metrics_names[1], score[1]*100))"
      ],
      "execution_count": 0,
      "outputs": [
        {
          "output_type": "stream",
          "text": [
            "Model: \"sequential_1\"\n",
            "_________________________________________________________________\n",
            "Layer (type)                 Output Shape              Param #   \n",
            "=================================================================\n",
            "conv2d_1 (Conv2D)            (None, 32, 32, 64)        1792      \n",
            "_________________________________________________________________\n",
            "leaky_re_lu_1 (LeakyReLU)    (None, 32, 32, 64)        0         \n",
            "_________________________________________________________________\n",
            "conv2d_2 (Conv2D)            (None, 32, 32, 64)        36928     \n",
            "_________________________________________________________________\n",
            "leaky_re_lu_2 (LeakyReLU)    (None, 32, 32, 64)        0         \n",
            "_________________________________________________________________\n",
            "max_pooling2d_1 (MaxPooling2 (None, 16, 16, 64)        0         \n",
            "_________________________________________________________________\n",
            "dropout_1 (Dropout)          (None, 16, 16, 64)        0         \n",
            "_________________________________________________________________\n",
            "conv2d_3 (Conv2D)            (None, 16, 16, 128)       73856     \n",
            "_________________________________________________________________\n",
            "leaky_re_lu_3 (LeakyReLU)    (None, 16, 16, 128)       0         \n",
            "_________________________________________________________________\n",
            "conv2d_4 (Conv2D)            (None, 16, 16, 128)       147584    \n",
            "_________________________________________________________________\n",
            "leaky_re_lu_4 (LeakyReLU)    (None, 16, 16, 128)       0         \n",
            "_________________________________________________________________\n",
            "max_pooling2d_2 (MaxPooling2 (None, 8, 8, 128)         0         \n",
            "_________________________________________________________________\n",
            "dropout_2 (Dropout)          (None, 8, 8, 128)         0         \n",
            "_________________________________________________________________\n",
            "conv2d_5 (Conv2D)            (None, 8, 8, 64)          73792     \n",
            "_________________________________________________________________\n",
            "leaky_re_lu_5 (LeakyReLU)    (None, 8, 8, 64)          0         \n",
            "_________________________________________________________________\n",
            "conv2d_6 (Conv2D)            (None, 8, 8, 64)          36928     \n",
            "_________________________________________________________________\n",
            "leaky_re_lu_6 (LeakyReLU)    (None, 8, 8, 64)          0         \n",
            "_________________________________________________________________\n",
            "max_pooling2d_3 (MaxPooling2 (None, 4, 4, 64)          0         \n",
            "_________________________________________________________________\n",
            "dropout_3 (Dropout)          (None, 4, 4, 64)          0         \n",
            "_________________________________________________________________\n",
            "flatten_1 (Flatten)          (None, 1024)              0         \n",
            "_________________________________________________________________\n",
            "dense_1 (Dense)              (None, 768)               787200    \n",
            "_________________________________________________________________\n",
            "leaky_re_lu_7 (LeakyReLU)    (None, 768)               0         \n",
            "_________________________________________________________________\n",
            "dropout_4 (Dropout)          (None, 768)               0         \n",
            "_________________________________________________________________\n",
            "dense_2 (Dense)              (None, 10)                7690      \n",
            "_________________________________________________________________\n",
            "activation_1 (Activation)    (None, 10)                0         \n",
            "=================================================================\n",
            "Total params: 1,165,770\n",
            "Trainable params: 1,165,770\n",
            "Non-trainable params: 0\n",
            "_________________________________________________________________\n",
            "acc: 85.37%\n"
          ],
          "name": "stdout"
        }
      ]
    }
  ]
}
