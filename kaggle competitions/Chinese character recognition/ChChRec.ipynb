{
  "nbformat": 4,
  "nbformat_minor": 0,
  "metadata": {
    "colab": {
      "name": "ChinaKaggle",
      "provenance": [],
      "collapsed_sections": []
    },
    "kernelspec": {
      "name": "python3",
      "display_name": "Python 3"
    },
    "accelerator": "GPU"
  },
  "cells": [
    {
      "cell_type": "markdown",
      "metadata": {
        "id": "rtaKZ63nO1cv",
        "colab_type": "text"
      },
      "source": [
        "**Kaggle chinese recognition**"
      ]
    },
    {
      "cell_type": "markdown",
      "metadata": {
        "id": "LblcYGhUXMrp",
        "colab_type": "text"
      },
      "source": [
        "Public leaderboard (Accuracy) : 0.98558"
      ]
    },
    {
      "cell_type": "code",
      "metadata": {
        "id": "Oxj-LFALPMsq",
        "colab_type": "code",
        "outputId": "968583fa-6740-4905-e0f9-90992e5d795d",
        "colab": {
          "base_uri": "https://localhost:8080/",
          "height": 621
        }
      },
      "source": [
        "!pip install tensorflow-gpu "
      ],
      "execution_count": 0,
      "outputs": [
        {
          "output_type": "stream",
          "text": [
            "Requirement already satisfied: tensorflow-gpu in /usr/local/lib/python3.6/dist-packages (2.0.0)\n",
            "Requirement already satisfied: keras-preprocessing>=1.0.5 in /usr/local/lib/python3.6/dist-packages (from tensorflow-gpu) (1.1.0)\n",
            "Requirement already satisfied: numpy<2.0,>=1.16.0 in /usr/local/lib/python3.6/dist-packages (from tensorflow-gpu) (1.17.4)\n",
            "Requirement already satisfied: six>=1.10.0 in /usr/local/lib/python3.6/dist-packages (from tensorflow-gpu) (1.12.0)\n",
            "Requirement already satisfied: protobuf>=3.6.1 in /usr/local/lib/python3.6/dist-packages (from tensorflow-gpu) (3.10.0)\n",
            "Requirement already satisfied: opt-einsum>=2.3.2 in /usr/local/lib/python3.6/dist-packages (from tensorflow-gpu) (3.1.0)\n",
            "Requirement already satisfied: tensorboard<2.1.0,>=2.0.0 in /usr/local/lib/python3.6/dist-packages (from tensorflow-gpu) (2.0.2)\n",
            "Requirement already satisfied: termcolor>=1.1.0 in /usr/local/lib/python3.6/dist-packages (from tensorflow-gpu) (1.1.0)\n",
            "Requirement already satisfied: google-pasta>=0.1.6 in /usr/local/lib/python3.6/dist-packages (from tensorflow-gpu) (0.1.8)\n",
            "Requirement already satisfied: wrapt>=1.11.1 in /usr/local/lib/python3.6/dist-packages (from tensorflow-gpu) (1.11.2)\n",
            "Requirement already satisfied: astor>=0.6.0 in /usr/local/lib/python3.6/dist-packages (from tensorflow-gpu) (0.8.1)\n",
            "Requirement already satisfied: absl-py>=0.7.0 in /usr/local/lib/python3.6/dist-packages (from tensorflow-gpu) (0.8.1)\n",
            "Requirement already satisfied: tensorflow-estimator<2.1.0,>=2.0.0 in /usr/local/lib/python3.6/dist-packages (from tensorflow-gpu) (2.0.1)\n",
            "Requirement already satisfied: keras-applications>=1.0.8 in /usr/local/lib/python3.6/dist-packages (from tensorflow-gpu) (1.0.8)\n",
            "Requirement already satisfied: wheel>=0.26 in /usr/local/lib/python3.6/dist-packages (from tensorflow-gpu) (0.33.6)\n",
            "Requirement already satisfied: gast==0.2.2 in /usr/local/lib/python3.6/dist-packages (from tensorflow-gpu) (0.2.2)\n",
            "Requirement already satisfied: grpcio>=1.8.6 in /usr/local/lib/python3.6/dist-packages (from tensorflow-gpu) (1.15.0)\n",
            "Requirement already satisfied: setuptools in /usr/local/lib/python3.6/dist-packages (from protobuf>=3.6.1->tensorflow-gpu) (42.0.2)\n",
            "Requirement already satisfied: google-auth-oauthlib<0.5,>=0.4.1 in /usr/local/lib/python3.6/dist-packages (from tensorboard<2.1.0,>=2.0.0->tensorflow-gpu) (0.4.1)\n",
            "Requirement already satisfied: markdown>=2.6.8 in /usr/local/lib/python3.6/dist-packages (from tensorboard<2.1.0,>=2.0.0->tensorflow-gpu) (3.1.1)\n",
            "Requirement already satisfied: werkzeug>=0.11.15 in /usr/local/lib/python3.6/dist-packages (from tensorboard<2.1.0,>=2.0.0->tensorflow-gpu) (0.16.0)\n",
            "Requirement already satisfied: google-auth<2,>=1.6.3 in /usr/local/lib/python3.6/dist-packages (from tensorboard<2.1.0,>=2.0.0->tensorflow-gpu) (1.10.0)\n",
            "Requirement already satisfied: requests<3,>=2.21.0 in /usr/local/lib/python3.6/dist-packages (from tensorboard<2.1.0,>=2.0.0->tensorflow-gpu) (2.21.0)\n",
            "Requirement already satisfied: h5py in /usr/local/lib/python3.6/dist-packages (from keras-applications>=1.0.8->tensorflow-gpu) (2.8.0)\n",
            "Requirement already satisfied: requests-oauthlib>=0.7.0 in /usr/local/lib/python3.6/dist-packages (from google-auth-oauthlib<0.5,>=0.4.1->tensorboard<2.1.0,>=2.0.0->tensorflow-gpu) (1.3.0)\n",
            "Requirement already satisfied: cachetools<5.0,>=2.0.0 in /usr/local/lib/python3.6/dist-packages (from google-auth<2,>=1.6.3->tensorboard<2.1.0,>=2.0.0->tensorflow-gpu) (3.1.1)\n",
            "Requirement already satisfied: pyasn1-modules>=0.2.1 in /usr/local/lib/python3.6/dist-packages (from google-auth<2,>=1.6.3->tensorboard<2.1.0,>=2.0.0->tensorflow-gpu) (0.2.7)\n",
            "Requirement already satisfied: rsa<4.1,>=3.1.4 in /usr/local/lib/python3.6/dist-packages (from google-auth<2,>=1.6.3->tensorboard<2.1.0,>=2.0.0->tensorflow-gpu) (4.0)\n",
            "Requirement already satisfied: idna<2.9,>=2.5 in /usr/local/lib/python3.6/dist-packages (from requests<3,>=2.21.0->tensorboard<2.1.0,>=2.0.0->tensorflow-gpu) (2.8)\n",
            "Requirement already satisfied: chardet<3.1.0,>=3.0.2 in /usr/local/lib/python3.6/dist-packages (from requests<3,>=2.21.0->tensorboard<2.1.0,>=2.0.0->tensorflow-gpu) (3.0.4)\n",
            "Requirement already satisfied: certifi>=2017.4.17 in /usr/local/lib/python3.6/dist-packages (from requests<3,>=2.21.0->tensorboard<2.1.0,>=2.0.0->tensorflow-gpu) (2019.11.28)\n",
            "Requirement already satisfied: urllib3<1.25,>=1.21.1 in /usr/local/lib/python3.6/dist-packages (from requests<3,>=2.21.0->tensorboard<2.1.0,>=2.0.0->tensorflow-gpu) (1.24.3)\n",
            "Requirement already satisfied: oauthlib>=3.0.0 in /usr/local/lib/python3.6/dist-packages (from requests-oauthlib>=0.7.0->google-auth-oauthlib<0.5,>=0.4.1->tensorboard<2.1.0,>=2.0.0->tensorflow-gpu) (3.1.0)\n",
            "Requirement already satisfied: pyasn1<0.5.0,>=0.4.6 in /usr/local/lib/python3.6/dist-packages (from pyasn1-modules>=0.2.1->google-auth<2,>=1.6.3->tensorboard<2.1.0,>=2.0.0->tensorflow-gpu) (0.4.8)\n"
          ],
          "name": "stdout"
        }
      ]
    },
    {
      "cell_type": "code",
      "metadata": {
        "id": "hWuTutn93wSj",
        "colab_type": "code",
        "outputId": "2cd829a6-3fa4-4a66-f6fc-c9cf59949c39",
        "colab": {
          "base_uri": "https://localhost:8080/",
          "height": 212
        }
      },
      "source": [
        "!pip install kaggle --upgrade"
      ],
      "execution_count": 0,
      "outputs": [
        {
          "output_type": "stream",
          "text": [
            "Requirement already up-to-date: kaggle in /usr/local/lib/python3.6/dist-packages (1.5.6)\n",
            "Requirement already satisfied, skipping upgrade: python-slugify in /usr/local/lib/python3.6/dist-packages (from kaggle) (4.0.0)\n",
            "Requirement already satisfied, skipping upgrade: certifi in /usr/local/lib/python3.6/dist-packages (from kaggle) (2019.11.28)\n",
            "Requirement already satisfied, skipping upgrade: tqdm in /usr/local/lib/python3.6/dist-packages (from kaggle) (4.28.1)\n",
            "Requirement already satisfied, skipping upgrade: requests in /usr/local/lib/python3.6/dist-packages (from kaggle) (2.21.0)\n",
            "Requirement already satisfied, skipping upgrade: python-dateutil in /usr/local/lib/python3.6/dist-packages (from kaggle) (2.6.1)\n",
            "Requirement already satisfied, skipping upgrade: urllib3<1.25,>=1.21.1 in /usr/local/lib/python3.6/dist-packages (from kaggle) (1.24.3)\n",
            "Requirement already satisfied, skipping upgrade: six>=1.10 in /usr/local/lib/python3.6/dist-packages (from kaggle) (1.12.0)\n",
            "Requirement already satisfied, skipping upgrade: text-unidecode>=1.3 in /usr/local/lib/python3.6/dist-packages (from python-slugify->kaggle) (1.3)\n",
            "Requirement already satisfied, skipping upgrade: idna<2.9,>=2.5 in /usr/local/lib/python3.6/dist-packages (from requests->kaggle) (2.8)\n",
            "Requirement already satisfied, skipping upgrade: chardet<3.1.0,>=3.0.2 in /usr/local/lib/python3.6/dist-packages (from requests->kaggle) (3.0.4)\n"
          ],
          "name": "stdout"
        }
      ]
    },
    {
      "cell_type": "code",
      "metadata": {
        "id": "UULXKrRxzL3u",
        "colab_type": "code",
        "colab": {}
      },
      "source": [
        "import numpy as np\n",
        "import tensorflow as tf\n",
        "import pandas as pd"
      ],
      "execution_count": 0,
      "outputs": []
    },
    {
      "cell_type": "code",
      "metadata": {
        "id": "HS1SfLAdPAwV",
        "colab_type": "code",
        "outputId": "3c3bb7aa-3a73-4f13-de46-ecf2a1870d47",
        "colab": {
          "base_uri": "https://localhost:8080/",
          "height": 34
        }
      },
      "source": [
        "tf.test.gpu_device_name()"
      ],
      "execution_count": 0,
      "outputs": [
        {
          "output_type": "execute_result",
          "data": {
            "text/plain": [
              "'/device:GPU:0'"
            ]
          },
          "metadata": {
            "tags": []
          },
          "execution_count": 4
        }
      ]
    },
    {
      "cell_type": "code",
      "metadata": {
        "id": "lc6dNIMw3sSp",
        "colab_type": "code",
        "colab": {}
      },
      "source": [
        "import os\n",
        "os.environ['KAGGLE_USERNAME'] = \"tselischevivaniad5\" # username from the json file\n",
        "os.environ['KAGGLE_KEY'] = # key from the json file"
      ],
      "execution_count": 0,
      "outputs": []
    },
    {
      "cell_type": "markdown",
      "metadata": {
        "id": "nxDQLymRXhTn",
        "colab_type": "text"
      },
      "source": [
        "**Загрузка данных**"
      ]
    },
    {
      "cell_type": "code",
      "metadata": {
        "id": "dk_kfCLyQVov",
        "colab_type": "code",
        "outputId": "1947e539-e485-423f-c7a1-e4bcbf7f6e41",
        "colab": {
          "base_uri": "https://localhost:8080/",
          "height": 354
        }
      },
      "source": [
        "!kaggle competitions download -c chinese-char-recognition-smmo19"
      ],
      "execution_count": 0,
      "outputs": [
        {
          "output_type": "stream",
          "text": [
            "Warning: Looks like you're using an outdated API Version, please consider updating (server 1.5.6 / client 1.5.4)\n",
            "Downloading train-4.npy.zip to /content\n",
            " 96% 187M/195M [00:03<00:00, 56.4MB/s]\n",
            "100% 195M/195M [00:03<00:00, 59.7MB/s]\n",
            "Downloading train-1.npy.zip to /content\n",
            " 96% 108M/113M [00:01<00:00, 74.0MB/s] \n",
            "100% 113M/113M [00:01<00:00, 86.3MB/s]\n",
            "Downloading train-2.npy.zip to /content\n",
            " 96% 159M/165M [00:01<00:00, 96.5MB/s]\n",
            "100% 165M/165M [00:02<00:00, 83.5MB/s]\n",
            "Downloading test.npy.zip to /content\n",
            "100% 202M/202M [00:00<00:00, 192MB/s]\n",
            "\n",
            "Downloading random_labels.csv to /content\n",
            "  0% 0.00/965k [00:00<?, ?B/s]\n",
            "100% 965k/965k [00:00<00:00, 134MB/s]\n",
            "Downloading train-3.npy.zip to /content\n",
            " 92% 170M/185M [00:00<00:00, 168MB/s]\n",
            "100% 185M/185M [00:00<00:00, 212MB/s]\n"
          ],
          "name": "stdout"
        }
      ]
    },
    {
      "cell_type": "code",
      "metadata": {
        "id": "_ildftG7Rk9a",
        "colab_type": "code",
        "outputId": "fdc1212d-25ca-4ae4-9c7d-9540c675923d",
        "colab": {
          "base_uri": "https://localhost:8080/",
          "height": 301
        }
      },
      "source": [
        "!unzip \\*.zip"
      ],
      "execution_count": 0,
      "outputs": [
        {
          "output_type": "stream",
          "text": [
            "Archive:  train-1.npy.zip\n",
            "  inflating: train-1.npy             \n",
            "\n",
            "Archive:  train-3.npy.zip\n",
            "  inflating: train-3.npy             \n",
            "\n",
            "Archive:  train-2.npy.zip\n",
            "  inflating: train-2.npy             \n",
            "\n",
            "Archive:  test.npy.zip\n",
            "  inflating: test.npy                \n",
            "\n",
            "Archive:  train-4.npy.zip\n",
            "  inflating: train-4.npy             \n",
            "\n",
            "5 archives were successfully processed.\n"
          ],
          "name": "stdout"
        }
      ]
    },
    {
      "cell_type": "code",
      "metadata": {
        "id": "Or9R5Ubfa4ac",
        "colab_type": "code",
        "outputId": "361b1ba3-90da-41d1-bb60-616290c97bf1",
        "colab": {
          "base_uri": "https://localhost:8080/",
          "height": 34
        }
      },
      "source": [
        "data_test = np.load(\"./test.npy\", allow_pickle=True)\n",
        "data_test.shape"
      ],
      "execution_count": 0,
      "outputs": [
        {
          "output_type": "execute_result",
          "data": {
            "text/plain": [
              "(83247,)"
            ]
          },
          "metadata": {
            "tags": []
          },
          "execution_count": 8
        }
      ]
    },
    {
      "cell_type": "code",
      "metadata": {
        "id": "ciXpAlgPR0A2",
        "colab_type": "code",
        "colab": {}
      },
      "source": [
        "data_train = np.load(\"./train-1.npy\", allow_pickle=True)\n",
        "for i in range(2,5):\n",
        "  t = np.load(f\"./train-{i}.npy\", allow_pickle=True)\n",
        "  data_train = np.concatenate([data_train,t])"
      ],
      "execution_count": 0,
      "outputs": []
    },
    {
      "cell_type": "markdown",
      "metadata": {
        "id": "36OnBFG7XlKj",
        "colab_type": "text"
      },
      "source": [
        "**Словари для Unicode-Id и Id-Unicode**"
      ]
    },
    {
      "cell_type": "code",
      "metadata": {
        "id": "uaLqfJ7qcse1",
        "colab_type": "code",
        "colab": {}
      },
      "source": [
        "char_to_id = {label:int(idx) for idx,label in enumerate(np.unique(data_train[:,1]))}\n",
        "id_to_char = {idx:label for label,idx in char_to_id.items()}"
      ],
      "execution_count": 0,
      "outputs": []
    },
    {
      "cell_type": "code",
      "metadata": {
        "id": "Y_rcF865t3o_",
        "colab_type": "code",
        "colab": {}
      },
      "source": [
        "np.random.shuffle(data_train)"
      ],
      "execution_count": 0,
      "outputs": []
    },
    {
      "cell_type": "code",
      "metadata": {
        "id": "MKpJsGN1rsoI",
        "colab_type": "code",
        "outputId": "9818dc5d-bbe6-46d8-9d81-5a214094e6b5",
        "colab": {
          "base_uri": "https://localhost:8080/",
          "height": 34
        }
      },
      "source": [
        "char_to_id[60100]"
      ],
      "execution_count": 0,
      "outputs": [
        {
          "output_type": "execute_result",
          "data": {
            "text/plain": [
              "193"
            ]
          },
          "metadata": {
            "tags": []
          },
          "execution_count": 12
        }
      ]
    },
    {
      "cell_type": "code",
      "metadata": {
        "id": "uqutBSdCr0pC",
        "colab_type": "code",
        "outputId": "268d6f10-5913-49f3-9631-5117abf4ae48",
        "colab": {
          "base_uri": "https://localhost:8080/",
          "height": 34
        }
      },
      "source": [
        "id_to_char[193]"
      ],
      "execution_count": 0,
      "outputs": [
        {
          "output_type": "execute_result",
          "data": {
            "text/plain": [
              "60100"
            ]
          },
          "metadata": {
            "tags": []
          },
          "execution_count": 13
        }
      ]
    },
    {
      "cell_type": "markdown",
      "metadata": {
        "id": "6eYETqL3X0hD",
        "colab_type": "text"
      },
      "source": [
        "**Несколько иероглифов из трейна**"
      ]
    },
    {
      "cell_type": "code",
      "metadata": {
        "id": "EXMAvCUhW1uE",
        "colab_type": "code",
        "outputId": "3a3aae0d-80cd-48c7-ec08-9943acc163e0",
        "colab": {
          "base_uri": "https://localhost:8080/",
          "height": 808
        }
      },
      "source": [
        "import matplotlib.pyplot as plt\n",
        "\n",
        "for image, label in data_train[:3,:]:\n",
        "  plt.figure()\n",
        "  plt.imshow(image)\n",
        "  plt.title(str(label))"
      ],
      "execution_count": 0,
      "outputs": [
        {
          "output_type": "display_data",
          "data": {
            "image/png": "[encoded data removed]",
            "text/plain": [
              "<Figure size 432x288 with 1 Axes>"
            ]
          },
          "metadata": {
            "tags": []
          }
        },
        {
          "output_type": "display_data",
          "data": {
            "image/png": "[encoded data removed]",
            "text/plain": [
              "<Figure size 432x288 with 1 Axes>"
            ]
          },
          "metadata": {
            "tags": []
          }
        },
        {
          "output_type": "display_data",
          "data": {
            "image/png": "[encoded data removed]",
            "text/plain": [
              "<Figure size 432x288 with 1 Axes>"
            ]
          },
          "metadata": {
            "tags": []
          }
        }
      ]
    },
    {
      "cell_type": "markdown",
      "metadata": {
        "id": "ppw8aWUsX5ms",
        "colab_type": "text"
      },
      "source": [
        "**Preprocessing, generators**"
      ]
    },
    {
      "cell_type": "code",
      "metadata": {
        "id": "0DfWVji8ieIW",
        "colab_type": "code",
        "colab": {}
      },
      "source": [
        "val_size = 0.1\n",
        "batch_size = 128"
      ],
      "execution_count": 0,
      "outputs": []
    },
    {
      "cell_type": "code",
      "metadata": {
        "id": "C1D0un7CTEmb",
        "colab_type": "code",
        "colab": {}
      },
      "source": [
        "def train_gen():\n",
        "  for img, label in data_train[int(len(data_train)*val_size):]:\n",
        "    img = img[..., None]\n",
        "    yield img, char_to_id[label]"
      ],
      "execution_count": 0,
      "outputs": []
    },
    {
      "cell_type": "code",
      "metadata": {
        "id": "k_s9N45FevEM",
        "colab_type": "code",
        "colab": {}
      },
      "source": [
        "IMG_SIZE = 64\n",
        "def preprocess_train(image, label):\n",
        "    image = tf.cast(image, tf.float32)\n",
        "    image = (image / 127.5) - 1\n",
        "    image = tf.image.resize(image, (IMG_SIZE, IMG_SIZE))\n",
        "    label = tf.one_hot(label, 1000)\n",
        "    return image, label"
      ],
      "execution_count": 0,
      "outputs": []
    },
    {
      "cell_type": "code",
      "metadata": {
        "id": "Ez-MCk1rhqkK",
        "colab_type": "code",
        "colab": {}
      },
      "source": [
        "ds_train = tf.data.Dataset.from_generator(train_gen, output_types=(tf.float32, tf.int32), \n",
        "                                     output_shapes=((None, None, 1), ())).map(preprocess_train, num_parallel_calls=-1).prefetch(-1).shuffle(1024).batch(batch_size).repeat()"
      ],
      "execution_count": 0,
      "outputs": []
    },
    {
      "cell_type": "code",
      "metadata": {
        "id": "bIXkKbw1iqAH",
        "colab_type": "code",
        "outputId": "2264317a-d176-4867-fade-88117636af37",
        "colab": {
          "base_uri": "https://localhost:8080/",
          "height": 301
        }
      },
      "source": [
        "for im, val in ds_train.take(2):\n",
        "  print(val)"
      ],
      "execution_count": 0,
      "outputs": [
        {
          "output_type": "stream",
          "text": [
            "tf.Tensor(\n",
            "[[0. 0. 0. ... 0. 0. 0.]\n",
            " [0. 0. 0. ... 0. 0. 0.]\n",
            " [0. 0. 0. ... 0. 0. 0.]\n",
            " ...\n",
            " [0. 0. 0. ... 0. 0. 0.]\n",
            " [0. 0. 0. ... 0. 0. 0.]\n",
            " [0. 0. 0. ... 0. 0. 0.]], shape=(128, 1000), dtype=float32)\n",
            "tf.Tensor(\n",
            "[[0. 0. 0. ... 0. 0. 0.]\n",
            " [0. 0. 0. ... 0. 0. 0.]\n",
            " [0. 0. 0. ... 0. 0. 0.]\n",
            " ...\n",
            " [0. 0. 0. ... 0. 0. 0.]\n",
            " [0. 0. 0. ... 0. 0. 0.]\n",
            " [0. 0. 0. ... 0. 0. 0.]], shape=(128, 1000), dtype=float32)\n"
          ],
          "name": "stdout"
        }
      ]
    },
    {
      "cell_type": "code",
      "metadata": {
        "id": "W9r5pJs6leKh",
        "colab_type": "code",
        "colab": {}
      },
      "source": [
        "def val_gen():\n",
        "    for img, label in data_train[:int(len(data_train)*val_size)]:\n",
        "      img = img[..., None]\n",
        "      yield img, char_to_id[label]"
      ],
      "execution_count": 0,
      "outputs": []
    },
    {
      "cell_type": "code",
      "metadata": {
        "id": "nMkUbgZNHnwR",
        "colab_type": "code",
        "colab": {}
      },
      "source": [
        "def test_gen():\n",
        "    for img in data_test:\n",
        "      img = img[..., None]\n",
        "      yield img"
      ],
      "execution_count": 0,
      "outputs": []
    },
    {
      "cell_type": "code",
      "metadata": {
        "id": "QRPdVoSDIFVM",
        "colab_type": "code",
        "colab": {}
      },
      "source": [
        "def preprocess_test(image):\n",
        "    image = tf.cast(image, tf.float32)\n",
        "    image = (image / 127.5) - 1\n",
        "    image = tf.image.resize(image, (IMG_SIZE, IMG_SIZE))\n",
        "    return image"
      ],
      "execution_count": 0,
      "outputs": []
    },
    {
      "cell_type": "code",
      "metadata": {
        "id": "kYxWaiNNleOg",
        "colab_type": "code",
        "colab": {}
      },
      "source": [
        "ds_val = tf.data.Dataset.from_generator(val_gen, output_types=(tf.float32, tf.int32), \n",
        "                                     output_shapes=((None, None, 1), ())).map(preprocess_train, \n",
        "                                                                          num_parallel_calls=-1).prefetch(-1).shuffle(1024).batch(batch_size).repeat()"
      ],
      "execution_count": 0,
      "outputs": []
    },
    {
      "cell_type": "code",
      "metadata": {
        "id": "SFp5cio0IL-d",
        "colab_type": "code",
        "colab": {}
      },
      "source": [
        "ds_test = tf.data.Dataset.from_generator(test_gen, output_types=(tf.float32), \n",
        "                                     output_shapes=(None, None, 1)).map(preprocess_test, \n",
        "                                                                          num_parallel_calls=-1).prefetch(-1).batch(batch_size)#.repeat()"
      ],
      "execution_count": 0,
      "outputs": []
    },
    {
      "cell_type": "markdown",
      "metadata": {
        "id": "LVdPYWirYAl8",
        "colab_type": "text"
      },
      "source": [
        "**Модель и обучение**"
      ]
    },
    {
      "cell_type": "code",
      "metadata": {
        "id": "Hln-37AqJ98I",
        "colab_type": "code",
        "colab": {}
      },
      "source": [
        "def make_model2():    \n",
        "    model2 = tf.keras.Sequential()\n",
        "\n",
        "    model2.add(tf.keras.layers.Conv2D(filters=64, padding='same', kernel_size=(3,3), input_shape=(64,64,1), kernel_initializer=tf.keras.initializers.lecun_uniform()))\n",
        "    model2.add(tf.keras.layers.LeakyReLU(0.1))\n",
        "    model2.add(tf.keras.layers.Conv2D(filters=64, padding='same', kernel_size=(3,3), kernel_initializer=tf.keras.initializers.lecun_uniform())) \n",
        "    model2.add(tf.keras.layers.LeakyReLU(0.1))\n",
        "    model2.add(tf.keras.layers.MaxPooling2D(pool_size=(2,2), padding='same'))\n",
        "    model2.add(tf.keras.layers.Dropout(0.2))\n",
        "\n",
        "    model2.add(tf.keras.layers.Conv2D(filters=128, padding='same', kernel_size=(3,3), kernel_initializer=tf.keras.initializers.lecun_uniform()))\n",
        "    model2.add(tf.keras.layers.LeakyReLU(0.1))\n",
        "    model2.add(tf.keras.layers.Conv2D(filters=128, padding='same', kernel_size=(3,3), kernel_initializer=tf.keras.initializers.lecun_uniform()))\n",
        "    model2.add(tf.keras.layers.LeakyReLU(0.1))\n",
        "    model2.add(tf.keras.layers.MaxPooling2D(pool_size=(2,2), padding='same'))\n",
        "    model2.add(tf.keras.layers.Dropout(0.2))\n",
        "\n",
        "    model2.add(tf.keras.layers.Conv2D(filters=256, padding='same', kernel_size=(3,3), kernel_initializer=tf.keras.initializers.lecun_uniform()))\n",
        "    model2.add(tf.keras.layers.LeakyReLU(0.1))\n",
        "    model2.add(tf.keras.layers.Conv2D(filters=256, padding='same', kernel_size=(3,3), kernel_initializer=tf.keras.initializers.lecun_uniform()))\n",
        "    model2.add(tf.keras.layers.LeakyReLU(0.1))\n",
        "    model2.add(tf.keras.layers.MaxPooling2D(pool_size=(2,2), padding='same'))\n",
        "    model2.add(tf.keras.layers.Dropout(0.3))\n",
        "\n",
        "    model2.add(tf.keras.layers.Conv2D(filters=512, padding='same', kernel_size=(3,3), kernel_initializer=tf.keras.initializers.lecun_uniform()))\n",
        "    model2.add(tf.keras.layers.LeakyReLU(0.1))\n",
        "    model2.add(tf.keras.layers.Conv2D(filters=512, padding='same', kernel_size=(3,3), kernel_initializer=tf.keras.initializers.lecun_uniform()))\n",
        "    model2.add(tf.keras.layers.LeakyReLU(0.1))\n",
        "    model2.add(tf.keras.layers.MaxPooling2D(pool_size=(2,2), padding='same'))\n",
        "    model2.add(tf.keras.layers.Dropout(0.4))\n",
        "\n",
        "    model2.add(tf.keras.layers.Flatten())\n",
        "    model2.add(tf.keras.layers.Dense(1024, kernel_initializer=tf.keras.initializers.lecun_uniform()))               \n",
        "    model2.add(tf.keras.layers.LeakyReLU(0.1))\n",
        "    model2.add(tf.keras.layers.Dropout(0.5))  \n",
        "    model2.add(tf.keras.layers.Dense(1024, kernel_initializer=tf.keras.initializers.lecun_uniform()))                \n",
        "    model2.add(tf.keras.layers.LeakyReLU(0.1))\n",
        "    model2.add(tf.keras.layers.Dropout(0.5))\n",
        "    model2.add(tf.keras.layers.Dense(1000, kernel_initializer=tf.keras.initializers.lecun_uniform()))   \n",
        "    model2.add(tf.keras.layers.Activation('softmax'))          \n",
        "    return model2"
      ],
      "execution_count": 0,
      "outputs": []
    },
    {
      "cell_type": "code",
      "metadata": {
        "id": "aoU0PU75i4qi",
        "colab_type": "code",
        "outputId": "386aa733-42cf-4d34-ad96-84627ad32145",
        "colab": {
          "base_uri": "https://localhost:8080/",
          "height": 1000
        }
      },
      "source": [
        "EPOCHS = 22\n",
        "INIT_LR = 5e-3#INIT_LR = 0.001\n",
        "model2 = make_model2()\n",
        "model2.summary()\n",
        "model2.compile(\n",
        "    loss='categorical_crossentropy',\n",
        "    optimizer=tf.keras.optimizers.Adamax(learning_rate=INIT_LR),\n",
        "    metrics=['categorical_accuracy']\n",
        ")\n",
        "def lr_scheduler(epoch):\n",
        "    return INIT_LR * 0.9 ** epoch\n",
        "\n",
        "model2.fit(\n",
        "    ds_train,\n",
        "    epochs=EPOCHS,\n",
        "    callbacks=[\n",
        "               tf.keras.callbacks.LearningRateScheduler(lr_scheduler),\n",
        "               tf.keras.callbacks.EarlyStopping(monitor='val_loss', patience=3),\n",
        "              ],\n",
        "    validation_data=ds_val,\n",
        "    validation_steps=200,\n",
        "    steps_per_epoch=2000\n",
        ")"
      ],
      "execution_count": 0,
      "outputs": [
        {
          "output_type": "stream",
          "text": [
            "Model: \"sequential\"\n",
            "_________________________________________________________________\n",
            "Layer (type)                 Output Shape              Param #   \n",
            "=================================================================\n",
            "conv2d (Conv2D)              (None, 64, 64, 64)        640       \n",
            "_________________________________________________________________\n",
            "leaky_re_lu (LeakyReLU)      (None, 64, 64, 64)        0         \n",
            "_________________________________________________________________\n",
            "conv2d_1 (Conv2D)            (None, 64, 64, 64)        36928     \n",
            "_________________________________________________________________\n",
            "leaky_re_lu_1 (LeakyReLU)    (None, 64, 64, 64)        0         \n",
            "_________________________________________________________________\n",
            "max_pooling2d (MaxPooling2D) (None, 32, 32, 64)        0         \n",
            "_________________________________________________________________\n",
            "dropout (Dropout)            (None, 32, 32, 64)        0         \n",
            "_________________________________________________________________\n",
            "conv2d_2 (Conv2D)            (None, 32, 32, 128)       73856     \n",
            "_________________________________________________________________\n",
            "leaky_re_lu_2 (LeakyReLU)    (None, 32, 32, 128)       0         \n",
            "_________________________________________________________________\n",
            "conv2d_3 (Conv2D)            (None, 32, 32, 128)       147584    \n",
            "_________________________________________________________________\n",
            "leaky_re_lu_3 (LeakyReLU)    (None, 32, 32, 128)       0         \n",
            "_________________________________________________________________\n",
            "max_pooling2d_1 (MaxPooling2 (None, 16, 16, 128)       0         \n",
            "_________________________________________________________________\n",
            "dropout_1 (Dropout)          (None, 16, 16, 128)       0         \n",
            "_________________________________________________________________\n",
            "conv2d_4 (Conv2D)            (None, 16, 16, 256)       295168    \n",
            "_________________________________________________________________\n",
            "leaky_re_lu_4 (LeakyReLU)    (None, 16, 16, 256)       0         \n",
            "_________________________________________________________________\n",
            "conv2d_5 (Conv2D)            (None, 16, 16, 256)       590080    \n",
            "_________________________________________________________________\n",
            "leaky_re_lu_5 (LeakyReLU)    (None, 16, 16, 256)       0         \n",
            "_________________________________________________________________\n",
            "max_pooling2d_2 (MaxPooling2 (None, 8, 8, 256)         0         \n",
            "_________________________________________________________________\n",
            "dropout_2 (Dropout)          (None, 8, 8, 256)         0         \n",
            "_________________________________________________________________\n",
            "conv2d_6 (Conv2D)            (None, 8, 8, 512)         1180160   \n",
            "_________________________________________________________________\n",
            "leaky_re_lu_6 (LeakyReLU)    (None, 8, 8, 512)         0         \n",
            "_________________________________________________________________\n",
            "conv2d_7 (Conv2D)            (None, 8, 8, 512)         2359808   \n",
            "_________________________________________________________________\n",
            "leaky_re_lu_7 (LeakyReLU)    (None, 8, 8, 512)         0         \n",
            "_________________________________________________________________\n",
            "max_pooling2d_3 (MaxPooling2 (None, 4, 4, 512)         0         \n",
            "_________________________________________________________________\n",
            "dropout_3 (Dropout)          (None, 4, 4, 512)         0         \n",
            "_________________________________________________________________\n",
            "flatten (Flatten)            (None, 8192)              0         \n",
            "_________________________________________________________________\n",
            "dense (Dense)                (None, 1024)              8389632   \n",
            "_________________________________________________________________\n",
            "leaky_re_lu_8 (LeakyReLU)    (None, 1024)              0         \n",
            "_________________________________________________________________\n",
            "dropout_4 (Dropout)          (None, 1024)              0         \n",
            "_________________________________________________________________\n",
            "dense_1 (Dense)              (None, 1024)              1049600   \n",
            "_________________________________________________________________\n",
            "leaky_re_lu_9 (LeakyReLU)    (None, 1024)              0         \n",
            "_________________________________________________________________\n",
            "dropout_5 (Dropout)          (None, 1024)              0         \n",
            "_________________________________________________________________\n",
            "dense_2 (Dense)              (None, 1000)              1025000   \n",
            "_________________________________________________________________\n",
            "activation (Activation)      (None, 1000)              0         \n",
            "=================================================================\n",
            "Total params: 15,148,456\n",
            "Trainable params: 15,148,456\n",
            "Non-trainable params: 0\n",
            "_________________________________________________________________\n",
            "Train for 2000 steps, validate for 200 steps\n",
            "Epoch 1/22\n",
            "2000/2000 [==============================] - 375s 187ms/step - loss: 8.7673 - categorical_accuracy: 0.0023 - val_loss: 5.8049 - val_categorical_accuracy: 0.0252\n",
            "Epoch 2/22\n",
            "2000/2000 [==============================] - 373s 186ms/step - loss: 3.3776 - categorical_accuracy: 0.3013 - val_loss: 0.4754 - val_categorical_accuracy: 0.8691\n",
            "Epoch 3/22\n",
            "2000/2000 [==============================] - 372s 186ms/step - loss: 0.6957 - categorical_accuracy: 0.8065 - val_loss: 0.2231 - val_categorical_accuracy: 0.9391\n",
            "Epoch 4/22\n",
            "2000/2000 [==============================] - 372s 186ms/step - loss: 0.4061 - categorical_accuracy: 0.8860 - val_loss: 0.1272 - val_categorical_accuracy: 0.9657\n",
            "Epoch 5/22\n",
            "2000/2000 [==============================] - 372s 186ms/step - loss: 0.2931 - categorical_accuracy: 0.9170 - val_loss: 0.0976 - val_categorical_accuracy: 0.9748\n",
            "Epoch 6/22\n",
            "2000/2000 [==============================] - 372s 186ms/step - loss: 0.2284 - categorical_accuracy: 0.9349 - val_loss: 0.0704 - val_categorical_accuracy: 0.9820\n",
            "Epoch 7/22\n",
            "2000/2000 [==============================] - 372s 186ms/step - loss: 0.1910 - categorical_accuracy: 0.9454 - val_loss: 0.0636 - val_categorical_accuracy: 0.9847\n",
            "Epoch 8/22\n",
            "2000/2000 [==============================] - 371s 186ms/step - loss: 0.1569 - categorical_accuracy: 0.9555 - val_loss: 0.0558 - val_categorical_accuracy: 0.9868\n",
            "Epoch 9/22\n",
            "2000/2000 [==============================] - 372s 186ms/step - loss: 0.1359 - categorical_accuracy: 0.9605 - val_loss: 0.0501 - val_categorical_accuracy: 0.9882\n",
            "Epoch 10/22\n",
            "2000/2000 [==============================] - 372s 186ms/step - loss: 0.1167 - categorical_accuracy: 0.9663 - val_loss: 0.0432 - val_categorical_accuracy: 0.9904\n",
            "Epoch 11/22\n",
            "2000/2000 [==============================] - 372s 186ms/step - loss: 0.1006 - categorical_accuracy: 0.9707 - val_loss: 0.0419 - val_categorical_accuracy: 0.9918\n",
            "Epoch 12/22\n",
            "2000/2000 [==============================] - 372s 186ms/step - loss: 0.0863 - categorical_accuracy: 0.9742 - val_loss: 0.0394 - val_categorical_accuracy: 0.9920\n",
            "Epoch 13/22\n",
            "2000/2000 [==============================] - 372s 186ms/step - loss: 0.0753 - categorical_accuracy: 0.9777 - val_loss: 0.0372 - val_categorical_accuracy: 0.9923\n",
            "Epoch 14/22\n",
            "2000/2000 [==============================] - 371s 186ms/step - loss: 0.0651 - categorical_accuracy: 0.9808 - val_loss: 0.0349 - val_categorical_accuracy: 0.9924\n",
            "Epoch 15/22\n",
            "2000/2000 [==============================] - 371s 186ms/step - loss: 0.0592 - categorical_accuracy: 0.9825 - val_loss: 0.0360 - val_categorical_accuracy: 0.9934\n",
            "Epoch 16/22\n",
            "2000/2000 [==============================] - 371s 186ms/step - loss: 0.0534 - categorical_accuracy: 0.9839 - val_loss: 0.0340 - val_categorical_accuracy: 0.9935\n",
            "Epoch 17/22\n",
            "2000/2000 [==============================] - 372s 186ms/step - loss: 0.0468 - categorical_accuracy: 0.9859 - val_loss: 0.0322 - val_categorical_accuracy: 0.9941\n",
            "Epoch 18/22\n",
            "2000/2000 [==============================] - 372s 186ms/step - loss: 0.0415 - categorical_accuracy: 0.9874 - val_loss: 0.0331 - val_categorical_accuracy: 0.9942\n",
            "Epoch 19/22\n",
            "2000/2000 [==============================] - 371s 186ms/step - loss: 0.0373 - categorical_accuracy: 0.9886 - val_loss: 0.0354 - val_categorical_accuracy: 0.9943\n",
            "Epoch 20/22\n",
            "2000/2000 [==============================] - 372s 186ms/step - loss: 0.0334 - categorical_accuracy: 0.9898 - val_loss: 0.0313 - val_categorical_accuracy: 0.9943\n",
            "Epoch 21/22\n",
            "2000/2000 [==============================] - 371s 186ms/step - loss: 0.0311 - categorical_accuracy: 0.9904 - val_loss: 0.0299 - val_categorical_accuracy: 0.9950\n",
            "Epoch 22/22\n",
            "2000/2000 [==============================] - 371s 186ms/step - loss: 0.0285 - categorical_accuracy: 0.9912 - val_loss: 0.0313 - val_categorical_accuracy: 0.9946\n"
          ],
          "name": "stdout"
        },
        {
          "output_type": "execute_result",
          "data": {
            "text/plain": [
              "<tensorflow.python.keras.callbacks.History at 0x7fa5e02b1cc0>"
            ]
          },
          "metadata": {
            "tags": []
          },
          "execution_count": 27
        }
      ]
    },
    {
      "cell_type": "markdown",
      "metadata": {
        "id": "_ENCOokEYFcV",
        "colab_type": "text"
      },
      "source": [
        "**Предсказание и сабмит**"
      ]
    },
    {
      "cell_type": "code",
      "metadata": {
        "id": "et719_H1k7yN",
        "colab_type": "code",
        "colab": {}
      },
      "source": [
        "y_pred2 = model2.predict(ds_test)\n",
        "y_pred2 = y_pred2.argmax(-1)\n",
        "y_pred2 = [id_to_char[c] for c in y_pred2]\n",
        "csv2 = pd.read_csv('./random_labels.csv')\n",
        "csv2['Category'] = y_pred2\n",
        "csv2.to_csv(\"submission4.csv\", index=False)"
      ],
      "execution_count": 0,
      "outputs": []
    },
    {
      "cell_type": "code",
      "metadata": {
        "id": "tF6tXG628GQl",
        "colab_type": "code",
        "outputId": "7778f06b-ab3f-479a-cda3-210871d1a2b7",
        "colab": {
          "base_uri": "https://localhost:8080/",
          "height": 34
        }
      },
      "source": [
        "csv2.shape"
      ],
      "execution_count": 0,
      "outputs": [
        {
          "output_type": "execute_result",
          "data": {
            "text/plain": [
              "(83247, 2)"
            ]
          },
          "metadata": {
            "tags": []
          },
          "execution_count": 29
        }
      ]
    },
    {
      "cell_type": "code",
      "metadata": {
        "id": "KhtCcx3-FyO5",
        "colab_type": "code",
        "outputId": "2ec75d08-4148-408c-fa44-7293aeb424e9",
        "colab": {
          "base_uri": "https://localhost:8080/",
          "height": 70
        }
      },
      "source": [
        "!kaggle competitions submit -c chinese-char-recognition-smmo19 -f submission4.csv -m \"Submission4\""
      ],
      "execution_count": 0,
      "outputs": [
        {
          "output_type": "stream",
          "text": [
            "Warning: Looks like you're using an outdated API Version, please consider updating (server 1.5.6 / client 1.5.4)\n",
            "100% 965k/965k [00:02<00:00, 426kB/s]\n",
            "Successfully submitted to Chinese character recognition"
          ],
          "name": "stdout"
        }
      ]
    }
  ]
}
